{
 "cells": [
  {
   "cell_type": "code",
   "execution_count": 32,
   "metadata": {},
   "outputs": [],
   "source": [
    "from sklearn import model_selection\n",
    "from sklearn.model_selection import GridSearchCV, cross_val_score\n",
    "import json\n",
    "from sklearn.svm import SVC  \n",
    "from IPython.display import SVG\n",
    "from mlxtend.evaluate import confusion_matrix \n",
    "from mlxtend.plotting import plot_confusion_matrix\n",
    "from sklearn.utils import resample\n",
    "from mlxtend.plotting import plot_confusion_matrix\n",
    "from matplotlib.legend_handler import HandlerLine2D\n",
    "from sklearn.model_selection import cross_validate\n",
    "from sklearn.tree import DecisionTreeClassifier\n",
    "import pandas as pd\n",
    "from sklearn.feature_extraction.text import TfidfVectorizer\n",
    "from sklearn.feature_extraction.text import CountVectorizer\n",
    "import matplotlib.pyplot as plt\n",
    "#inline plotting\n",
    "%matplotlib inline\n",
    "import seaborn as sns\n",
    "from sklearn.pipeline import Pipeline,make_pipeline\n",
    "import nltk\n",
    "from nltk.corpus import stopwords\n",
    "import re\n",
    "import numpy as np\n",
    "from nltk.stem.snowball import SnowballStemmer\n",
    "from sklearn.model_selection import train_test_split\n",
    "from sklearn.neighbors import KNeighborsClassifier\n",
    "from sklearn.metrics import confusion_matrix\n",
    "from sklearn.svm import SVC  \n",
    "from sklearn.metrics import classification_report, confusion_matrix, accuracy_score,make_scorer,f1_score\n",
    "from sklearn.naive_bayes import MultinomialNB\n",
    "from sklearn.utils import resample"
   ]
  },
  {
   "cell_type": "code",
   "execution_count": 3,
   "metadata": {},
   "outputs": [],
   "source": [
    "#Load Dataset for tweet and tag \n",
    "def Load_data(path):\n",
    "    with open(path) as json_data:\n",
    "        data=json.load(json_data)\n",
    "    new_data = []\n",
    "    for item in data:\n",
    "        new_entry = {}\n",
    "        for k,v in item.items():\n",
    "        # a dictionary will return True for isinstance(v, dict)\n",
    "            if not isinstance(v, dict):\n",
    "            # v is not a dictionary here\n",
    "                new_entry[k] = v\n",
    "            else:\n",
    "            # v is a dictionary, so we flatten it\n",
    "                 for a,b in v.items():\n",
    "                     new_entry[a] = b\n",
    "        new_data.append(new_entry)\n",
    "    return pd.DataFrame(new_data)"
   ]
  },
  {
   "cell_type": "code",
   "execution_count": 8,
   "metadata": {},
   "outputs": [],
   "source": [
    "path = '/Users/Anfal/Downloads/Automatic-Detection-of-Rumors-on-Twitter-master/Automatic-Detection-of-Rumors-on-Twitter-master/Dataset.json'\n",
    "tweet=Load_data(path)"
   ]
  },
  {
   "cell_type": "markdown",
   "metadata": {},
   "source": [
    "# Preprocessing"
   ]
  },
  {
   "cell_type": "markdown",
   "metadata": {},
   "source": [
    "### first  clean process to text then apply snowball Stremmer"
   ]
  },
  {
   "cell_type": "markdown",
   "metadata": {},
   "source": [
    "#### Preprocessing"
   ]
  },
  {
   "cell_type": "code",
   "execution_count": 9,
   "metadata": {},
   "outputs": [],
   "source": [
    "def processTweet1(tweet):\n",
    "    # Remove HTML special entities (e.g. &)\n",
    "    tweet = re.sub(r'\\&\\w*;', '', tweet)\n",
    "    # To lowercase\n",
    "    tweet = tweet.lower()\n",
    "    # Remove hyperlinks\n",
    "    tweet = re.sub(r'https?:\\/\\/.*\\/\\w*', '', tweet)\n",
    "    # Remove hashtags\n",
    "    tweet = re.sub(r'#\\w*', '', tweet)\n",
    "    # Remove words with 2 or fewer letters\n",
    "    tweet = re.sub(r'\\b\\w{1,2}\\b', '', tweet)\n",
    "    # Remove whitespace (including new line characters)\n",
    "    tweet = re.sub(r'\\s\\s+', ' ', tweet)\n",
    "    # Remove single space remaining at the front of the tweet.\n",
    "    tweet = tweet.lstrip(' ') \n",
    "    tweet=re.sub(\"[^a-zA-Z]\",\" \",tweet)\n",
    "    return tweet"
   ]
  },
  {
   "cell_type": "code",
   "execution_count": 25,
   "metadata": {
    "scrolled": true
   },
   "outputs": [
    {
     "data": {
      "text/html": [
       "<div>\n",
       "<style scoped>\n",
       "    .dataframe tbody tr th:only-of-type {\n",
       "        vertical-align: middle;\n",
       "    }\n",
       "\n",
       "    .dataframe tbody tr th {\n",
       "        vertical-align: top;\n",
       "    }\n",
       "\n",
       "    .dataframe thead th {\n",
       "        text-align: right;\n",
       "    }\n",
       "</style>\n",
       "<table border=\"1\" class=\"dataframe\">\n",
       "  <thead>\n",
       "    <tr style=\"text-align: right;\">\n",
       "      <th></th>\n",
       "      <th>tag</th>\n",
       "      <th>text</th>\n",
       "      <th>strong_pro1</th>\n",
       "      <th>Stemming</th>\n",
       "    </tr>\n",
       "  </thead>\n",
       "  <tbody>\n",
       "    <tr>\n",
       "      <th>0</th>\n",
       "      <td>real</td>\n",
       "      <td>Exclusive: Aramco agrees on price for Sabic ac...</td>\n",
       "      <td>exclusive  aramco agrees price for sabic acqui...</td>\n",
       "      <td>exclus aramco agre price for sabic acquisit</td>\n",
       "    </tr>\n",
       "    <tr>\n",
       "      <th>1</th>\n",
       "      <td>real</td>\n",
       "      <td>#Digitisation contract signed in #SaudiArabia ...</td>\n",
       "      <td>contract signed for two holy mosques</td>\n",
       "      <td>contract sign for two holi mosqu</td>\n",
       "    </tr>\n",
       "    <tr>\n",
       "      <th>2</th>\n",
       "      <td>fake</td>\n",
       "      <td>The #Taliban will not attend planned peace tal...</td>\n",
       "      <td>the will not attend planned peace talks with t...</td>\n",
       "      <td>the will not attend plan peac talk with the ar...</td>\n",
       "    </tr>\n",
       "    <tr>\n",
       "      <th>3</th>\n",
       "      <td>real</td>\n",
       "      <td>#Qatar have used #Khashoggi to write all of th...</td>\n",
       "      <td>have used write all the articles beside using ...</td>\n",
       "      <td>have use write all the articl besid use him fo...</td>\n",
       "    </tr>\n",
       "    <tr>\n",
       "      <th>4</th>\n",
       "      <td>real</td>\n",
       "      <td>#Saudi sets clear rules and regulations to pro...</td>\n",
       "      <td>sets clear rules and regulations protect wildl...</td>\n",
       "      <td>set clear rule and regul protect wildlif the k...</td>\n",
       "    </tr>\n",
       "    <tr>\n",
       "      <th>5</th>\n",
       "      <td>real</td>\n",
       "      <td>#Saudi ministry of justice works on developing...</td>\n",
       "      <td>ministry justice works developing commercial j...</td>\n",
       "      <td>ministri justic work develop commerci justic p...</td>\n",
       "    </tr>\n",
       "    <tr>\n",
       "      <th>6</th>\n",
       "      <td>fake</td>\n",
       "      <td>#فتاه_تايلند\\nA #Saudi woman who’s trying to f...</td>\n",
       "      <td>woman who  trying flee into asylum  being held...</td>\n",
       "      <td>woman who tri flee into asylum be held airport...</td>\n",
       "    </tr>\n",
       "    <tr>\n",
       "      <th>7</th>\n",
       "      <td>real</td>\n",
       "      <td>#Saudi woman detained in #Thailand seeks asylu...</td>\n",
       "      <td>woman detained seeks asylum   she sought asylu...</td>\n",
       "      <td>woman detain seek asylum she sought asylum can...</td>\n",
       "    </tr>\n",
       "    <tr>\n",
       "      <th>8</th>\n",
       "      <td>real</td>\n",
       "      <td>Saudi Government paid SR 6million  blood money...</td>\n",
       "      <td>saudi government paid  million blood money rel...</td>\n",
       "      <td>saudi govern paid million blood money releas j...</td>\n",
       "    </tr>\n",
       "    <tr>\n",
       "      <th>9</th>\n",
       "      <td>fake</td>\n",
       "      <td>Gunfire Heard At Saudi Royal Palace In Riyadh ...</td>\n",
       "      <td>gunfire heard saudi royal palace riyadh rumors...</td>\n",
       "      <td>gunfir heard saudi royal palac riyadh rumor at...</td>\n",
       "    </tr>\n",
       "    <tr>\n",
       "      <th>10</th>\n",
       "      <td>fake</td>\n",
       "      <td>Loujain al-Hathloul:  She Wanted to Drive, So ...</td>\n",
       "      <td>loujain  hathloul  she wanted drive    ruler i...</td>\n",
       "      <td>loujain hathloul she want drive ruler imprison...</td>\n",
       "    </tr>\n",
       "    <tr>\n",
       "      <th>11</th>\n",
       "      <td>real</td>\n",
       "      <td>TRENDS President Dr. @AhmedAlHamli concludes a...</td>\n",
       "      <td>trends president    ahmedalhamli concludes pro...</td>\n",
       "      <td>trend presid ahmedalham conclud product meet w...</td>\n",
       "    </tr>\n",
       "    <tr>\n",
       "      <th>12</th>\n",
       "      <td>real</td>\n",
       "      <td>Saudi Crown Prince Mohammed bin Salman plans t...</td>\n",
       "      <td>saudi crown prince mohammed bin salman plans l...</td>\n",
       "      <td>saudi crown princ moham bin salman plan launch...</td>\n",
       "    </tr>\n",
       "    <tr>\n",
       "      <th>13</th>\n",
       "      <td>real</td>\n",
       "      <td>Abdullah and #Khashoggi both worked for #Qatar...</td>\n",
       "      <td>abdullah and both worked for undercover  nonet...</td>\n",
       "      <td>abdullah and both work for undercov nonetheles...</td>\n",
       "    </tr>\n",
       "    <tr>\n",
       "      <th>14</th>\n",
       "      <td>fake</td>\n",
       "      <td>#Saudi Analyst: Saudis Prefer to Work with #Is...</td>\n",
       "      <td>analyst  saudis prefer work with over</td>\n",
       "      <td>analyst saudi prefer work with over</td>\n",
       "    </tr>\n",
       "    <tr>\n",
       "      <th>15</th>\n",
       "      <td>real</td>\n",
       "      <td>#Saudi Contractors Authority to showcase $53-b...</td>\n",
       "      <td>contractors authority showcase   billion proje...</td>\n",
       "      <td>contractor author showcas billion project even...</td>\n",
       "    </tr>\n",
       "    <tr>\n",
       "      <th>16</th>\n",
       "      <td>real</td>\n",
       "      <td>King's Cup Final 2018 ceremony organized and c...</td>\n",
       "      <td>king  cup final      ceremony organized and co...</td>\n",
       "      <td>king cup final ceremoni organ and cover collab...</td>\n",
       "    </tr>\n",
       "    <tr>\n",
       "      <th>17</th>\n",
       "      <td>real</td>\n",
       "      <td>ALEPPO, SYRIA King Salman Humanitarian Aid and...</td>\n",
       "      <td>aleppo  syria king salman humanitarian aid and...</td>\n",
       "      <td>aleppo syria king salman humanitarian aid and ...</td>\n",
       "    </tr>\n",
       "    <tr>\n",
       "      <th>18</th>\n",
       "      <td>real</td>\n",
       "      <td>#Saudi teenager who fled family and sought asy...</td>\n",
       "      <td>teenager who fled family and sought asylum whe...</td>\n",
       "      <td>teenag who fled famili and sought asylum when ...</td>\n",
       "    </tr>\n",
       "    <tr>\n",
       "      <th>19</th>\n",
       "      <td>fake</td>\n",
       "      <td>Really, does @MariahCarey need the dirty #Saud...</td>\n",
       "      <td>really  does  mariahcarey need the dirty money...</td>\n",
       "      <td>realli doe mariahcarey need the dirti money mu...</td>\n",
       "    </tr>\n",
       "    <tr>\n",
       "      <th>20</th>\n",
       "      <td>fake</td>\n",
       "      <td>What #Saudi is doing of killing, Blockade, Fam...</td>\n",
       "      <td>what doing killing  blockade  famine closing c...</td>\n",
       "      <td>what do kill blockad famin close civil airport...</td>\n",
       "    </tr>\n",
       "    <tr>\n",
       "      <th>21</th>\n",
       "      <td>fake</td>\n",
       "      <td>Activists are calling on Mariah Carey to cance...</td>\n",
       "      <td>activists are calling mariah carey cancel her ...</td>\n",
       "      <td>activist are call mariah carey cancel her upco...</td>\n",
       "    </tr>\n",
       "    <tr>\n",
       "      <th>22</th>\n",
       "      <td>fake</td>\n",
       "      <td>The point from the onset is interventionists a...</td>\n",
       "      <td>the point from the onset interventionists are ...</td>\n",
       "      <td>the point from the onset interventionist are u...</td>\n",
       "    </tr>\n",
       "    <tr>\n",
       "      <th>23</th>\n",
       "      <td>real</td>\n",
       "      <td>King Fahd University of Petroleum and Minerals...</td>\n",
       "      <td>king fahd university petroleum and minerals po...</td>\n",
       "      <td>king fahd univers petroleum and miner posit to...</td>\n",
       "    </tr>\n",
       "    <tr>\n",
       "      <th>24</th>\n",
       "      <td>real</td>\n",
       "      <td>#Saudi Cabinet restructuring meant to upgrade ...</td>\n",
       "      <td>cabinet restructuring meant upgrade the standa...</td>\n",
       "      <td>cabinet restructur meant upgrad the standard s...</td>\n",
       "    </tr>\n",
       "    <tr>\n",
       "      <th>25</th>\n",
       "      <td>real</td>\n",
       "      <td>#Saudi| Crown Prince Mohammed bin Salman inaug...</td>\n",
       "      <td>crown prince mohammed bin salman inaugurates...</td>\n",
       "      <td>crown princ moham bin salman inaugur the natio...</td>\n",
       "    </tr>\n",
       "    <tr>\n",
       "      <th>26</th>\n",
       "      <td>fake</td>\n",
       "      <td>It's all about that CASH!!! Mariah Carey perfo...</td>\n",
       "      <td>all about that cash    mariah carey performs...</td>\n",
       "      <td>all about that cash mariah carey perform saudi...</td>\n",
       "    </tr>\n",
       "    <tr>\n",
       "      <th>27</th>\n",
       "      <td>real</td>\n",
       "      <td>The dynamics of #US shale #oil production is s...</td>\n",
       "      <td>the dynamics shale production spread across ma...</td>\n",
       "      <td>the dynam shale product spread across mani ope...</td>\n",
       "    </tr>\n",
       "    <tr>\n",
       "      <th>28</th>\n",
       "      <td>real</td>\n",
       "      <td>This is the approved design for the developmen...</td>\n",
       "      <td>this the approved design for the development p...</td>\n",
       "      <td>this the approv design for the develop project...</td>\n",
       "    </tr>\n",
       "    <tr>\n",
       "      <th>29</th>\n",
       "      <td>fake</td>\n",
       "      <td>this is politically incorrect-but I can't help...</td>\n",
       "      <td>this politically incorrect but can  help wonde...</td>\n",
       "      <td>this polit incorrect but can help wonder what ...</td>\n",
       "    </tr>\n",
       "    <tr>\n",
       "      <th>...</th>\n",
       "      <td>...</td>\n",
       "      <td>...</td>\n",
       "      <td>...</td>\n",
       "      <td>...</td>\n",
       "    </tr>\n",
       "    <tr>\n",
       "      <th>224</th>\n",
       "      <td>fake</td>\n",
       "      <td>Crown Prince Mohammed bin Salman receives call...</td>\n",
       "      <td>crown prince mohammed bin salman receives call...</td>\n",
       "      <td>crown princ moham bin salman receiv call from ...</td>\n",
       "    </tr>\n",
       "    <tr>\n",
       "      <th>225</th>\n",
       "      <td>fake</td>\n",
       "      <td>Gunfire heard at Saudi royal palace in Riyadh ...</td>\n",
       "      <td>gunfire heard saudi royal palace riyadh rumors...</td>\n",
       "      <td>gunfir heard saudi royal palac riyadh rumor at...</td>\n",
       "    </tr>\n",
       "    <tr>\n",
       "      <th>226</th>\n",
       "      <td>real</td>\n",
       "      <td>King Salman Receives Princes, Kingdom's Grand ...</td>\n",
       "      <td>king salman receives princes  kingdom  grand m...</td>\n",
       "      <td>king salman receiv princ kingdom grand mufti m...</td>\n",
       "    </tr>\n",
       "    <tr>\n",
       "      <th>227</th>\n",
       "      <td>real</td>\n",
       "      <td>#Saudi Arabia to trim #oil exports further in ...</td>\n",
       "      <td>arabia trim exports further february  reuters</td>\n",
       "      <td>arabia trim export further februari reuter</td>\n",
       "    </tr>\n",
       "    <tr>\n",
       "      <th>228</th>\n",
       "      <td>real</td>\n",
       "      <td>The #Saudi Geological Survey revealed the hist...</td>\n",
       "      <td>the geological survey revealed the historic ca...</td>\n",
       "      <td>the geolog survey reveal the histor cave nomin...</td>\n",
       "    </tr>\n",
       "    <tr>\n",
       "      <th>229</th>\n",
       "      <td>real</td>\n",
       "      <td>On November 28, #CrownPrince #MohammedbinSalma...</td>\n",
       "      <td>november   arrived argentine head the delegati...</td>\n",
       "      <td>novemb arriv argentin head the deleg particip ...</td>\n",
       "    </tr>\n",
       "    <tr>\n",
       "      <th>230</th>\n",
       "      <td>real</td>\n",
       "      <td>#Thailand has halted plans to deport 18-year-o...</td>\n",
       "      <td>has halted plans deport  year old rahaf  qunun...</td>\n",
       "      <td>has halt plan deport year old rahaf qunun back</td>\n",
       "    </tr>\n",
       "    <tr>\n",
       "      <th>231</th>\n",
       "      <td>real</td>\n",
       "      <td>\"Vox Cinemas announced it would be investing $...</td>\n",
       "      <td>vox cinemas announced would investing      mi...</td>\n",
       "      <td>vox cinema announc would invest million open t...</td>\n",
       "    </tr>\n",
       "    <tr>\n",
       "      <th>232</th>\n",
       "      <td>real</td>\n",
       "      <td>#Saudi-backed broadcaster @mbc_group launches ...</td>\n",
       "      <td>backed broadcaster  mbc group launches video ...</td>\n",
       "      <td>back broadcast mbc group launch video challeng...</td>\n",
       "    </tr>\n",
       "    <tr>\n",
       "      <th>233</th>\n",
       "      <td>real</td>\n",
       "      <td>KHASHOGGI'S SON LEAVES: Salah Khashoggi has le...</td>\n",
       "      <td>khashoggi  son leaves  salah khashoggi has lef...</td>\n",
       "      <td>khashoggi son leav salah khashoggi has left sa...</td>\n",
       "    </tr>\n",
       "    <tr>\n",
       "      <th>234</th>\n",
       "      <td>real</td>\n",
       "      <td>#Dubai and #Saudi builders to grow as 2019 bud...</td>\n",
       "      <td>and builders grow      budgets prioritise infr...</td>\n",
       "      <td>and builder grow budget prioritis infrastructur</td>\n",
       "    </tr>\n",
       "    <tr>\n",
       "      <th>235</th>\n",
       "      <td>fake</td>\n",
       "      <td>#WashingtonPost scandalized itself after revea...</td>\n",
       "      <td>scandalized itself after revealing its investi...</td>\n",
       "      <td>scandal itself after reveal it investig that w...</td>\n",
       "    </tr>\n",
       "    <tr>\n",
       "      <th>236</th>\n",
       "      <td>real</td>\n",
       "      <td>Why do #Saudi girls run away? Complicated, but...</td>\n",
       "      <td>why girls run away  complicated  but the pace ...</td>\n",
       "      <td>whi girl run away complic but the pace current...</td>\n",
       "    </tr>\n",
       "    <tr>\n",
       "      <th>237</th>\n",
       "      <td>fake</td>\n",
       "      <td>Manchester United executives have met with off...</td>\n",
       "      <td>manchester united executives have met with off...</td>\n",
       "      <td>manchest unit execut have met with offici saud...</td>\n",
       "    </tr>\n",
       "    <tr>\n",
       "      <th>238</th>\n",
       "      <td>real</td>\n",
       "      <td>This week #Saudi energy minister ⁦@Khalid_AlFa...</td>\n",
       "      <td>this week energy minister   khalid alfalih  to...</td>\n",
       "      <td>this week energi minist khalid alfalih told th...</td>\n",
       "    </tr>\n",
       "    <tr>\n",
       "      <th>239</th>\n",
       "      <td>fake</td>\n",
       "      <td>The #Saudi-led coalition stopped Civil and Hua...</td>\n",
       "      <td>the  led coalition stopped civil and huamn fli...</td>\n",
       "      <td>the led coalit stop civil and huamn flight and...</td>\n",
       "    </tr>\n",
       "    <tr>\n",
       "      <th>240</th>\n",
       "      <td>real</td>\n",
       "      <td>#Netflix criticized for pulling satire episode...</td>\n",
       "      <td>criticized for pulling satire episode episode ...</td>\n",
       "      <td>critic for pull satir episod episod patriot ac...</td>\n",
       "    </tr>\n",
       "    <tr>\n",
       "      <th>241</th>\n",
       "      <td>real</td>\n",
       "      <td>18-year-old #Saudi girl granted refugee status...</td>\n",
       "      <td>year old girl granted refugee status</td>\n",
       "      <td>year old girl grant refuge status</td>\n",
       "    </tr>\n",
       "    <tr>\n",
       "      <th>242</th>\n",
       "      <td>fake</td>\n",
       "      <td>I wonder if Mohammed bin Salman would have inv...</td>\n",
       "      <td>wonder mohammed bin salman would have invited ...</td>\n",
       "      <td>wonder moham bin salman would have invit jamal...</td>\n",
       "    </tr>\n",
       "    <tr>\n",
       "      <th>243</th>\n",
       "      <td>real</td>\n",
       "      <td>Saudi is aiming for a regional number 1 positi...</td>\n",
       "      <td>saudi aiming for regional number position this...</td>\n",
       "      <td>saudi aim for region number posit this categor...</td>\n",
       "    </tr>\n",
       "    <tr>\n",
       "      <th>244</th>\n",
       "      <td>real</td>\n",
       "      <td>Saudi Market Daily Report 06/01/2019\\nhttps://...</td>\n",
       "      <td>saudi market daily report</td>\n",
       "      <td>saudi market daili report</td>\n",
       "    </tr>\n",
       "    <tr>\n",
       "      <th>245</th>\n",
       "      <td>real</td>\n",
       "      <td>Brokerage House Securities was the most active...</td>\n",
       "      <td>brokerage house securities was the most active...</td>\n",
       "      <td>brokerag hous secur was the most activ broker ...</td>\n",
       "    </tr>\n",
       "    <tr>\n",
       "      <th>246</th>\n",
       "      <td>fake</td>\n",
       "      <td>#MariahCarey performs in Saudi Arabia despite ...</td>\n",
       "      <td>performs saudi arabia despite calls for boycot...</td>\n",
       "      <td>perform saudi arabia despit call for boycott h...</td>\n",
       "    </tr>\n",
       "    <tr>\n",
       "      <th>247</th>\n",
       "      <td>real</td>\n",
       "      <td>As #Khashoggi crisis escalates, Saudi Arabia r...</td>\n",
       "      <td>crisis escalates  saudi arabia renews warning ...</td>\n",
       "      <td>crisi escal saudi arabia renew warn citizen sh...</td>\n",
       "    </tr>\n",
       "    <tr>\n",
       "      <th>248</th>\n",
       "      <td>fake</td>\n",
       "      <td>Saud al-Qahtani, top royal aide for MBS, was p...</td>\n",
       "      <td>saud  qahtani  top royal aide for mbs  was pre...</td>\n",
       "      <td>saud qahtani top royal aid for mbs was present...</td>\n",
       "    </tr>\n",
       "    <tr>\n",
       "      <th>249</th>\n",
       "      <td>real</td>\n",
       "      <td>Saudi Crown Prince Mohammed bin Salman plans t...</td>\n",
       "      <td>saudi crown prince mohammed bin salman plans l...</td>\n",
       "      <td>saudi crown princ moham bin salman plan launch...</td>\n",
       "    </tr>\n",
       "    <tr>\n",
       "      <th>250</th>\n",
       "      <td>real</td>\n",
       "      <td>:: The Kingdom’s Grand Mufti Sheikh Abdul Aziz...</td>\n",
       "      <td>the kingdom  grand mufti sheikh abdul aziz ...</td>\n",
       "      <td>the kingdom grand mufti sheikh abdul aziz ashe...</td>\n",
       "    </tr>\n",
       "    <tr>\n",
       "      <th>251</th>\n",
       "      <td>real</td>\n",
       "      <td>The @KSAmofaEN pavilion @AlJanadriaFest is hos...</td>\n",
       "      <td>the  ksamofaen pavilion  aljanadriafest hostin...</td>\n",
       "      <td>the ksamofaen pavilion aljanadriafest host sup...</td>\n",
       "    </tr>\n",
       "    <tr>\n",
       "      <th>252</th>\n",
       "      <td>fake</td>\n",
       "      <td>#Saudi dissident in #Beirut believes he escape...</td>\n",
       "      <td>dissident believes escaped same fate via  midd...</td>\n",
       "      <td>dissid believ escap same fate via middleeastey</td>\n",
       "    </tr>\n",
       "    <tr>\n",
       "      <th>253</th>\n",
       "      <td>fake</td>\n",
       "      <td>Saudi Arabia's King Salman very ill, in ICU - ...</td>\n",
       "      <td>saudi arabia  king salman very ill  icu   repo...</td>\n",
       "      <td>saudi arabia king salman veri ill icu report</td>\n",
       "    </tr>\n",
       "  </tbody>\n",
       "</table>\n",
       "<p>254 rows × 4 columns</p>\n",
       "</div>"
      ],
      "text/plain": [
       "      tag                                               text  \\\n",
       "0    real  Exclusive: Aramco agrees on price for Sabic ac...   \n",
       "1    real  #Digitisation contract signed in #SaudiArabia ...   \n",
       "2    fake  The #Taliban will not attend planned peace tal...   \n",
       "3    real  #Qatar have used #Khashoggi to write all of th...   \n",
       "4    real  #Saudi sets clear rules and regulations to pro...   \n",
       "5    real  #Saudi ministry of justice works on developing...   \n",
       "6    fake  #فتاه_تايلند\\nA #Saudi woman who’s trying to f...   \n",
       "7    real  #Saudi woman detained in #Thailand seeks asylu...   \n",
       "8    real  Saudi Government paid SR 6million  blood money...   \n",
       "9    fake  Gunfire Heard At Saudi Royal Palace In Riyadh ...   \n",
       "10   fake  Loujain al-Hathloul:  She Wanted to Drive, So ...   \n",
       "11   real  TRENDS President Dr. @AhmedAlHamli concludes a...   \n",
       "12   real  Saudi Crown Prince Mohammed bin Salman plans t...   \n",
       "13   real  Abdullah and #Khashoggi both worked for #Qatar...   \n",
       "14   fake  #Saudi Analyst: Saudis Prefer to Work with #Is...   \n",
       "15   real  #Saudi Contractors Authority to showcase $53-b...   \n",
       "16   real  King's Cup Final 2018 ceremony organized and c...   \n",
       "17   real  ALEPPO, SYRIA King Salman Humanitarian Aid and...   \n",
       "18   real  #Saudi teenager who fled family and sought asy...   \n",
       "19   fake  Really, does @MariahCarey need the dirty #Saud...   \n",
       "20   fake  What #Saudi is doing of killing, Blockade, Fam...   \n",
       "21   fake  Activists are calling on Mariah Carey to cance...   \n",
       "22   fake  The point from the onset is interventionists a...   \n",
       "23   real  King Fahd University of Petroleum and Minerals...   \n",
       "24   real  #Saudi Cabinet restructuring meant to upgrade ...   \n",
       "25   real  #Saudi| Crown Prince Mohammed bin Salman inaug...   \n",
       "26   fake  It's all about that CASH!!! Mariah Carey perfo...   \n",
       "27   real  The dynamics of #US shale #oil production is s...   \n",
       "28   real  This is the approved design for the developmen...   \n",
       "29   fake  this is politically incorrect-but I can't help...   \n",
       "..    ...                                                ...   \n",
       "224  fake  Crown Prince Mohammed bin Salman receives call...   \n",
       "225  fake  Gunfire heard at Saudi royal palace in Riyadh ...   \n",
       "226  real  King Salman Receives Princes, Kingdom's Grand ...   \n",
       "227  real  #Saudi Arabia to trim #oil exports further in ...   \n",
       "228  real  The #Saudi Geological Survey revealed the hist...   \n",
       "229  real  On November 28, #CrownPrince #MohammedbinSalma...   \n",
       "230  real  #Thailand has halted plans to deport 18-year-o...   \n",
       "231  real  \"Vox Cinemas announced it would be investing $...   \n",
       "232  real  #Saudi-backed broadcaster @mbc_group launches ...   \n",
       "233  real  KHASHOGGI'S SON LEAVES: Salah Khashoggi has le...   \n",
       "234  real  #Dubai and #Saudi builders to grow as 2019 bud...   \n",
       "235  fake  #WashingtonPost scandalized itself after revea...   \n",
       "236  real  Why do #Saudi girls run away? Complicated, but...   \n",
       "237  fake  Manchester United executives have met with off...   \n",
       "238  real  This week #Saudi energy minister ⁦@Khalid_AlFa...   \n",
       "239  fake  The #Saudi-led coalition stopped Civil and Hua...   \n",
       "240  real  #Netflix criticized for pulling satire episode...   \n",
       "241  real  18-year-old #Saudi girl granted refugee status...   \n",
       "242  fake  I wonder if Mohammed bin Salman would have inv...   \n",
       "243  real  Saudi is aiming for a regional number 1 positi...   \n",
       "244  real  Saudi Market Daily Report 06/01/2019\\nhttps://...   \n",
       "245  real  Brokerage House Securities was the most active...   \n",
       "246  fake  #MariahCarey performs in Saudi Arabia despite ...   \n",
       "247  real  As #Khashoggi crisis escalates, Saudi Arabia r...   \n",
       "248  fake  Saud al-Qahtani, top royal aide for MBS, was p...   \n",
       "249  real  Saudi Crown Prince Mohammed bin Salman plans t...   \n",
       "250  real  :: The Kingdom’s Grand Mufti Sheikh Abdul Aziz...   \n",
       "251  real  The @KSAmofaEN pavilion @AlJanadriaFest is hos...   \n",
       "252  fake  #Saudi dissident in #Beirut believes he escape...   \n",
       "253  fake  Saudi Arabia's King Salman very ill, in ICU - ...   \n",
       "\n",
       "                                           strong_pro1  \\\n",
       "0    exclusive  aramco agrees price for sabic acqui...   \n",
       "1           contract signed for two holy mosques         \n",
       "2    the will not attend planned peace talks with t...   \n",
       "3    have used write all the articles beside using ...   \n",
       "4    sets clear rules and regulations protect wildl...   \n",
       "5    ministry justice works developing commercial j...   \n",
       "6    woman who  trying flee into asylum  being held...   \n",
       "7    woman detained seeks asylum   she sought asylu...   \n",
       "8    saudi government paid  million blood money rel...   \n",
       "9    gunfire heard saudi royal palace riyadh rumors...   \n",
       "10   loujain  hathloul  she wanted drive    ruler i...   \n",
       "11   trends president    ahmedalhamli concludes pro...   \n",
       "12   saudi crown prince mohammed bin salman plans l...   \n",
       "13   abdullah and both worked for undercover  nonet...   \n",
       "14              analyst  saudis prefer work with over    \n",
       "15   contractors authority showcase   billion proje...   \n",
       "16   king  cup final      ceremony organized and co...   \n",
       "17   aleppo  syria king salman humanitarian aid and...   \n",
       "18   teenager who fled family and sought asylum whe...   \n",
       "19   really  does  mariahcarey need the dirty money...   \n",
       "20   what doing killing  blockade  famine closing c...   \n",
       "21   activists are calling mariah carey cancel her ...   \n",
       "22   the point from the onset interventionists are ...   \n",
       "23   king fahd university petroleum and minerals po...   \n",
       "24   cabinet restructuring meant upgrade the standa...   \n",
       "25     crown prince mohammed bin salman inaugurates...   \n",
       "26     all about that cash    mariah carey performs...   \n",
       "27   the dynamics shale production spread across ma...   \n",
       "28   this the approved design for the development p...   \n",
       "29   this politically incorrect but can  help wonde...   \n",
       "..                                                 ...   \n",
       "224  crown prince mohammed bin salman receives call...   \n",
       "225  gunfire heard saudi royal palace riyadh rumors...   \n",
       "226  king salman receives princes  kingdom  grand m...   \n",
       "227     arabia trim exports further february  reuters    \n",
       "228  the geological survey revealed the historic ca...   \n",
       "229  november   arrived argentine head the delegati...   \n",
       "230  has halted plans deport  year old rahaf  qunun...   \n",
       "231   vox cinemas announced would investing      mi...   \n",
       "232   backed broadcaster  mbc group launches video ...   \n",
       "233  khashoggi  son leaves  salah khashoggi has lef...   \n",
       "234  and builders grow      budgets prioritise infr...   \n",
       "235  scandalized itself after revealing its investi...   \n",
       "236  why girls run away  complicated  but the pace ...   \n",
       "237  manchester united executives have met with off...   \n",
       "238  this week energy minister   khalid alfalih  to...   \n",
       "239  the  led coalition stopped civil and huamn fli...   \n",
       "240  criticized for pulling satire episode episode ...   \n",
       "241              year old girl granted refugee status    \n",
       "242  wonder mohammed bin salman would have invited ...   \n",
       "243  saudi aiming for regional number position this...   \n",
       "244                  saudi market daily report           \n",
       "245  brokerage house securities was the most active...   \n",
       "246  performs saudi arabia despite calls for boycot...   \n",
       "247  crisis escalates  saudi arabia renews warning ...   \n",
       "248  saud  qahtani  top royal aide for mbs  was pre...   \n",
       "249  saudi crown prince mohammed bin salman plans l...   \n",
       "250     the kingdom  grand mufti sheikh abdul aziz ...   \n",
       "251  the  ksamofaen pavilion  aljanadriafest hostin...   \n",
       "252  dissident believes escaped same fate via  midd...   \n",
       "253  saudi arabia  king salman very ill  icu   repo...   \n",
       "\n",
       "                                              Stemming  \n",
       "0          exclus aramco agre price for sabic acquisit  \n",
       "1                     contract sign for two holi mosqu  \n",
       "2    the will not attend plan peac talk with the ar...  \n",
       "3    have use write all the articl besid use him fo...  \n",
       "4    set clear rule and regul protect wildlif the k...  \n",
       "5    ministri justic work develop commerci justic p...  \n",
       "6    woman who tri flee into asylum be held airport...  \n",
       "7    woman detain seek asylum she sought asylum can...  \n",
       "8    saudi govern paid million blood money releas j...  \n",
       "9    gunfir heard saudi royal palac riyadh rumor at...  \n",
       "10   loujain hathloul she want drive ruler imprison...  \n",
       "11   trend presid ahmedalham conclud product meet w...  \n",
       "12   saudi crown princ moham bin salman plan launch...  \n",
       "13   abdullah and both work for undercov nonetheles...  \n",
       "14                 analyst saudi prefer work with over  \n",
       "15   contractor author showcas billion project even...  \n",
       "16   king cup final ceremoni organ and cover collab...  \n",
       "17   aleppo syria king salman humanitarian aid and ...  \n",
       "18   teenag who fled famili and sought asylum when ...  \n",
       "19   realli doe mariahcarey need the dirti money mu...  \n",
       "20   what do kill blockad famin close civil airport...  \n",
       "21   activist are call mariah carey cancel her upco...  \n",
       "22   the point from the onset interventionist are u...  \n",
       "23   king fahd univers petroleum and miner posit to...  \n",
       "24   cabinet restructur meant upgrad the standard s...  \n",
       "25   crown princ moham bin salman inaugur the natio...  \n",
       "26   all about that cash mariah carey perform saudi...  \n",
       "27   the dynam shale product spread across mani ope...  \n",
       "28   this the approv design for the develop project...  \n",
       "29   this polit incorrect but can help wonder what ...  \n",
       "..                                                 ...  \n",
       "224  crown princ moham bin salman receiv call from ...  \n",
       "225  gunfir heard saudi royal palac riyadh rumor at...  \n",
       "226  king salman receiv princ kingdom grand mufti m...  \n",
       "227         arabia trim export further februari reuter  \n",
       "228  the geolog survey reveal the histor cave nomin...  \n",
       "229  novemb arriv argentin head the deleg particip ...  \n",
       "230     has halt plan deport year old rahaf qunun back  \n",
       "231  vox cinema announc would invest million open t...  \n",
       "232  back broadcast mbc group launch video challeng...  \n",
       "233  khashoggi son leav salah khashoggi has left sa...  \n",
       "234    and builder grow budget prioritis infrastructur  \n",
       "235  scandal itself after reveal it investig that w...  \n",
       "236  whi girl run away complic but the pace current...  \n",
       "237  manchest unit execut have met with offici saud...  \n",
       "238  this week energi minist khalid alfalih told th...  \n",
       "239  the led coalit stop civil and huamn flight and...  \n",
       "240  critic for pull satir episod episod patriot ac...  \n",
       "241                  year old girl grant refuge status  \n",
       "242  wonder moham bin salman would have invit jamal...  \n",
       "243  saudi aim for region number posit this categor...  \n",
       "244                          saudi market daili report  \n",
       "245  brokerag hous secur was the most activ broker ...  \n",
       "246  perform saudi arabia despit call for boycott h...  \n",
       "247  crisi escal saudi arabia renew warn citizen sh...  \n",
       "248  saud qahtani top royal aid for mbs was present...  \n",
       "249  saudi crown princ moham bin salman plan launch...  \n",
       "250  the kingdom grand mufti sheikh abdul aziz ashe...  \n",
       "251  the ksamofaen pavilion aljanadriafest host sup...  \n",
       "252     dissid believ escap same fate via middleeastey  \n",
       "253       saudi arabia king salman veri ill icu report  \n",
       "\n",
       "[254 rows x 4 columns]"
      ]
     },
     "execution_count": 25,
     "metadata": {},
     "output_type": "execute_result"
    }
   ],
   "source": [
    "tweet['strong_pro1'] = tweet['text'].apply(processTweet1)\n",
    "tweet.head(n=254)"
   ]
  },
  {
   "cell_type": "code",
   "execution_count": 18,
   "metadata": {},
   "outputs": [],
   "source": [
    "stemmer=SnowballStemmer(\"english\")"
   ]
  },
  {
   "cell_type": "markdown",
   "metadata": {},
   "source": [
    "Snowball Stemmer"
   ]
  },
  {
   "cell_type": "code",
   "execution_count": 26,
   "metadata": {
    "scrolled": true
   },
   "outputs": [],
   "source": [
    "ps = SnowballStemmer(\"english\")\n",
    "tweet['Stemming'] = tweet['strong_pro1'].apply(lambda x: ' '.join([ps.stem(word) for word in x.split() ]))\n"
   ]
  },
  {
   "cell_type": "code",
   "execution_count": 27,
   "metadata": {
    "scrolled": true
   },
   "outputs": [
    {
     "data": {
      "text/html": [
       "<div>\n",
       "<style scoped>\n",
       "    .dataframe tbody tr th:only-of-type {\n",
       "        vertical-align: middle;\n",
       "    }\n",
       "\n",
       "    .dataframe tbody tr th {\n",
       "        vertical-align: top;\n",
       "    }\n",
       "\n",
       "    .dataframe thead th {\n",
       "        text-align: right;\n",
       "    }\n",
       "</style>\n",
       "<table border=\"1\" class=\"dataframe\">\n",
       "  <thead>\n",
       "    <tr style=\"text-align: right;\">\n",
       "      <th></th>\n",
       "      <th>tag</th>\n",
       "      <th>text</th>\n",
       "      <th>strong_pro1</th>\n",
       "      <th>Stemming</th>\n",
       "    </tr>\n",
       "  </thead>\n",
       "  <tbody>\n",
       "    <tr>\n",
       "      <th>0</th>\n",
       "      <td>real</td>\n",
       "      <td>Exclusive: Aramco agrees on price for Sabic ac...</td>\n",
       "      <td>exclusive  aramco agrees price for sabic acqui...</td>\n",
       "      <td>exclus aramco agre price for sabic acquisit</td>\n",
       "    </tr>\n",
       "    <tr>\n",
       "      <th>1</th>\n",
       "      <td>real</td>\n",
       "      <td>#Digitisation contract signed in #SaudiArabia ...</td>\n",
       "      <td>contract signed for two holy mosques</td>\n",
       "      <td>contract sign for two holi mosqu</td>\n",
       "    </tr>\n",
       "    <tr>\n",
       "      <th>2</th>\n",
       "      <td>fake</td>\n",
       "      <td>The #Taliban will not attend planned peace tal...</td>\n",
       "      <td>the will not attend planned peace talks with t...</td>\n",
       "      <td>the will not attend plan peac talk with the ar...</td>\n",
       "    </tr>\n",
       "    <tr>\n",
       "      <th>3</th>\n",
       "      <td>real</td>\n",
       "      <td>#Qatar have used #Khashoggi to write all of th...</td>\n",
       "      <td>have used write all the articles beside using ...</td>\n",
       "      <td>have use write all the articl besid use him fo...</td>\n",
       "    </tr>\n",
       "    <tr>\n",
       "      <th>4</th>\n",
       "      <td>real</td>\n",
       "      <td>#Saudi sets clear rules and regulations to pro...</td>\n",
       "      <td>sets clear rules and regulations protect wildl...</td>\n",
       "      <td>set clear rule and regul protect wildlif the k...</td>\n",
       "    </tr>\n",
       "  </tbody>\n",
       "</table>\n",
       "</div>"
      ],
      "text/plain": [
       "    tag                                               text  \\\n",
       "0  real  Exclusive: Aramco agrees on price for Sabic ac...   \n",
       "1  real  #Digitisation contract signed in #SaudiArabia ...   \n",
       "2  fake  The #Taliban will not attend planned peace tal...   \n",
       "3  real  #Qatar have used #Khashoggi to write all of th...   \n",
       "4  real  #Saudi sets clear rules and regulations to pro...   \n",
       "\n",
       "                                         strong_pro1  \\\n",
       "0  exclusive  aramco agrees price for sabic acqui...   \n",
       "1         contract signed for two holy mosques         \n",
       "2  the will not attend planned peace talks with t...   \n",
       "3  have used write all the articles beside using ...   \n",
       "4  sets clear rules and regulations protect wildl...   \n",
       "\n",
       "                                            Stemming  \n",
       "0        exclus aramco agre price for sabic acquisit  \n",
       "1                   contract sign for two holi mosqu  \n",
       "2  the will not attend plan peac talk with the ar...  \n",
       "3  have use write all the articl besid use him fo...  \n",
       "4  set clear rule and regul protect wildlif the k...  "
      ]
     },
     "execution_count": 27,
     "metadata": {},
     "output_type": "execute_result"
    }
   ],
   "source": [
    "tweet.head()"
   ]
  },
  {
   "cell_type": "code",
   "execution_count": 81,
   "metadata": {
    "scrolled": false
   },
   "outputs": [
    {
     "data": {
      "image/png": "[encoded data removed]",
      "text/plain": [
       "<Figure size 432x288 with 1 Axes>"
      ]
     },
     "metadata": {
      "needs_background": "light"
     },
     "output_type": "display_data"
    }
   ],
   "source": [
    "#increase minority class\n",
    "# 1=fake tag,0= real tag\n",
    "import seaborn as sns\n",
    "\n",
    "\n",
    "s = tweet.copy()\n",
    "df_minority = s[s.tag == \"real\"]\n",
    "df_majority = s[s.tag == \"fake\"]\n",
    "\n",
    "\n",
    "df_minority = resample(df_minority, \n",
    "                       replace=True,  #sample with replacement \n",
    "                       #n_samples=len(df_majority),\n",
    "                       n_samples=254, #to match majority class \n",
    "                       random_state=123 #reproducible results\n",
    "                      )\n",
    "\n",
    "df_balanced = pd.concat([df_majority, df_minority])\n",
    "sns.countplot(df_balanced['tag'], label=\"count\")\n",
    "\n",
    "\n",
    "#ax.set (ylabel=\"Count\")\n",
    "plt.show()"
   ]
  },
  {
   "cell_type": "code",
   "execution_count": null,
   "metadata": {},
   "outputs": [],
   "source": []
  },
  {
   "cell_type": "markdown",
   "metadata": {},
   "source": [
    "# pipeline"
   ]
  },
  {
   "cell_type": "markdown",
   "metadata": {},
   "source": [
    "# 2 pipeline will be tested\n",
    "First: pipeline consist of BoW(CountVectorizer( )) + Classifier\n",
    "\n",
    "Second: pipeline consist ofTf-Idf (TfidfVectorizer( ))  + classifier."
   ]
  },
  {
   "cell_type": "markdown",
   "metadata": {},
   "source": [
    "Four experiments per classifier\n",
    "\n",
    "First-  BoW + Preprocessed text \n",
    "\n",
    "Second- BoW+ Preprocessed text + Stemming \n",
    "\n",
    "Third-  Tf-Idf+ Preprocessed text \n",
    "\n",
    "Fourth- Tf-Idf + Preprocessed text + Stemming \n",
    "\n",
    "In all experiments split the data 25% / 75% and the value of fold cv = 5 and the random_state=42. To make the split will be always the same, and make sure to get reproducible results,"
   ]
  },
  {
   "cell_type": "code",
   "execution_count": null,
   "metadata": {},
   "outputs": [],
   "source": []
  },
  {
   "cell_type": "markdown",
   "metadata": {},
   "source": [
    "# Kneighbors Classifier"
   ]
  },
  {
   "cell_type": "markdown",
   "metadata": {},
   "source": [
    "Exp1: Bow + Preprocessed text"
   ]
  },
  {
   "cell_type": "code",
   "execution_count": null,
   "metadata": {},
   "outputs": [],
   "source": [
    "x=df_balanced[\"strong_pro1\"]\n",
    "y=df_balanced['tag']\n",
    "\n",
    "X_train, X_test, Y_train, Y_test = model_selection.train_test_split( x, y, stratify=y, random_state=42,test_size=0.25)\n",
    "\n",
    "pipeline = Pipeline([\n",
    "    ('vectorizer',CountVectorizer(stop_words='english')),\n",
    "    ('classifier', KNeighborsClassifier())])\n",
    "\n",
    "grid = {\n",
    "    'vectorizer__ngram_range': [(1, 1), (1, 2)],\n",
    "    'classifier__n_neighbors':range(1,30)\n",
    "}\n",
    "\n",
    "\n",
    "grid_search = GridSearchCV(pipeline, param_grid=grid, scoring='accuracy', n_jobs=-1, cv=5)\n",
    "grid_search.fit(X_train,Y_train)\n"
   ]
  },
  {
   "cell_type": "code",
   "execution_count": 80,
   "metadata": {},
   "outputs": [
    {
     "ename": "NameError",
     "evalue": "name 'grid_search' is not defined",
     "output_type": "error",
     "traceback": [
      "\u001b[1;31m---------------------------------------------------------------------------\u001b[0m",
      "\u001b[1;31mNameError\u001b[0m                                 Traceback (most recent call last)",
      "\u001b[1;32m<ipython-input-80-449b67eeee54>\u001b[0m in \u001b[0;36m<module>\u001b[1;34m\u001b[0m\n\u001b[1;32m----> 1\u001b[1;33m \u001b[0mprint\u001b[0m\u001b[1;33m(\u001b[0m\u001b[0mgrid_search\u001b[0m\u001b[1;33m.\u001b[0m\u001b[0mbest_estimator_\u001b[0m\u001b[1;33m,\u001b[0m\u001b[1;34m\"\\n\"\u001b[0m\u001b[1;33m)\u001b[0m\u001b[1;33m\u001b[0m\u001b[1;33m\u001b[0m\u001b[0m\n\u001b[0m\u001b[0;32m      2\u001b[0m \u001b[1;33m\u001b[0m\u001b[0m\n\u001b[0;32m      3\u001b[0m \u001b[0mbest_parameters\u001b[0m \u001b[1;33m=\u001b[0m \u001b[0mgrid_search\u001b[0m\u001b[1;33m.\u001b[0m\u001b[0mbest_estimator_\u001b[0m\u001b[1;33m.\u001b[0m\u001b[0mget_params\u001b[0m\u001b[1;33m(\u001b[0m\u001b[1;33m)\u001b[0m\u001b[1;33m\u001b[0m\u001b[1;33m\u001b[0m\u001b[0m\n\u001b[0;32m      4\u001b[0m \u001b[1;32mfor\u001b[0m \u001b[0mparam_name\u001b[0m \u001b[1;32min\u001b[0m \u001b[0msorted\u001b[0m\u001b[1;33m(\u001b[0m\u001b[0mlist\u001b[0m\u001b[1;33m(\u001b[0m\u001b[0mgrid\u001b[0m\u001b[1;33m.\u001b[0m\u001b[0mkeys\u001b[0m\u001b[1;33m(\u001b[0m\u001b[1;33m)\u001b[0m\u001b[1;33m)\u001b[0m\u001b[1;33m)\u001b[0m\u001b[1;33m:\u001b[0m\u001b[1;33m\u001b[0m\u001b[1;33m\u001b[0m\u001b[0m\n\u001b[0;32m      5\u001b[0m     \u001b[0mprint\u001b[0m\u001b[1;33m(\u001b[0m\u001b[1;34m\"\\t{0}: {1}\"\u001b[0m\u001b[1;33m.\u001b[0m\u001b[0mformat\u001b[0m\u001b[1;33m(\u001b[0m\u001b[0mparam_name\u001b[0m\u001b[1;33m,\u001b[0m \u001b[0mbest_parameters\u001b[0m\u001b[1;33m[\u001b[0m\u001b[0mparam_name\u001b[0m\u001b[1;33m]\u001b[0m\u001b[1;33m)\u001b[0m\u001b[1;33m)\u001b[0m\u001b[1;33m\u001b[0m\u001b[1;33m\u001b[0m\u001b[0m\n",
      "\u001b[1;31mNameError\u001b[0m: name 'grid_search' is not defined"
     ]
    }
   ],
   "source": [
    "\n",
    "print(grid_search.best_estimator_,\"\\n\")\n",
    "\n",
    "best_parameters = grid_search.best_estimator_.get_params()\n",
    "for param_name in sorted(list(grid.keys())):\n",
    "    print(\"\\t{0}: {1}\".format(param_name, best_parameters[param_name]))\n",
    "\n",
    "best_model = grid_search.best_estimator_\n",
    "y_pred=best_model.predict(X_test)\n"
   ]
  },
  {
   "cell_type": "code",
   "execution_count": 309,
   "metadata": {},
   "outputs": [
    {
     "name": "stdout",
     "output_type": "stream",
     "text": [
      "Confusion matrix \n",
      " [[86  3]\n",
      " [ 9 54]] \n",
      "\n",
      "Classification_report \n",
      "                precision    recall  f1-score   support\n",
      "\n",
      "           0       0.91      0.97      0.93        89\n",
      "           1       0.95      0.86      0.90        63\n",
      "\n",
      "   micro avg       0.92      0.92      0.92       152\n",
      "   macro avg       0.93      0.91      0.92       152\n",
      "weighted avg       0.92      0.92      0.92       152\n",
      " \n",
      "\n",
      "Train Accuracy 0.9605263157894737\n",
      "Test Accuracy: 0.9210526315789473\n",
      "roc_auc_score 0.911717495987159\n"
     ]
    }
   ],
   "source": [
    "\n",
    "confusion=confusion_matrix(Y_test, y_pred)\n",
    "report=classification_report(Y_test,y_pred)\n",
    "false_positive_rate, true_positive_rate, thresholds = roc_curve(Y_test, y_pred)\n",
    "roc_auc = auc(false_positive_rate, true_positive_rate)\n",
    "print(\"Confusion matrix \\n\",confusion,\"\\n\")\n",
    "print(\"Classification_report \\n \",report,\"\\n\")\n",
    "print(\"Train Accuracy\",accuracy_score(Y_train, best_model.predict(X_train)))\n",
    "print(\"Test Accuracy:\",accuracy_score(Y_test,y_pred))\n",
    "print(\"roc_auc_score\",roc_auc)"
   ]
  },
  {
   "cell_type": "code",
   "execution_count": null,
   "metadata": {},
   "outputs": [],
   "source": []
  },
  {
   "cell_type": "code",
   "execution_count": 310,
   "metadata": {},
   "outputs": [
    {
     "name": "stdout",
     "output_type": "stream",
     "text": [
      "0.6052631578947368\n",
      "0.9276315789473685\n",
      "0.9210526315789473\n",
      "0.8289473684210527\n",
      "0.8157894736842105\n",
      "0.756578947368421\n",
      "0.7960526315789473\n",
      "0.75\n",
      "0.7894736842105263\n",
      "0.75\n",
      "0.75\n",
      "0.6973684210526315\n",
      "0.6973684210526315\n",
      "0.6842105263157895\n",
      "0.6842105263157895\n",
      "0.6578947368421053\n",
      "0.6578947368421053\n",
      "0.6644736842105263\n",
      "0.6644736842105263\n",
      "0.6644736842105263\n",
      "0.6578947368421053\n",
      "0.6578947368421053\n",
      "0.6578947368421053\n",
      "0.6513157894736842\n",
      "0.6578947368421053\n",
      "0.6578947368421053\n",
      "0.6578947368421053\n",
      "0.618421052631579\n",
      "0.6381578947368421\n"
     ]
    }
   ],
   "source": [
    "# plot represents the classifier accuracy and shows that the highest accuracy is as shown by gridSearchCv\n",
    "K_rang=range(1,30)\n",
    "K_score=[]\n",
    "for k in K_rang:\n",
    "    pipelineTf_Idf = Pipeline([\n",
    "    ('vectorizer',CountVectorizer(stop_words='english',analyzer='word',ngram_range=(1, 2))),\n",
    "    ('classifier', KNeighborsClassifier(k))])\n",
    "    \n",
    "    model=pipelineTf_Idf.fit(X_train,Y_train)\n",
    "    y_pred = model.predict(X_test)\n",
    "\n",
    "    K_score.append(accuracy_score(Y_test, y_pred))\n",
    "for i in K_score:\n",
    "    print(i)"
   ]
  },
  {
   "cell_type": "code",
   "execution_count": null,
   "metadata": {},
   "outputs": [],
   "source": []
  },
  {
   "cell_type": "code",
   "execution_count": 311,
   "metadata": {
    "scrolled": true
   },
   "outputs": [
    {
     "data": {
      "text/plain": [
       "Text(0, 0.5, 'cross-valdition Accuracy')"
      ]
     },
     "execution_count": 311,
     "metadata": {},
     "output_type": "execute_result"
    },
    {
     "data": {
      "image/png": "[encoded data removed]",
      "text/plain": [
       "<Figure size 432x288 with 1 Axes>"
      ]
     },
     "metadata": {
      "needs_background": "light"
     },
     "output_type": "display_data"
    }
   ],
   "source": [
    "\n",
    "#polt the value of K for KNN\n",
    "plt.plot(K_rang,K_score)\n",
    "plt.xlabel(\"value of k for knn\")\n",
    "plt.ylabel(\"cross-valdition Accuracy\")\n",
    "\n"
   ]
  },
  {
   "cell_type": "code",
   "execution_count": 312,
   "metadata": {},
   "outputs": [
    {
     "data": {
      "image/png": "[encoded data removed]",
      "text/plain": [
       "<Figure size 432x288 with 2 Axes>"
      ]
     },
     "metadata": {
      "needs_background": "light"
     },
     "output_type": "display_data"
    }
   ],
   "source": [
    "#confusion matrix plot\n",
    "\n",
    "ax= plt.subplot()\n",
    "sns.heatmap(confusion, annot=True, ax = ax); #annot=True to annotate cells\n",
    "\n",
    "# labels, title and ticks\n",
    "ax.set_xlabel('Predicted labels');ax.set_ylabel('True labels'); \n",
    "ax.set_title('Confusion Matrix'); \n",
    "ax.xaxis.set_ticklabels(['real', 'fake']); ax.yaxis.set_ticklabels(['real', 'fake']);"
   ]
  },
  {
   "cell_type": "code",
   "execution_count": null,
   "metadata": {},
   "outputs": [],
   "source": []
  },
  {
   "cell_type": "code",
   "execution_count": null,
   "metadata": {},
   "outputs": [],
   "source": []
  },
  {
   "cell_type": "markdown",
   "metadata": {},
   "source": [
    "Exp2: Bow + Preprocessed text +Stemming\n"
   ]
  },
  {
   "cell_type": "code",
   "execution_count": 272,
   "metadata": {},
   "outputs": [],
   "source": [
    "x=df_balanced[\"Stemming\"]\n",
    "y=df_balanced['tag']\n",
    "\n",
    "X_train, X_test, Y_train, Y_test = model_selection.train_test_split( x, y, stratify=y, random_state=42,test_size=0.25)\n",
    "\n",
    "pipeline = Pipeline([\n",
    "    ('vectorizer',CountVectorizer(stop_words='english')),\n",
    "    ('classifier', KNeighborsClassifier())])\n"
   ]
  },
  {
   "cell_type": "code",
   "execution_count": 273,
   "metadata": {},
   "outputs": [],
   "source": [
    "grid = {\n",
    "    'vectorizer__ngram_range': [(1, 1), (1, 2)],\n",
    "    'classifier__n_neighbors':range(1,30)\n",
    "}"
   ]
  },
  {
   "cell_type": "code",
   "execution_count": 274,
   "metadata": {},
   "outputs": [
    {
     "name": "stderr",
     "output_type": "stream",
     "text": [
      "/anaconda3/envs/TestYoutube/lib/python3.6/site-packages/sklearn/model_selection/_search.py:841: DeprecationWarning: The default of the `iid` parameter will change from True to False in version 0.22 and will be removed in 0.24. This will change numeric results when test-set sizes are unequal.\n",
      "  DeprecationWarning)\n"
     ]
    },
    {
     "data": {
      "text/plain": [
       "GridSearchCV(cv=5, error_score='raise-deprecating',\n",
       "       estimator=Pipeline(memory=None,\n",
       "     steps=[('vectorizer', CountVectorizer(analyzer='word', binary=False, decode_error='strict',\n",
       "        dtype=<class 'numpy.int64'>, encoding='utf-8', input='content',\n",
       "        lowercase=True, max_df=1.0, max_features=None, min_df=1,\n",
       "        ngram_range=(1, 1), preprocessor=None, stop_words='english',\n",
       "  ...ki',\n",
       "           metric_params=None, n_jobs=None, n_neighbors=5, p=2,\n",
       "           weights='uniform'))]),\n",
       "       fit_params=None, iid='warn', n_jobs=-1,\n",
       "       param_grid={'vectorizer__ngram_range': [(1, 1), (1, 2)], 'vectorizer__analyzer': ('word', 'char'), 'classifier__n_neighbors': range(1, 50)},\n",
       "       pre_dispatch='2*n_jobs', refit=True, return_train_score='warn',\n",
       "       scoring='accuracy', verbose=0)"
      ]
     },
     "execution_count": 274,
     "metadata": {},
     "output_type": "execute_result"
    }
   ],
   "source": [
    "grid_search = GridSearchCV(pipeline, param_grid=grid, scoring='accuracy', n_jobs=-1, cv=5)\n",
    "grid_search.fit(X_train,Y_train)"
   ]
  },
  {
   "cell_type": "code",
   "execution_count": 275,
   "metadata": {},
   "outputs": [
    {
     "name": "stdout",
     "output_type": "stream",
     "text": [
      "Pipeline(memory=None,\n",
      "     steps=[('vectorizer', CountVectorizer(analyzer='word', binary=False, decode_error='strict',\n",
      "        dtype=<class 'numpy.int64'>, encoding='utf-8', input='content',\n",
      "        lowercase=True, max_df=1.0, max_features=None, min_df=1,\n",
      "        ngram_range=(1, 2), preprocessor=None, stop_words='english',\n",
      "  ...ki',\n",
      "           metric_params=None, n_jobs=None, n_neighbors=2, p=2,\n",
      "           weights='uniform'))]) \n",
      "\n",
      "\tclassifier__n_neighbors: 2\n",
      "\tvectorizer__analyzer: word\n",
      "\tvectorizer__ngram_range: (1, 2)\n"
     ]
    }
   ],
   "source": [
    "print(grid_search.best_estimator_,\"\\n\")\n",
    "\n",
    "best_parameters = grid_search.best_estimator_.get_params()\n",
    "for param_name in sorted(list(grid.keys())):\n",
    "    print(\"\\t{0}: {1}\".format(param_name, best_parameters[param_name]))\n",
    "\n",
    "best_model = grid_search.best_estimator_\n",
    "y_pred=best_model.predict(X_test)\n"
   ]
  },
  {
   "cell_type": "code",
   "execution_count": 276,
   "metadata": {},
   "outputs": [
    {
     "name": "stdout",
     "output_type": "stream",
     "text": [
      "Confusion matrix \n",
      " [[87  2]\n",
      " [ 9 54]] \n",
      "\n",
      "Classification_report \n",
      "                precision    recall  f1-score   support\n",
      "\n",
      "           0       0.91      0.98      0.94        89\n",
      "           1       0.96      0.86      0.91        63\n",
      "\n",
      "   micro avg       0.93      0.93      0.93       152\n",
      "   macro avg       0.94      0.92      0.92       152\n",
      "weighted avg       0.93      0.93      0.93       152\n",
      " \n",
      "\n",
      "Train Accuracy 0.9912280701754386\n",
      "Test Accuracy: 0.9276315789473685\n",
      "roc_auc_score 0.9173354735152488\n"
     ]
    }
   ],
   "source": [
    "\n",
    "confusion=confusion_matrix(Y_test, y_pred)\n",
    "report=classification_report(Y_test,y_pred)\n",
    "false_positive_rate, true_positive_rate, thresholds = roc_curve(Y_test, y_pred)\n",
    "roc_auc = auc(false_positive_rate, true_positive_rate)\n",
    "print(\"Confusion matrix \\n\",confusion,\"\\n\")\n",
    "print(\"Classification_report \\n \",report,\"\\n\")\n",
    "\n",
    "print(\"Train Accuracy\",accuracy_score(Y_train, best_model.predict(X_train)))\n",
    "print(\"Test Accuracy:\",accuracy_score(Y_test,y_pred))\n",
    "print(\"roc_auc_score\",roc_auc)"
   ]
  },
  {
   "cell_type": "code",
   "execution_count": null,
   "metadata": {},
   "outputs": [],
   "source": []
  },
  {
   "cell_type": "code",
   "execution_count": 277,
   "metadata": {},
   "outputs": [
    {
     "name": "stdout",
     "output_type": "stream",
     "text": [
      "0.6578947368421053\n",
      "0.9276315789473685\n",
      "0.9144736842105263\n",
      "0.8421052631578947\n",
      "0.8289473684210527\n",
      "0.743421052631579\n",
      "0.7828947368421053\n",
      "0.7631578947368421\n",
      "0.7697368421052632\n",
      "0.7631578947368421\n",
      "0.7631578947368421\n",
      "0.7171052631578947\n",
      "0.7302631578947368\n",
      "0.6842105263157895\n",
      "0.7105263157894737\n",
      "0.6710526315789473\n",
      "0.6842105263157895\n",
      "0.6578947368421053\n",
      "0.6513157894736842\n",
      "0.6578947368421053\n",
      "0.6578947368421053\n",
      "0.6578947368421053\n",
      "0.6578947368421053\n",
      "0.6578947368421053\n",
      "0.6578947368421053\n",
      "0.6578947368421053\n",
      "0.6578947368421053\n",
      "0.6578947368421053\n",
      "0.6578947368421053\n"
     ]
    }
   ],
   "source": [
    "# plot represents the classifier accuracy and shows that the highest accuracy is as shown by gridSearchCv\n",
    "K_rang=range(1,30)\n",
    "K_score=[]\n",
    "for k in K_rang:\n",
    "    pipelineTf_Idf = Pipeline([\n",
    "    ('vectorizer',CountVectorizer(stop_words='english',analyzer='word',ngram_range=(1, 2))),\n",
    "    ('classifier', KNeighborsClassifier(k))])\n",
    "    \n",
    "    model=pipelineTf_Idf.fit(X_train,Y_train)\n",
    "    y_pred = model.predict(X_test)\n",
    "\n",
    "    K_score.append(accuracy_score(Y_test, y_pred))\n",
    "for i in K_score:\n",
    "    print(i)"
   ]
  },
  {
   "cell_type": "code",
   "execution_count": null,
   "metadata": {},
   "outputs": [],
   "source": []
  },
  {
   "cell_type": "code",
   "execution_count": 278,
   "metadata": {
    "scrolled": true
   },
   "outputs": [
    {
     "data": {
      "text/plain": [
       "Text(0, 0.5, 'cross-valdition Accuracy')"
      ]
     },
     "execution_count": 278,
     "metadata": {},
     "output_type": "execute_result"
    },
    {
     "data": {
      "image/png": "[encoded data removed]",
      "text/plain": [
       "<Figure size 432x288 with 1 Axes>"
      ]
     },
     "metadata": {
      "needs_background": "light"
     },
     "output_type": "display_data"
    }
   ],
   "source": [
    "\n",
    "#polt the value of K for KNN\n",
    "plt.plot(K_rang,K_score)\n",
    "plt.xlabel(\"value of k for knn\")\n",
    "plt.ylabel(\"cross-valdition Accuracy\")\n",
    "\n"
   ]
  },
  {
   "cell_type": "code",
   "execution_count": 279,
   "metadata": {},
   "outputs": [
    {
     "data": {
      "image/png": "[encoded data removed]",
      "text/plain": [
       "<Figure size 432x288 with 2 Axes>"
      ]
     },
     "metadata": {
      "needs_background": "light"
     },
     "output_type": "display_data"
    }
   ],
   "source": [
    "#confusion matrix plot\n",
    "\n",
    "ax= plt.subplot()\n",
    "sns.heatmap(confusion, annot=True, ax = ax); #annot=True to annotate cells\n",
    "\n",
    "# labels, title and ticks\n",
    "ax.set_xlabel('Predicted labels');ax.set_ylabel('True labels'); \n",
    "ax.set_title('Confusion Matrix'); \n",
    "ax.xaxis.set_ticklabels(['real', 'fake']); ax.yaxis.set_ticklabels(['real', 'fake']);"
   ]
  },
  {
   "cell_type": "code",
   "execution_count": null,
   "metadata": {},
   "outputs": [],
   "source": []
  },
  {
   "cell_type": "markdown",
   "metadata": {},
   "source": [
    "Exp3- Tf-Idf+ Preprocessed text \n"
   ]
  },
  {
   "cell_type": "code",
   "execution_count": 313,
   "metadata": {},
   "outputs": [],
   "source": [
    "\n",
    "x=df_balanced[\"strong_pro1\"]\n",
    "y=df_balanced['tag']\n",
    "\n",
    "X_train, X_test, Y_train, Y_test = model_selection.train_test_split( x, y, stratify=y, random_state=42,test_size=0.25)\n",
    "\n",
    "pipeline = Pipeline([\n",
    "    ('vectorizer',TfidfVectorizer(stop_words='english')),\n",
    "    ('classifier', KNeighborsClassifier())])\n"
   ]
  },
  {
   "cell_type": "code",
   "execution_count": 314,
   "metadata": {},
   "outputs": [],
   "source": [
    "grid = {\n",
    "    'vectorizer__ngram_range': [(1, 1), (1, 2)],\n",
    "    'classifier__n_neighbors':range(1,30)\n",
    "}"
   ]
  },
  {
   "cell_type": "code",
   "execution_count": 315,
   "metadata": {},
   "outputs": [
    {
     "name": "stderr",
     "output_type": "stream",
     "text": [
      "/anaconda3/envs/TestYoutube/lib/python3.6/site-packages/sklearn/model_selection/_search.py:841: DeprecationWarning: The default of the `iid` parameter will change from True to False in version 0.22 and will be removed in 0.24. This will change numeric results when test-set sizes are unequal.\n",
      "  DeprecationWarning)\n"
     ]
    },
    {
     "data": {
      "text/plain": [
       "GridSearchCV(cv=5, error_score='raise-deprecating',\n",
       "       estimator=Pipeline(memory=None,\n",
       "     steps=[('vectorizer', TfidfVectorizer(analyzer='word', binary=False, decode_error='strict',\n",
       "        dtype=<class 'numpy.float64'>, encoding='utf-8', input='content',\n",
       "        lowercase=True, max_df=1.0, max_features=None, min_df=1,\n",
       "        ngram_range=(1, 1), norm='l2', preprocessor=None, smooth_idf=...ki',\n",
       "           metric_params=None, n_jobs=None, n_neighbors=5, p=2,\n",
       "           weights='uniform'))]),\n",
       "       fit_params=None, iid='warn', n_jobs=-1,\n",
       "       param_grid={'vectorizer__ngram_range': [(1, 1), (1, 2)], 'vectorizer__analyzer': ('word', 'char'), 'classifier__n_neighbors': range(1, 30)},\n",
       "       pre_dispatch='2*n_jobs', refit=True, return_train_score='warn',\n",
       "       scoring='accuracy', verbose=0)"
      ]
     },
     "execution_count": 315,
     "metadata": {},
     "output_type": "execute_result"
    }
   ],
   "source": [
    "\n",
    "grid_search = GridSearchCV(pipeline, param_grid=grid, scoring='accuracy', n_jobs=-1, cv=5)\n",
    "grid_search.fit(X_train,Y_train)\n"
   ]
  },
  {
   "cell_type": "code",
   "execution_count": 316,
   "metadata": {},
   "outputs": [
    {
     "name": "stdout",
     "output_type": "stream",
     "text": [
      "Pipeline(memory=None,\n",
      "     steps=[('vectorizer', TfidfVectorizer(analyzer='word', binary=False, decode_error='strict',\n",
      "        dtype=<class 'numpy.float64'>, encoding='utf-8', input='content',\n",
      "        lowercase=True, max_df=1.0, max_features=None, min_df=1,\n",
      "        ngram_range=(1, 1), norm='l2', preprocessor=None, smooth_idf=...ki',\n",
      "           metric_params=None, n_jobs=None, n_neighbors=1, p=2,\n",
      "           weights='uniform'))]) \n",
      "\n",
      "\tclassifier__n_neighbors: 1\n",
      "\tvectorizer__analyzer: word\n",
      "\tvectorizer__ngram_range: (1, 1)\n"
     ]
    }
   ],
   "source": [
    "\n",
    "print(grid_search.best_estimator_,\"\\n\")\n",
    "\n",
    "best_parameters = grid_search.best_estimator_.get_params()\n",
    "for param_name in sorted(list(grid.keys())):\n",
    "    print(\"\\t{0}: {1}\".format(param_name, best_parameters[param_name]))\n"
   ]
  },
  {
   "cell_type": "code",
   "execution_count": 317,
   "metadata": {},
   "outputs": [
    {
     "name": "stdout",
     "output_type": "stream",
     "text": [
      "Confusion matrix \n",
      " [[79 10]\n",
      " [ 5 58]] \n",
      "\n",
      "Classification_report \n",
      "                precision    recall  f1-score   support\n",
      "\n",
      "           0       0.94      0.89      0.91        89\n",
      "           1       0.85      0.92      0.89        63\n",
      "\n",
      "   micro avg       0.90      0.90      0.90       152\n",
      "   macro avg       0.90      0.90      0.90       152\n",
      "weighted avg       0.90      0.90      0.90       152\n",
      " \n",
      "\n",
      "Train Accuracy 0.9956140350877193\n",
      "Test Accuracy: 0.9013157894736842\n",
      "roc_auc_score 0.9041376850365613\n"
     ]
    }
   ],
   "source": [
    "\n",
    "best_model = grid_search.best_estimator_\n",
    "y_pred=best_model.predict(X_test)\n",
    "\n",
    "confusion=confusion_matrix(Y_test, y_pred)\n",
    "report=classification_report(Y_test,y_pred)\n",
    "false_positive_rate, true_positive_rate, thresholds = roc_curve(Y_test, y_pred)\n",
    "roc_auc = auc(false_positive_rate, true_positive_rate)\n",
    "print(\"Confusion matrix \\n\",confusion,\"\\n\")\n",
    "print(\"Classification_report \\n \",report,\"\\n\")\n",
    "print(\"Train Accuracy\",accuracy_score(Y_train, best_model.predict(X_train)))\n",
    "print(\"Test Accuracy:\",accuracy_score(Y_test,y_pred))\n",
    "print(\"roc_auc_score\",roc_auc)"
   ]
  },
  {
   "cell_type": "code",
   "execution_count": null,
   "metadata": {},
   "outputs": [],
   "source": []
  },
  {
   "cell_type": "code",
   "execution_count": 321,
   "metadata": {},
   "outputs": [
    {
     "name": "stdout",
     "output_type": "stream",
     "text": [
      "0.6644736842105263\n",
      "0.9078947368421053\n",
      "0.8947368421052632\n",
      "0.8355263157894737\n",
      "0.8223684210526315\n",
      "0.8092105263157895\n",
      "0.8289473684210527\n",
      "0.7960526315789473\n",
      "0.8026315789473685\n",
      "0.756578947368421\n",
      "0.7697368421052632\n",
      "0.743421052631579\n",
      "0.743421052631579\n",
      "0.7302631578947368\n",
      "0.7368421052631579\n",
      "0.7039473684210527\n",
      "0.6973684210526315\n",
      "0.6776315789473685\n",
      "0.6776315789473685\n",
      "0.6644736842105263\n",
      "0.6776315789473685\n",
      "0.6644736842105263\n",
      "0.6644736842105263\n",
      "0.6644736842105263\n",
      "0.6644736842105263\n",
      "0.6578947368421053\n",
      "0.6710526315789473\n",
      "0.6644736842105263\n",
      "0.6644736842105263\n"
     ]
    }
   ],
   "source": [
    "# plot represents the classifier accuracy and shows that the highest accuracy is as shown by gridSearchCv\n",
    "K_rang=range(1,30)\n",
    "K_score=[]\n",
    "for k in K_rang:\n",
    "    pipelineTf_Idf = Pipeline([\n",
    "    ('vectorizer',CountVectorizer(stop_words='english',analyzer='word',ngram_range=(1, 1))),\n",
    "    ('classifier', KNeighborsClassifier(k))])\n",
    "    \n",
    "    model=pipelineTf_Idf.fit(X_train,Y_train)\n",
    "    y_pred = model .predict(X_test)\n",
    "\n",
    "    K_score.append(accuracy_score(Y_test, y_pred))\n",
    "for i in K_score:\n",
    "    print(i)"
   ]
  },
  {
   "cell_type": "code",
   "execution_count": 322,
   "metadata": {},
   "outputs": [
    {
     "data": {
      "text/plain": [
       "Text(0, 0.5, 'cross-valdition Accuracy')"
      ]
     },
     "execution_count": 322,
     "metadata": {},
     "output_type": "execute_result"
    },
    {
     "data": {
      "image/png": "[encoded data removed]",
      "text/plain": [
       "<Figure size 432x288 with 1 Axes>"
      ]
     },
     "metadata": {
      "needs_background": "light"
     },
     "output_type": "display_data"
    }
   ],
   "source": [
    "\n",
    "#polt the value of K for KNN\n",
    "plt.plot(K_rang,K_score)\n",
    "plt.xlabel(\"value of k for knn\")\n",
    "plt.ylabel(\"cross-valdition Accuracy\")\n",
    "\n",
    "\n"
   ]
  },
  {
   "cell_type": "code",
   "execution_count": 318,
   "metadata": {
    "scrolled": true
   },
   "outputs": [
    {
     "data": {
      "image/png": "[encoded data removed]",
      "text/plain": [
       "<Figure size 432x288 with 2 Axes>"
      ]
     },
     "metadata": {
      "needs_background": "light"
     },
     "output_type": "display_data"
    }
   ],
   "source": [
    "#confusion matrix plot\n",
    "\n",
    "ax= plt.subplot()\n",
    "sns.heatmap(confusion, annot=True, ax = ax); #annot=True to annotate cells\n",
    "\n",
    "# labels, title and ticks\n",
    "ax.set_xlabel('Predicted labels');ax.set_ylabel('True labels'); \n",
    "ax.set_title('Confusion Matrix'); \n",
    "ax.xaxis.set_ticklabels(['real', 'fake']); ax.yaxis.set_ticklabels(['real', 'fake']);"
   ]
  },
  {
   "cell_type": "code",
   "execution_count": null,
   "metadata": {},
   "outputs": [],
   "source": []
  },
  {
   "cell_type": "markdown",
   "metadata": {},
   "source": [
    "Exp4- Tf-Idf + Preprocessed text + Stemming"
   ]
  },
  {
   "cell_type": "code",
   "execution_count": 324,
   "metadata": {},
   "outputs": [],
   "source": [
    "\n",
    "x=df_balanced[\"Stemming\"]\n",
    "y=df_balanced['tag']\n",
    "\n",
    "X_train, X_test, Y_train, Y_test = model_selection.train_test_split( x, y, stratify=y, random_state=42,test_size=0.25)\n",
    "\n",
    "pipeline = Pipeline([\n",
    "    ('vectorizer',TfidfVectorizer(stop_words='english')),\n",
    "    ('classifier', KNeighborsClassifier())])\n"
   ]
  },
  {
   "cell_type": "code",
   "execution_count": 325,
   "metadata": {},
   "outputs": [],
   "source": [
    "grid = {\n",
    "    'vectorizer__ngram_range': [(1, 1), (1, 2)],\n",
    "    'classifier__n_neighbors':range(1,30)\n",
    "}"
   ]
  },
  {
   "cell_type": "code",
   "execution_count": 326,
   "metadata": {},
   "outputs": [
    {
     "data": {
      "text/plain": [
       "GridSearchCV(cv=5, error_score='raise-deprecating',\n",
       "       estimator=Pipeline(memory=None,\n",
       "     steps=[('vectorizer', TfidfVectorizer(analyzer='word', binary=False, decode_error='strict',\n",
       "        dtype=<class 'numpy.float64'>, encoding='utf-8', input='content',\n",
       "        lowercase=True, max_df=1.0, max_features=None, min_df=1,\n",
       "        ngram_range=(1, 1), norm='l2', preprocessor=None, smooth_idf=...ki',\n",
       "           metric_params=None, n_jobs=None, n_neighbors=5, p=2,\n",
       "           weights='uniform'))]),\n",
       "       fit_params=None, iid='warn', n_jobs=-1,\n",
       "       param_grid={'vectorizer__ngram_range': [(1, 1), (1, 2)], 'vectorizer__analyzer': ('word', 'char'), 'classifier__n_neighbors': range(1, 30)},\n",
       "       pre_dispatch='2*n_jobs', refit=True, return_train_score='warn',\n",
       "       scoring='accuracy', verbose=0)"
      ]
     },
     "execution_count": 326,
     "metadata": {},
     "output_type": "execute_result"
    }
   ],
   "source": [
    "\n",
    "grid_search = GridSearchCV(pipeline, param_grid=grid, scoring='accuracy', n_jobs=-1, cv=5)\n",
    "grid_search.fit(X_train,Y_train)\n"
   ]
  },
  {
   "cell_type": "code",
   "execution_count": 327,
   "metadata": {},
   "outputs": [
    {
     "name": "stdout",
     "output_type": "stream",
     "text": [
      "Pipeline(memory=None,\n",
      "     steps=[('vectorizer', TfidfVectorizer(analyzer='word', binary=False, decode_error='strict',\n",
      "        dtype=<class 'numpy.float64'>, encoding='utf-8', input='content',\n",
      "        lowercase=True, max_df=1.0, max_features=None, min_df=1,\n",
      "        ngram_range=(1, 1), norm='l2', preprocessor=None, smooth_idf=...ki',\n",
      "           metric_params=None, n_jobs=None, n_neighbors=1, p=2,\n",
      "           weights='uniform'))]) \n",
      "\n",
      "\tclassifier__n_neighbors: 1\n",
      "\tvectorizer__analyzer: word\n",
      "\tvectorizer__ngram_range: (1, 1)\n"
     ]
    }
   ],
   "source": [
    "\n",
    "print(grid_search.best_estimator_,\"\\n\")\n",
    "\n",
    "best_parameters = grid_search.best_estimator_.get_params()\n",
    "for param_name in sorted(list(grid.keys())):\n",
    "    print(\"\\t{0}: {1}\".format(param_name,  [param_name]))\n"
   ]
  },
  {
   "cell_type": "code",
   "execution_count": 328,
   "metadata": {},
   "outputs": [
    {
     "name": "stdout",
     "output_type": "stream",
     "text": [
      "Confusion matrix \n",
      " [[79 10]\n",
      " [ 5 58]] \n",
      "\n",
      "Classification_report \n",
      "                precision    recall  f1-score   support\n",
      "\n",
      "           0       0.94      0.89      0.91        89\n",
      "           1       0.85      0.92      0.89        63\n",
      "\n",
      "   micro avg       0.90      0.90      0.90       152\n",
      "   macro avg       0.90      0.90      0.90       152\n",
      "weighted avg       0.90      0.90      0.90       152\n",
      " \n",
      "\n",
      "Train Accuracy 0.9956140350877193\n",
      "Test Accuracy: 0.9013157894736842\n",
      "roc_auc_score 0.9041376850365613\n"
     ]
    }
   ],
   "source": [
    "\n",
    "best_model = grid_search.best_estimator_\n",
    "y_pred=best_model.predict(X_test)\n",
    "\n",
    "confusion=confusion_matrix(Y_test, y_pred)\n",
    "report=classification_report(Y_test,y_pred)\n",
    "false_positive_rate, true_positive_rate, thresholds = roc_curve(Y_test, y_pred)\n",
    "roc_auc = auc(false_positive_rate, true_positive_rate)\n",
    "print(\"Confusion matrix \\n\",confusion,\"\\n\")\n",
    "print(\"Classification_report \\n \",report,\"\\n\")\n",
    "print(\"Train Accuracy\",accuracy_score(Y_train, best_model.predict(X_train)))\n",
    "print(\"Test Accuracy:\",accuracy_score(Y_test,y_pred))\n",
    "print(\"roc_auc_score\",roc_auc)"
   ]
  },
  {
   "cell_type": "code",
   "execution_count": null,
   "metadata": {},
   "outputs": [],
   "source": []
  },
  {
   "cell_type": "code",
   "execution_count": 329,
   "metadata": {},
   "outputs": [
    {
     "name": "stdout",
     "output_type": "stream",
     "text": [
      "0.75\n",
      "0.9276315789473685\n",
      "0.9078947368421053\n",
      "0.8289473684210527\n",
      "0.8355263157894737\n",
      "0.8092105263157895\n",
      "0.8157894736842105\n",
      "0.7894736842105263\n",
      "0.7960526315789473\n",
      "0.7631578947368421\n",
      "0.7697368421052632\n",
      "0.7631578947368421\n",
      "0.7828947368421053\n",
      "0.7368421052631579\n",
      "0.743421052631579\n",
      "0.7105263157894737\n",
      "0.7171052631578947\n",
      "0.7039473684210527\n",
      "0.7039473684210527\n",
      "0.7039473684210527\n",
      "0.7105263157894737\n",
      "0.6842105263157895\n",
      "0.6973684210526315\n",
      "0.6710526315789473\n",
      "0.6710526315789473\n",
      "0.6644736842105263\n",
      "0.6710526315789473\n",
      "0.6644736842105263\n",
      "0.6644736842105263\n"
     ]
    }
   ],
   "source": [
    "# plot represents the classifier accuracy and shows that the highest accuracy is as shown by gridSearchCv\n",
    "K_rang=range(1,30)\n",
    "K_score=[]\n",
    "for k in K_rang:\n",
    "    pipelineTf_Idf = Pipeline([\n",
    "    ('vectorizer',CountVectorizer(stop_words='english',analyzer='word',ngram_range=(1, 1))),\n",
    "    ('classifier', KNeighborsClassifier(k))])\n",
    "    \n",
    "    model=pipelineTf_Idf.fit(X_train,Y_train)\n",
    "    y_pred = model.predict(X_test)\n",
    "\n",
    "    K_score.append(accuracy_score(Y_test, y_pred))\n",
    "for i in K_score:\n",
    "    print(i)"
   ]
  },
  {
   "cell_type": "code",
   "execution_count": 330,
   "metadata": {},
   "outputs": [
    {
     "data": {
      "text/plain": [
       "Text(0, 0.5, 'cross-valdition Accuracy')"
      ]
     },
     "execution_count": 330,
     "metadata": {},
     "output_type": "execute_result"
    },
    {
     "data": {
      "image/png": "[encoded data removed]",
      "text/plain": [
       "<Figure size 432x288 with 1 Axes>"
      ]
     },
     "metadata": {
      "needs_background": "light"
     },
     "output_type": "display_data"
    }
   ],
   "source": [
    "\n",
    "#polt the value of K for KNN\n",
    "plt.plot(K_rang,K_score)\n",
    "plt.xlabel(\"value of k for knn\")\n",
    "plt.ylabel(\"cross-valdition Accuracy\")\n",
    "\n",
    "\n"
   ]
  },
  {
   "cell_type": "code",
   "execution_count": 331,
   "metadata": {
    "scrolled": false
   },
   "outputs": [
    {
     "data": {
      "image/png": "[encoded data removed]",
      "text/plain": [
       "<Figure size 432x288 with 2 Axes>"
      ]
     },
     "metadata": {
      "needs_background": "light"
     },
     "output_type": "display_data"
    }
   ],
   "source": [
    "#confusion matrix plot\n",
    "\n",
    "ax= plt.subplot()\n",
    "sns.heatmap(confusion, annot=True, ax = ax); #annot=True to annotate cells\n",
    "\n",
    "# labels, title and ticks\n",
    "ax.set_xlabel('Predicted labels');ax.set_ylabel('True labels'); \n",
    "ax.set_title('Confusion Matrix'); \n",
    "ax.xaxis.set_ticklabels(['real', 'fake']); ax.yaxis.set_ticklabels(['real', 'fake']);"
   ]
  },
  {
   "cell_type": "code",
   "execution_count": null,
   "metadata": {},
   "outputs": [],
   "source": []
  },
  {
   "cell_type": "code",
   "execution_count": null,
   "metadata": {},
   "outputs": [],
   "source": []
  },
  {
   "cell_type": "markdown",
   "metadata": {},
   "source": [
    "# Multinomial Naïve Bayes Classifier "
   ]
  },
  {
   "cell_type": "code",
   "execution_count": null,
   "metadata": {},
   "outputs": [],
   "source": []
  },
  {
   "cell_type": "code",
   "execution_count": 41,
   "metadata": {},
   "outputs": [
    {
     "data": {
      "text/plain": [
       "GridSearchCV(cv=5, error_score='raise-deprecating',\n",
       "       estimator=Pipeline(memory=None,\n",
       "     steps=[('vectorizer', CountVectorizer(analyzer='word', binary=False, decode_error='strict',\n",
       "        dtype=<class 'numpy.int64'>, encoding='utf-8', input='content',\n",
       "        lowercase=True, max_df=1.0, max_features=None, min_df=1,\n",
       "        ngram_range=(1, 1), prepro...one, vocabulary=None)), ('classifier', MultinomialNB(alpha=1.0, class_prior=None, fit_prior=True))]),\n",
       "       fit_params=None, iid='warn', n_jobs=-1,\n",
       "       param_grid={'vectorizer__ngram_range': [(1, 1), (1, 2)], 'vectorizer__analyzer': ('word', 'char')},\n",
       "       pre_dispatch='2*n_jobs', refit=True, return_train_score='warn',\n",
       "       scoring='accuracy', verbose=0)"
      ]
     },
     "execution_count": 41,
     "metadata": {},
     "output_type": "execute_result"
    }
   ],
   "source": [
    "x=df_balanced[\"strong_pro1\"]\n",
    "y=df_balanced['tag']\n",
    "\n",
    "X_train, X_test, Y_train, Y_test = model_selection.train_test_split( x, y, stratify=y, random_state=42,test_size=0.25)\n",
    "\n",
    "pipeline = Pipeline([\n",
    "    ('vectorizer',CountVectorizer(stop_words='english')),\n",
    "    ('classifier', MultinomialNB())])\n",
    "\n",
    "grid = {\n",
    "    'vectorizer__ngram_range': [(1, 1), (1, 2)],\n",
    "}\n",
    "\n",
    "\n",
    "grid_search = GridSearchCV(pipeline, param_grid=grid, scoring='accuracy', n_jobs=-1, cv=5)\n",
    "grid_search.fit(X_train,Y_train)\n"
   ]
  },
  {
   "cell_type": "code",
   "execution_count": 42,
   "metadata": {},
   "outputs": [
    {
     "name": "stdout",
     "output_type": "stream",
     "text": [
      "Pipeline(memory=None,\n",
      "     steps=[('vectorizer', CountVectorizer(analyzer='word', binary=False, decode_error='strict',\n",
      "        dtype=<class 'numpy.int64'>, encoding='utf-8', input='content',\n",
      "        lowercase=True, max_df=1.0, max_features=None, min_df=1,\n",
      "        ngram_range=(1, 2), preprocessor=None, stop_words='english',\n",
      "        strip_accents=None, token_pattern='(?u)\\\\b\\\\w\\\\w+\\\\b',\n",
      "        tokenizer=None, vocabulary=None)), ('classifier', MultinomialNB(alpha=1.0, class_prior=None, fit_prior=True))]) \n",
      "\n",
      "\tvectorizer__analyzer: word\n",
      "\tvectorizer__ngram_range: (1, 2)\n"
     ]
    }
   ],
   "source": [
    "\n",
    "print(grid_search.best_estimator_,\"\\n\")\n",
    "\n",
    "best_parameters = grid_search.best_estimator_.get_params()\n",
    "for param_name in sorted(list(grid.keys())):\n",
    "    print(\"\\t{0}: {1}\".format(param_name, best_parameters[param_name]))\n",
    "\n",
    "best_model = grid_search.best_estimator_\n",
    "y_pred=best_model.predict(X_test)\n"
   ]
  },
  {
   "cell_type": "code",
   "execution_count": 43,
   "metadata": {},
   "outputs": [
    {
     "name": "stdout",
     "output_type": "stream",
     "text": [
      "Confusion matrix \n",
      " [[77 12]\n",
      " [ 8 55]] \n",
      "\n",
      "Classification_report \n",
      "                precision    recall  f1-score   support\n",
      "\n",
      "           0       0.91      0.87      0.89        89\n",
      "           1       0.82      0.87      0.85        63\n",
      "\n",
      "   micro avg       0.87      0.87      0.87       152\n",
      "   macro avg       0.86      0.87      0.87       152\n",
      "weighted avg       0.87      0.87      0.87       152\n",
      " \n",
      "\n",
      "Train Accuracy 0.9912280701754386\n",
      "Test Accuracy: 0.868421052631579\n",
      "roc_auc_score 0.8690922061708578\n"
     ]
    }
   ],
   "source": [
    "\n",
    "confusion=confusion_matrix(Y_test, y_pred)\n",
    "report=classification_report(Y_test,y_pred)\n",
    "false_positive_rate, true_positive_rate, thresholds = roc_curve(Y_test, y_pred)\n",
    "roc_auc = auc(false_positive_rate, true_positive_rate)\n",
    "print(\"Confusion matrix \\n\",confusion,\"\\n\")\n",
    "print(\"Classification_report \\n \",report,\"\\n\")\n",
    "print(\"Train Accuracy\",accuracy_score(Y_train, best_model.predict(X_train)))\n",
    "print(\"Test Accuracy:\",accuracy_score(Y_test,y_pred))\n",
    "print(\"roc_auc_score\",roc_auc)"
   ]
  },
  {
   "cell_type": "code",
   "execution_count": 44,
   "metadata": {
    "scrolled": true
   },
   "outputs": [
    {
     "data": {
      "image/png": "[encoded data removed]",
      "text/plain": [
       "<Figure size 432x288 with 2 Axes>"
      ]
     },
     "metadata": {
      "needs_background": "light"
     },
     "output_type": "display_data"
    }
   ],
   "source": [
    "#confusion matrix plot\n",
    "\n",
    "ax= plt.subplot()\n",
    "sns.heatmap(confusion, annot=True, ax = ax); #annot=True to annotate cells\n",
    "\n",
    "# labels, title and ticks\n",
    "ax.set_xlabel('Predicted labels');ax.set_ylabel('True labels'); \n",
    "ax.set_title('Confusion Matrix'); \n",
    "ax.xaxis.set_ticklabels(['real', 'fake']); ax.yaxis.set_ticklabels(['real', 'fake']);"
   ]
  },
  {
   "cell_type": "code",
   "execution_count": null,
   "metadata": {},
   "outputs": [],
   "source": []
  },
  {
   "cell_type": "markdown",
   "metadata": {},
   "source": [
    "Exp2: Bow + Preprocessed text +Stemming\n"
   ]
  },
  {
   "cell_type": "code",
   "execution_count": 45,
   "metadata": {},
   "outputs": [
    {
     "data": {
      "text/plain": [
       "GridSearchCV(cv=5, error_score='raise-deprecating',\n",
       "       estimator=Pipeline(memory=None,\n",
       "     steps=[('vectorizer', CountVectorizer(analyzer='word', binary=False, decode_error='strict',\n",
       "        dtype=<class 'numpy.int64'>, encoding='utf-8', input='content',\n",
       "        lowercase=True, max_df=1.0, max_features=None, min_df=1,\n",
       "        ngram_range=(1, 1), prepro...one, vocabulary=None)), ('classifier', MultinomialNB(alpha=1.0, class_prior=None, fit_prior=True))]),\n",
       "       fit_params=None, iid='warn', n_jobs=-1,\n",
       "       param_grid={'vectorizer__ngram_range': [(1, 1), (1, 2)], 'vectorizer__analyzer': ('word', 'char')},\n",
       "       pre_dispatch='2*n_jobs', refit=True, return_train_score='warn',\n",
       "       scoring='accuracy', verbose=0)"
      ]
     },
     "execution_count": 45,
     "metadata": {},
     "output_type": "execute_result"
    }
   ],
   "source": [
    "x=df_balanced[\"Stemming\"]\n",
    "y=df_balanced['tag']\n",
    "\n",
    "X_train, X_test, Y_train, Y_test = model_selection.train_test_split( x, y, stratify=y, random_state=42,test_size=0.25)\n",
    "\n",
    "pipeline = Pipeline([\n",
    "    ('vectorizer',CountVectorizer(stop_words='english')),\n",
    "    ('classifier', MultinomialNB())])\n",
    "\n",
    "grid = {\n",
    "    'vectorizer__ngram_range': [(1, 1), (1, 2)],\n",
    "}\n",
    "\n",
    "grid_search = GridSearchCV(pipeline, param_grid=grid, scoring='accuracy', n_jobs=-1, cv=5)\n",
    "grid_search.fit(X_train,Y_train)\n",
    "\n"
   ]
  },
  {
   "cell_type": "code",
   "execution_count": 46,
   "metadata": {
    "scrolled": true
   },
   "outputs": [
    {
     "name": "stdout",
     "output_type": "stream",
     "text": [
      "Pipeline(memory=None,\n",
      "     steps=[('vectorizer', CountVectorizer(analyzer='word', binary=False, decode_error='strict',\n",
      "        dtype=<class 'numpy.int64'>, encoding='utf-8', input='content',\n",
      "        lowercase=True, max_df=1.0, max_features=None, min_df=1,\n",
      "        ngram_range=(1, 2), preprocessor=None, stop_words='english',\n",
      "        strip_accents=None, token_pattern='(?u)\\\\b\\\\w\\\\w+\\\\b',\n",
      "        tokenizer=None, vocabulary=None)), ('classifier', MultinomialNB(alpha=1.0, class_prior=None, fit_prior=True))]) \n",
      "\n",
      "\tvectorizer__analyzer: word\n",
      "\tvectorizer__ngram_range: (1, 2)\n"
     ]
    }
   ],
   "source": [
    "\n",
    "print(grid_search.best_estimator_,\"\\n\")\n",
    "\n",
    "best_parameters = grid_search.best_estimator_.get_params()\n",
    "for param_name in sorted(list(grid.keys())):\n",
    "    print(\"\\t{0}: {1}\".format(param_name, best_parameters[param_name]))\n",
    "\n",
    "best_model = grid_search.best_estimator_\n",
    "y_pred=best_model.predict(X_test)\n"
   ]
  },
  {
   "cell_type": "code",
   "execution_count": 47,
   "metadata": {
    "scrolled": true
   },
   "outputs": [
    {
     "name": "stdout",
     "output_type": "stream",
     "text": [
      "Confusion matrix \n",
      " [[79 10]\n",
      " [ 7 56]] \n",
      "\n",
      "Classification_report \n",
      "                precision    recall  f1-score   support\n",
      "\n",
      "           0       0.92      0.89      0.90        89\n",
      "           1       0.85      0.89      0.87        63\n",
      "\n",
      "   micro avg       0.89      0.89      0.89       152\n",
      "   macro avg       0.88      0.89      0.89       152\n",
      "weighted avg       0.89      0.89      0.89       152\n",
      " \n",
      "\n",
      "Train Accuracy 0.9890350877192983\n",
      "Test Accuracy: 0.8881578947368421\n",
      "roc_auc_score 0.8882646691635455\n"
     ]
    }
   ],
   "source": [
    "\n",
    "confusion=confusion_matrix(Y_test, y_pred)\n",
    "report=classification_report(Y_test,y_pred)\n",
    "false_positive_rate, true_positive_rate, thresholds = roc_curve(Y_test, y_pred)\n",
    "roc_auc = auc(false_positive_rate, true_positive_rate)\n",
    "print(\"Confusion matrix \\n\",confusion,\"\\n\")\n",
    "print(\"Classification_report \\n \",report,\"\\n\")\n",
    "print(\"Train Accuracy\",accuracy_score(Y_train, best_model.predict(X_train)))\n",
    "print(\"Test Accuracy:\",accuracy_score(Y_test,y_pred))\n",
    "print(\"roc_auc_score\",roc_auc)"
   ]
  },
  {
   "cell_type": "code",
   "execution_count": 48,
   "metadata": {
    "scrolled": true
   },
   "outputs": [
    {
     "data": {
      "image/png": "[encoded data removed]",
      "text/plain": [
       "<Figure size 432x288 with 2 Axes>"
      ]
     },
     "metadata": {
      "needs_background": "light"
     },
     "output_type": "display_data"
    }
   ],
   "source": [
    "#confusion matrix plot\n",
    "\n",
    "ax= plt.subplot()\n",
    "sns.heatmap(confusion, annot=True, ax = ax); #annot=True to annotate cells\n",
    "\n",
    "# labels, title and ticks\n",
    "ax.set_xlabel('Predicted labels');ax.set_ylabel('True labels'); \n",
    "ax.set_title('Confusion Matrix'); \n",
    "ax.xaxis.set_ticklabels(['real', 'fake']); ax.yaxis.set_ticklabels(['real', 'fake']);"
   ]
  },
  {
   "cell_type": "code",
   "execution_count": null,
   "metadata": {},
   "outputs": [],
   "source": []
  },
  {
   "cell_type": "markdown",
   "metadata": {},
   "source": [
    "Exp3- Tf-Idf+ Preprocessed text \n"
   ]
  },
  {
   "cell_type": "code",
   "execution_count": 51,
   "metadata": {},
   "outputs": [],
   "source": [
    "\n",
    "x=df_balanced[\"strong_pro1\"]\n",
    "y=df_balanced['tag']\n",
    "\n",
    "X_train, X_test, Y_train, Y_test = model_selection.train_test_split( x, y, stratify=y, random_state=42,test_size=0.25)\n",
    "\n",
    "pipeline = Pipeline([\n",
    "    ('vectorizer',TfidfVectorizer(stop_words='english')),\n",
    "    ('classifier', MultinomialNB())])\n",
    "\n",
    "grid = {\n",
    "    'vectorizer__ngram_range': [(1, 1), (1, 2)],\n",
    "}"
   ]
  },
  {
   "cell_type": "code",
   "execution_count": 52,
   "metadata": {},
   "outputs": [
    {
     "data": {
      "text/plain": [
       "GridSearchCV(cv=5, error_score='raise-deprecating',\n",
       "       estimator=Pipeline(memory=None,\n",
       "     steps=[('vectorizer', TfidfVectorizer(analyzer='word', binary=False, decode_error='strict',\n",
       "        dtype=<class 'numpy.float64'>, encoding='utf-8', input='content',\n",
       "        lowercase=True, max_df=1.0, max_features=None, min_df=1,\n",
       "        ngram_range=(1, 1), norm='l2', preprocessor=None, smooth_idf=...      vocabulary=None)), ('classifier', MultinomialNB(alpha=1.0, class_prior=None, fit_prior=True))]),\n",
       "       fit_params=None, iid='warn', n_jobs=-1,\n",
       "       param_grid={'vectorizer__ngram_range': [(1, 1), (1, 2)], 'vectorizer__analyzer': ('word', 'char')},\n",
       "       pre_dispatch='2*n_jobs', refit=True, return_train_score='warn',\n",
       "       scoring='accuracy', verbose=0)"
      ]
     },
     "execution_count": 52,
     "metadata": {},
     "output_type": "execute_result"
    }
   ],
   "source": [
    "grid_search = GridSearchCV(pipeline, param_grid=grid, scoring='accuracy', n_jobs=-1, cv=5)\n",
    "grid_search.fit(X_train,Y_train)\n"
   ]
  },
  {
   "cell_type": "code",
   "execution_count": 53,
   "metadata": {},
   "outputs": [
    {
     "name": "stdout",
     "output_type": "stream",
     "text": [
      "Pipeline(memory=None,\n",
      "     steps=[('vectorizer', TfidfVectorizer(analyzer='word', binary=False, decode_error='strict',\n",
      "        dtype=<class 'numpy.float64'>, encoding='utf-8', input='content',\n",
      "        lowercase=True, max_df=1.0, max_features=None, min_df=1,\n",
      "        ngram_range=(1, 2), norm='l2', preprocessor=None, smooth_idf=...      vocabulary=None)), ('classifier', MultinomialNB(alpha=1.0, class_prior=None, fit_prior=True))]) \n",
      "\n",
      "\tvectorizer__analyzer: word\n",
      "\tvectorizer__ngram_range: (1, 2)\n"
     ]
    }
   ],
   "source": [
    "\n",
    "print(grid_search.best_estimator_,\"\\n\")\n",
    "\n",
    "best_parameters = grid_search.best_estimator_.get_params()\n",
    "for param_name in sorted(list(grid.keys())):\n",
    "    print(\"\\t{0}: {1}\".format(param_name, best_parameters[param_name]))\n",
    "\n",
    "best_model = grid_search.best_estimator_\n",
    "y_pred=best_model.predict(X_test)\n"
   ]
  },
  {
   "cell_type": "code",
   "execution_count": 54,
   "metadata": {},
   "outputs": [
    {
     "name": "stdout",
     "output_type": "stream",
     "text": [
      "Confusion matrix \n",
      " [[81  8]\n",
      " [10 53]] \n",
      "\n",
      "Classification_report \n",
      "                precision    recall  f1-score   support\n",
      "\n",
      "           0       0.89      0.91      0.90        89\n",
      "           1       0.87      0.84      0.85        63\n",
      "\n",
      "   micro avg       0.88      0.88      0.88       152\n",
      "   macro avg       0.88      0.88      0.88       152\n",
      "weighted avg       0.88      0.88      0.88       152\n",
      " \n",
      "\n",
      "Train Accuracy 0.9890350877192983\n",
      "Test Accuracy: 0.881578947368421\n",
      "roc_auc_score 0.8756911004102016\n"
     ]
    }
   ],
   "source": [
    "confusion=confusion_matrix(Y_test, y_pred)\n",
    "report=classification_report(Y_test,y_pred)\n",
    "false_positive_rate, true_positive_rate, thresholds = roc_curve(Y_test, y_pred)\n",
    "roc_auc = auc(false_positive_rate, true_positive_rate)\n",
    "print(\"Confusion matrix \\n\",confusion,\"\\n\")\n",
    "print(\"Classification_report \\n \",report,\"\\n\")\n",
    "print(\"Train Accuracy\",accuracy_score(Y_train, best_model.predict(X_train)))\n",
    "print(\"Test Accuracy:\",accuracy_score(Y_test,y_pred))\n",
    "print(\"roc_auc_score\",roc_auc)"
   ]
  },
  {
   "cell_type": "code",
   "execution_count": 55,
   "metadata": {
    "scrolled": true
   },
   "outputs": [
    {
     "data": {
      "image/png": "[encoded data removed]",
      "text/plain": [
       "<Figure size 432x288 with 2 Axes>"
      ]
     },
     "metadata": {
      "needs_background": "light"
     },
     "output_type": "display_data"
    }
   ],
   "source": [
    "#confusion matrix plot\n",
    "\n",
    "ax= plt.subplot()\n",
    "sns.heatmap(confusion, annot=True, ax = ax); #annot=True to annotate cells\n",
    "\n",
    "# labels, title and ticks\n",
    "ax.set_xlabel('Predicted labels');ax.set_ylabel('True labels'); \n",
    "ax.set_title('Confusion Matrix'); \n",
    "ax.xaxis.set_ticklabels(['real', 'fake']); ax.yaxis.set_ticklabels(['real', 'fake']);"
   ]
  },
  {
   "cell_type": "code",
   "execution_count": null,
   "metadata": {},
   "outputs": [],
   "source": []
  },
  {
   "cell_type": "code",
   "execution_count": null,
   "metadata": {},
   "outputs": [],
   "source": []
  },
  {
   "cell_type": "markdown",
   "metadata": {},
   "source": [
    "Exp4- Tf-Idf + Preprocessed text + Stemming"
   ]
  },
  {
   "cell_type": "code",
   "execution_count": 56,
   "metadata": {},
   "outputs": [],
   "source": [
    "\n",
    "x=df_balanced[\"Stemming\"]\n",
    "y=df_balanced['tag']\n",
    "\n",
    "X_train, X_test, Y_train, Y_test = model_selection.train_test_split( x, y, stratify=y, random_state=42,test_size=0.25)\n",
    "\n",
    "pipeline = Pipeline([\n",
    "    ('vectorizer',TfidfVectorizer(stop_words='english')),\n",
    "    ('classifier', MultinomialNB())])\n"
   ]
  },
  {
   "cell_type": "code",
   "execution_count": 57,
   "metadata": {},
   "outputs": [],
   "source": [
    "grid = {\n",
    "    'vectorizer__ngram_range': [(1, 1), (1, 2)],\n",
    "}"
   ]
  },
  {
   "cell_type": "code",
   "execution_count": 58,
   "metadata": {},
   "outputs": [
    {
     "data": {
      "text/plain": [
       "GridSearchCV(cv=5, error_score='raise-deprecating',\n",
       "       estimator=Pipeline(memory=None,\n",
       "     steps=[('vectorizer', TfidfVectorizer(analyzer='word', binary=False, decode_error='strict',\n",
       "        dtype=<class 'numpy.float64'>, encoding='utf-8', input='content',\n",
       "        lowercase=True, max_df=1.0, max_features=None, min_df=1,\n",
       "        ngram_range=(1, 1), norm='l2', preprocessor=None, smooth_idf=...      vocabulary=None)), ('classifier', MultinomialNB(alpha=1.0, class_prior=None, fit_prior=True))]),\n",
       "       fit_params=None, iid='warn', n_jobs=-1,\n",
       "       param_grid={'vectorizer__ngram_range': [(1, 1), (1, 2)], 'vectorizer__analyzer': ('word', 'char')},\n",
       "       pre_dispatch='2*n_jobs', refit=True, return_train_score='warn',\n",
       "       scoring='accuracy', verbose=0)"
      ]
     },
     "execution_count": 58,
     "metadata": {},
     "output_type": "execute_result"
    }
   ],
   "source": [
    "grid_search = GridSearchCV(pipeline, param_grid=grid, scoring='accuracy', n_jobs=-1, cv=5)\n",
    "grid_search.fit(X_train,Y_train)\n"
   ]
  },
  {
   "cell_type": "code",
   "execution_count": 59,
   "metadata": {},
   "outputs": [
    {
     "name": "stdout",
     "output_type": "stream",
     "text": [
      "Pipeline(memory=None,\n",
      "     steps=[('vectorizer', TfidfVectorizer(analyzer='word', binary=False, decode_error='strict',\n",
      "        dtype=<class 'numpy.float64'>, encoding='utf-8', input='content',\n",
      "        lowercase=True, max_df=1.0, max_features=None, min_df=1,\n",
      "        ngram_range=(1, 2), norm='l2', preprocessor=None, smooth_idf=...      vocabulary=None)), ('classifier', MultinomialNB(alpha=1.0, class_prior=None, fit_prior=True))]) \n",
      "\n",
      "\tvectorizer__analyzer: word\n",
      "\tvectorizer__ngram_range: (1, 2)\n"
     ]
    }
   ],
   "source": [
    "\n",
    "print(grid_search.best_estimator_,\"\\n\")\n",
    "\n",
    "best_parameters = grid_search.best_estimator_.get_params()\n",
    "for param_name in sorted(list(grid.keys())):\n",
    "    print(\"\\t{0}: {1}\".format(param_name, best_parameters[param_name]))\n",
    "\n",
    "best_model = grid_search.best_estimator_\n",
    "y_pred=best_model.predict(X_test)\n"
   ]
  },
  {
   "cell_type": "code",
   "execution_count": 60,
   "metadata": {},
   "outputs": [
    {
     "name": "stdout",
     "output_type": "stream",
     "text": [
      "Confusion matrix \n",
      " [[82  7]\n",
      " [10 53]] \n",
      "\n",
      "Classification_report \n",
      "                precision    recall  f1-score   support\n",
      "\n",
      "           0       0.89      0.92      0.91        89\n",
      "           1       0.88      0.84      0.86        63\n",
      "\n",
      "   micro avg       0.89      0.89      0.89       152\n",
      "   macro avg       0.89      0.88      0.88       152\n",
      "weighted avg       0.89      0.89      0.89       152\n",
      " \n",
      "\n",
      "Train Accuracy 0.9890350877192983\n",
      "Test Accuracy: 0.8881578947368421\n",
      "roc_auc_score 0.8813090779382915\n"
     ]
    }
   ],
   "source": [
    "\n",
    "confusion=confusion_matrix(Y_test, y_pred)\n",
    "report=classification_report(Y_test,y_pred)\n",
    "false_positive_rate, true_positive_rate, thresholds = roc_curve(Y_test, y_pred)\n",
    "roc_auc = auc(false_positive_rate, true_positive_rate)\n",
    "print(\"Confusion matrix \\n\",confusion,\"\\n\")\n",
    "print(\"Classification_report \\n \",report,\"\\n\")\n",
    "print(\"Train Accuracy\",accuracy_score(Y_train, best_model.predict(X_train)))\n",
    "print(\"Test Accuracy:\",accuracy_score(Y_test,y_pred))\n",
    "print(\"roc_auc_score\",roc_auc)"
   ]
  },
  {
   "cell_type": "code",
   "execution_count": 61,
   "metadata": {
    "scrolled": false
   },
   "outputs": [
    {
     "data": {
      "image/png": "[encoded data removed]",
      "text/plain": [
       "<Figure size 432x288 with 2 Axes>"
      ]
     },
     "metadata": {
      "needs_background": "light"
     },
     "output_type": "display_data"
    }
   ],
   "source": [
    "#confusion matrix plot\n",
    "\n",
    "ax= plt.subplot()\n",
    "sns.heatmap(confusion, annot=True, ax = ax); #annot=True to annotate cells\n",
    "\n",
    "# labels, title and ticks\n",
    "ax.set_xlabel('Predicted labels');ax.set_ylabel('True labels'); \n",
    "ax.set_title(' '); \n",
    "ax.xaxis.set_ticklabels(['real', 'fake']); ax.yaxis.set_ticklabels(['real', 'fake']);"
   ]
  },
  {
   "cell_type": "code",
   "execution_count": null,
   "metadata": {},
   "outputs": [],
   "source": []
  },
  {
   "cell_type": "code",
   "execution_count": null,
   "metadata": {},
   "outputs": [],
   "source": []
  },
  {
   "cell_type": "markdown",
   "metadata": {},
   "source": [
    "# Support Vector Machine Classifier "
   ]
  },
  {
   "cell_type": "markdown",
   "metadata": {},
   "source": [
    "Exp1: Bow + Preprocessed text"
   ]
  },
  {
   "cell_type": "code",
   "execution_count": 344,
   "metadata": {},
   "outputs": [
    {
     "data": {
      "text/plain": [
       "GridSearchCV(cv=5, error_score='raise-deprecating',\n",
       "       estimator=Pipeline(memory=None,\n",
       "     steps=[('vectorizer', CountVectorizer(analyzer='word', binary=False, decode_error='strict',\n",
       "        dtype=<class 'numpy.int64'>, encoding='utf-8', input='content',\n",
       "        lowercase=True, max_df=1.0, max_features=None, min_df=1,\n",
       "        ngram_range=(1, 1), preprocessor=None, stop_words='english',\n",
       "  ...r', max_iter=-1, probability=False, random_state=None,\n",
       "  shrinking=True, tol=0.001, verbose=False))]),\n",
       "       fit_params=None, iid='warn', n_jobs=-1,\n",
       "       param_grid={'vectorizer__ngram_range': [(1, 1), (1, 2)], 'vectorizer__analyzer': ('word', 'char'), 'classifier__C': [0.01, 0.1, 1, 10]},\n",
       "       pre_dispatch='2*n_jobs', refit=True, return_train_score='warn',\n",
       "       scoring='accuracy', verbose=0)"
      ]
     },
     "execution_count": 344,
     "metadata": {},
     "output_type": "execute_result"
    }
   ],
   "source": [
    "x=df_balanced[\"strong_pro1\"]\n",
    "y=df_balanced['tag']\n",
    "\n",
    "X_train, X_test, Y_train, Y_test = model_selection.train_test_split( x, y, stratify=y, random_state=42,test_size=0.25)\n",
    "\n",
    "pipeline = Pipeline([\n",
    "    ('vectorizer',CountVectorizer(stop_words='english')),\n",
    "    ('classifier', SVC(kernel='linear'))])\n",
    "\n",
    "grid = {\n",
    "    'vectorizer__ngram_range': [(1, 1), (1, 2)],\n",
    "    'classifier__C':[0.01,0.1,1,10]\n",
    "}\n",
    "\n",
    "\n",
    "grid_search = GridSearchCV(pipeline, param_grid=grid, scoring='accuracy', n_jobs=-1, cv=5)\n",
    "grid_search.fit(X_train,Y_train)\n"
   ]
  },
  {
   "cell_type": "code",
   "execution_count": 345,
   "metadata": {},
   "outputs": [
    {
     "name": "stdout",
     "output_type": "stream",
     "text": [
      "Pipeline(memory=None,\n",
      "     steps=[('vectorizer', CountVectorizer(analyzer='word', binary=False, decode_error='strict',\n",
      "        dtype=<class 'numpy.int64'>, encoding='utf-8', input='content',\n",
      "        lowercase=True, max_df=1.0, max_features=None, min_df=1,\n",
      "        ngram_range=(1, 2), preprocessor=None, stop_words='english',\n",
      "  ...r', max_iter=-1, probability=False, random_state=None,\n",
      "  shrinking=True, tol=0.001, verbose=False))]) \n",
      "\n",
      "\tclassifier__C: 0.1\n",
      "\tvectorizer__analyzer: word\n",
      "\tvectorizer__ngram_range: (1, 2)\n"
     ]
    }
   ],
   "source": [
    "\n",
    "print(grid_search.best_estimator_,\"\\n\")\n",
    "\n",
    "best_parameters = grid_search.best_estimator_.get_params()\n",
    "for param_name in sorted(list(grid.keys())):\n",
    "    print(\"\\t{0}: {1}\".format(param_name, best_parameters[param_name]))\n",
    "\n",
    "best_model = grid_search.best_estimator_\n",
    "y_pred=best_model.predict(X_test)\n"
   ]
  },
  {
   "cell_type": "code",
   "execution_count": 346,
   "metadata": {},
   "outputs": [
    {
     "name": "stdout",
     "output_type": "stream",
     "text": [
      "Confusion matrix \n",
      " [[88  1]\n",
      " [ 7 56]] \n",
      "\n",
      "Classification_report \n",
      "                precision    recall  f1-score   support\n",
      "\n",
      "           0       0.93      0.99      0.96        89\n",
      "           1       0.98      0.89      0.93        63\n",
      "\n",
      "   micro avg       0.95      0.95      0.95       152\n",
      "   macro avg       0.95      0.94      0.94       152\n",
      "weighted avg       0.95      0.95      0.95       152\n",
      " \n",
      "\n",
      "Train Accuracy 0.9912280701754386\n",
      "Test Accuracy: 0.9473684210526315\n",
      "roc_auc_score 0.9388264669163545\n"
     ]
    }
   ],
   "source": [
    "\n",
    "confusion=confusion_matrix(Y_test, y_pred)\n",
    "report=classification_report(Y_test,y_pred)\n",
    "false_positive_rate, true_positive_rate, thresholds = roc_curve(Y_test, y_pred)\n",
    "roc_auc = auc(false_positive_rate, true_positive_rate)\n",
    "print(\"Confusion matrix \\n\",confusion,\"\\n\")\n",
    "print(\"Classification_report \\n \",report,\"\\n\")\n",
    "print(\"Train Accuracy\",accuracy_score(Y_train, best_model.predict(X_train)))\n",
    "print(\"Test Accuracy:\",accuracy_score(Y_test,y_pred))\n",
    "print(\"roc_auc_score\",roc_auc)"
   ]
  },
  {
   "cell_type": "code",
   "execution_count": 347,
   "metadata": {
    "scrolled": false
   },
   "outputs": [
    {
     "data": {
      "image/png": "[encoded data removed]",
      "text/plain": [
       "<Figure size 432x288 with 2 Axes>"
      ]
     },
     "metadata": {
      "needs_background": "light"
     },
     "output_type": "display_data"
    }
   ],
   "source": [
    "#confusion matrix plot\n",
    "\n",
    "ax= plt.subplot()\n",
    "sns.heatmap(confusion, annot=True, ax = ax); #annot=True to annotate cells\n",
    "\n",
    "# labels, title and ticks\n",
    "ax.set_xlabel('Predicted labels');ax.set_ylabel('True labels'); \n",
    "ax.set_title('Confusion Matrix'); \n",
    "ax.xaxis.set_ticklabels(['real', 'fake']); ax.yaxis.set_ticklabels(['real', 'fake']);"
   ]
  },
  {
   "cell_type": "markdown",
   "metadata": {},
   "source": [
    "Exp2: Bow + Preprocessed text +Stemming\n"
   ]
  },
  {
   "cell_type": "code",
   "execution_count": 348,
   "metadata": {},
   "outputs": [
    {
     "data": {
      "text/plain": [
       "GridSearchCV(cv=5, error_score='raise-deprecating',\n",
       "       estimator=Pipeline(memory=None,\n",
       "     steps=[('vectorizer', CountVectorizer(analyzer='word', binary=False, decode_error='strict',\n",
       "        dtype=<class 'numpy.int64'>, encoding='utf-8', input='content',\n",
       "        lowercase=True, max_df=1.0, max_features=None, min_df=1,\n",
       "        ngram_range=(1, 1), preprocessor=None, stop_words='english',\n",
       "  ...r', max_iter=-1, probability=False, random_state=None,\n",
       "  shrinking=True, tol=0.001, verbose=False))]),\n",
       "       fit_params=None, iid='warn', n_jobs=-1,\n",
       "       param_grid={'vectorizer__ngram_range': [(1, 1), (1, 2)], 'vectorizer__analyzer': ('word', 'char'), 'classifier__C': [0.01, 0.1, 1, 10]},\n",
       "       pre_dispatch='2*n_jobs', refit=True, return_train_score='warn',\n",
       "       scoring='accuracy', verbose=0)"
      ]
     },
     "execution_count": 348,
     "metadata": {},
     "output_type": "execute_result"
    }
   ],
   "source": [
    "x=df_balanced[\"Stemming\"]\n",
    "y=df_balanced['tag']\n",
    "\n",
    "X_train, X_test, Y_train, Y_test = model_selection.train_test_split( x, y, stratify=y, random_state=42,test_size=0.25)\n",
    "\n",
    "pipeline = Pipeline([\n",
    "    ('vectorizer',CountVectorizer(stop_words='english')),\n",
    "    ('classifier', SVC(kernel='linear'))])\n",
    "\n",
    "grid = {\n",
    "    'vectorizer__ngram_range': [(1, 1), (1, 2)],\n",
    "    'classifier__C':[0.01,0.1,1,10]\n",
    "}\n",
    "\n",
    "\n",
    "grid_search = GridSearchCV(pipeline, param_grid=grid, scoring='accuracy', n_jobs=-1, cv=5)\n",
    "grid_search.fit(X_train,Y_train)\n",
    "\n"
   ]
  },
  {
   "cell_type": "code",
   "execution_count": 349,
   "metadata": {},
   "outputs": [
    {
     "name": "stdout",
     "output_type": "stream",
     "text": [
      "Pipeline(memory=None,\n",
      "     steps=[('vectorizer', CountVectorizer(analyzer='word', binary=False, decode_error='strict',\n",
      "        dtype=<class 'numpy.int64'>, encoding='utf-8', input='content',\n",
      "        lowercase=True, max_df=1.0, max_features=None, min_df=1,\n",
      "        ngram_range=(1, 2), preprocessor=None, stop_words='english',\n",
      "  ...r', max_iter=-1, probability=False, random_state=None,\n",
      "  shrinking=True, tol=0.001, verbose=False))]) \n",
      "\n",
      "\tclassifier__C: 1\n",
      "\tvectorizer__analyzer: word\n",
      "\tvectorizer__ngram_range: (1, 2)\n"
     ]
    }
   ],
   "source": [
    "\n",
    "print(grid_search.best_estimator_,\"\\n\")\n",
    "\n",
    "best_parameters = grid_search.best_estimator_.get_params()\n",
    "for param_name in sorted(list(grid.keys())):\n",
    "    print(\"\\t{0}: {1}\".format(param_name, best_parameters[param_name]))\n",
    "\n",
    "best_model = grid_search.best_estimator_\n",
    "y_pred=best_model.predict(X_test)\n"
   ]
  },
  {
   "cell_type": "code",
   "execution_count": 350,
   "metadata": {},
   "outputs": [
    {
     "name": "stdout",
     "output_type": "stream",
     "text": [
      "Confusion matrix \n",
      " [[87  2]\n",
      " [ 6 57]] \n",
      "\n",
      "Classification_report \n",
      "                precision    recall  f1-score   support\n",
      "\n",
      "           0       0.94      0.98      0.96        89\n",
      "           1       0.97      0.90      0.93        63\n",
      "\n",
      "   micro avg       0.95      0.95      0.95       152\n",
      "   macro avg       0.95      0.94      0.95       152\n",
      "weighted avg       0.95      0.95      0.95       152\n",
      " \n",
      "\n",
      "Train Accuracy 0.9978070175438597\n",
      "Test Accuracy: 0.9473684210526315\n",
      "roc_auc_score 0.9411449973247724\n"
     ]
    }
   ],
   "source": [
    "\n",
    "confusion=confusion_matrix(Y_test, y_pred)\n",
    "report=classification_report(Y_test,y_pred)\n",
    "false_positive_rate, true_positive_rate, thresholds = roc_curve(Y_test, y_pred)\n",
    "roc_auc = auc(false_positive_rate, true_positive_rate)\n",
    "print(\"Confusion matrix \\n\",confusion,\"\\n\")\n",
    "print(\"Classification_report \\n \",report,\"\\n\")\n",
    "print(\"Train Accuracy\",accuracy_score(Y_train, best_model.predict(X_train)))\n",
    "print(\"Test Accuracy:\",accuracy_score(Y_test,y_pred))\n",
    "print(\"roc_auc_score\",roc_auc)"
   ]
  },
  {
   "cell_type": "code",
   "execution_count": 351,
   "metadata": {
    "scrolled": false
   },
   "outputs": [
    {
     "data": {
      "image/png": "[encoded data removed]",
      "text/plain": [
       "<Figure size 432x288 with 2 Axes>"
      ]
     },
     "metadata": {
      "needs_background": "light"
     },
     "output_type": "display_data"
    }
   ],
   "source": [
    "#confusion matrix plot\n",
    "\n",
    "ax= plt.subplot()\n",
    "sns.heatmap(confusion, annot=True, ax = ax); #annot=True to annotate cells\n",
    "\n",
    "# labels, title and ticks\n",
    "ax.set_xlabel('Predicted labels');ax.set_ylabel('True labels'); \n",
    "ax.set_title('Confusion Matrix'); \n",
    "ax.xaxis.set_ticklabels(['real', 'fake']); ax.yaxis.set_ticklabels(['real', 'fake']);"
   ]
  },
  {
   "cell_type": "code",
   "execution_count": null,
   "metadata": {},
   "outputs": [],
   "source": []
  },
  {
   "cell_type": "markdown",
   "metadata": {},
   "source": [
    "Exp3- Tf-Idf+ Preprocessed text \n"
   ]
  },
  {
   "cell_type": "code",
   "execution_count": 352,
   "metadata": {},
   "outputs": [],
   "source": [
    "\n",
    "x=df_balanced[\"strong_pro1\"]\n",
    "y=df_balanced['tag']\n",
    "\n",
    "X_train, X_test, Y_train, Y_test = model_selection.train_test_split( x, y, stratify=y, random_state=42,test_size=0.25)\n",
    "\n",
    "pipeline = Pipeline([\n",
    "    ('vectorizer',TfidfVectorizer(stop_words='english')),\n",
    "    ('classifier', SVC(kernel='linear'))])\n",
    "\n",
    "grid = {\n",
    "    'vectorizer__ngram_range': [(1, 1), (1, 2)],\n",
    "    'classifier__C':[0.01,0.1,1,10]\n",
    "}"
   ]
  },
  {
   "cell_type": "code",
   "execution_count": 353,
   "metadata": {},
   "outputs": [
    {
     "data": {
      "text/plain": [
       "GridSearchCV(cv=5, error_score='raise-deprecating',\n",
       "       estimator=Pipeline(memory=None,\n",
       "     steps=[('vectorizer', TfidfVectorizer(analyzer='word', binary=False, decode_error='strict',\n",
       "        dtype=<class 'numpy.float64'>, encoding='utf-8', input='content',\n",
       "        lowercase=True, max_df=1.0, max_features=None, min_df=1,\n",
       "        ngram_range=(1, 1), norm='l2', preprocessor=None, smooth_idf=...r', max_iter=-1, probability=False, random_state=None,\n",
       "  shrinking=True, tol=0.001, verbose=False))]),\n",
       "       fit_params=None, iid='warn', n_jobs=-1,\n",
       "       param_grid={'vectorizer__ngram_range': [(1, 1), (1, 2)], 'vectorizer__analyzer': ('word', 'char'), 'classifier__C': [0.01, 0.1, 1, 10]},\n",
       "       pre_dispatch='2*n_jobs', refit=True, return_train_score='warn',\n",
       "       scoring='accuracy', verbose=0)"
      ]
     },
     "execution_count": 353,
     "metadata": {},
     "output_type": "execute_result"
    }
   ],
   "source": [
    "grid_search = GridSearchCV(pipeline, param_grid=grid, scoring='accuracy', n_jobs=-1, cv=5)\n",
    "grid_search.fit(X_train,Y_train)\n"
   ]
  },
  {
   "cell_type": "code",
   "execution_count": 354,
   "metadata": {},
   "outputs": [
    {
     "name": "stdout",
     "output_type": "stream",
     "text": [
      "Pipeline(memory=None,\n",
      "     steps=[('vectorizer', TfidfVectorizer(analyzer='word', binary=False, decode_error='strict',\n",
      "        dtype=<class 'numpy.float64'>, encoding='utf-8', input='content',\n",
      "        lowercase=True, max_df=1.0, max_features=None, min_df=1,\n",
      "        ngram_range=(1, 1), norm='l2', preprocessor=None, smooth_idf=...r', max_iter=-1, probability=False, random_state=None,\n",
      "  shrinking=True, tol=0.001, verbose=False))]) \n",
      "\n",
      "\tclassifier__C: 1\n",
      "\tvectorizer__analyzer: word\n",
      "\tvectorizer__ngram_range: (1, 1)\n"
     ]
    }
   ],
   "source": [
    "\n",
    "print(grid_search.best_estimator_,\"\\n\")\n",
    "\n",
    "best_parameters = grid_search.best_estimator_.get_params()\n",
    "for param_name in sorted(list(grid.keys())):\n",
    "    print(\"\\t{0}: {1}\".format(param_name, best_parameters[param_name]))\n",
    "\n",
    "best_model = grid_search.best_estimator_\n",
    "y_pred=best_model.predict(X_test)\n"
   ]
  },
  {
   "cell_type": "code",
   "execution_count": 355,
   "metadata": {},
   "outputs": [
    {
     "name": "stdout",
     "output_type": "stream",
     "text": [
      "Confusion matrix \n",
      " [[86  3]\n",
      " [ 6 57]] \n",
      "\n",
      "Classification_report \n",
      "                precision    recall  f1-score   support\n",
      "\n",
      "           0       0.93      0.97      0.95        89\n",
      "           1       0.95      0.90      0.93        63\n",
      "\n",
      "   micro avg       0.94      0.94      0.94       152\n",
      "   macro avg       0.94      0.94      0.94       152\n",
      "weighted avg       0.94      0.94      0.94       152\n",
      " \n",
      "\n",
      "Train Accuracy 0.9890350877192983\n",
      "Test Accuracy: 0.9407894736842105\n",
      "roc_auc_score 0.9355270197966827\n"
     ]
    }
   ],
   "source": [
    "\n",
    "confusion=confusion_matrix(Y_test, y_pred)\n",
    "report=classification_report(Y_test,y_pred)\n",
    "false_positive_rate, true_positive_rate, thresholds = roc_curve(Y_test, y_pred)\n",
    "roc_auc = auc(false_positive_rate, true_positive_rate)\n",
    "print(\"Confusion matrix \\n\",confusion,\"\\n\")\n",
    "print(\"Classification_report \\n \",report,\"\\n\")\n",
    "print(\"Train Accuracy\",accuracy_score(Y_train, best_model.predict(X_train)))\n",
    "print(\"Test Accuracy:\",accuracy_score(Y_test,y_pred))\n",
    "print(\"roc_auc_score\",roc_auc)"
   ]
  },
  {
   "cell_type": "code",
   "execution_count": 356,
   "metadata": {
    "scrolled": true
   },
   "outputs": [
    {
     "data": {
      "image/png": "[encoded data removed]",
      "text/plain": [
       "<Figure size 432x288 with 2 Axes>"
      ]
     },
     "metadata": {
      "needs_background": "light"
     },
     "output_type": "display_data"
    }
   ],
   "source": [
    "#confusion matrix plot\n",
    "\n",
    "ax= plt.subplot()\n",
    "sns.heatmap(confusion, annot=True, ax = ax); #annot=True to annotate cells\n",
    "\n",
    "# labels, title and ticks\n",
    "ax.set_xlabel('Predicted labels');ax.set_ylabel('True labels'); \n",
    "ax.set_title('Confusion Matrix'); \n",
    "ax.xaxis.set_ticklabels(['real', 'fake']); ax.yaxis.set_ticklabels(['real', 'fake']);"
   ]
  },
  {
   "cell_type": "code",
   "execution_count": null,
   "metadata": {},
   "outputs": [],
   "source": []
  },
  {
   "cell_type": "markdown",
   "metadata": {},
   "source": [
    "Exp4- Tf-Idf + Preprocessed text + Stemming"
   ]
  },
  {
   "cell_type": "code",
   "execution_count": 359,
   "metadata": {},
   "outputs": [],
   "source": [
    "\n",
    "x=df_balanced[\"Stemming\"]\n",
    "y=df_balanced['tag']\n",
    "\n",
    "X_train, X_test, Y_train, Y_test = model_selection.train_test_split( x, y, stratify=y, random_state=42,test_size=0.25)\n",
    "\n",
    "pipeline = Pipeline([\n",
    "    ('vectorizer',TfidfVectorizer(stop_words='english')),\n",
    "    ('classifier', SVC(kernel='linear'))])\n"
   ]
  },
  {
   "cell_type": "code",
   "execution_count": 360,
   "metadata": {},
   "outputs": [],
   "source": [
    "grid = {\n",
    "    'vectorizer__ngram_range': [(1, 1), (1, 2)],\n",
    "    'classifier__C':[0.01,0.1,1,10]\n",
    "}"
   ]
  },
  {
   "cell_type": "code",
   "execution_count": 361,
   "metadata": {},
   "outputs": [
    {
     "data": {
      "text/plain": [
       "GridSearchCV(cv=5, error_score='raise-deprecating',\n",
       "       estimator=Pipeline(memory=None,\n",
       "     steps=[('vectorizer', TfidfVectorizer(analyzer='word', binary=False, decode_error='strict',\n",
       "        dtype=<class 'numpy.float64'>, encoding='utf-8', input='content',\n",
       "        lowercase=True, max_df=1.0, max_features=None, min_df=1,\n",
       "        ngram_range=(1, 1), norm='l2', preprocessor=None, smooth_idf=...r', max_iter=-1, probability=False, random_state=None,\n",
       "  shrinking=True, tol=0.001, verbose=False))]),\n",
       "       fit_params=None, iid='warn', n_jobs=-1,\n",
       "       param_grid={'vectorizer__ngram_range': [(1, 1), (1, 2)], 'vectorizer__analyzer': ('word', 'char'), 'classifier__C': [0.01, 0.1, 1, 10]},\n",
       "       pre_dispatch='2*n_jobs', refit=True, return_train_score='warn',\n",
       "       scoring='accuracy', verbose=0)"
      ]
     },
     "execution_count": 361,
     "metadata": {},
     "output_type": "execute_result"
    }
   ],
   "source": [
    "grid_search = GridSearchCV(pipeline, param_grid=grid, scoring='accuracy', n_jobs=-1, cv=5)\n",
    "grid_search.fit(X_train,Y_train)\n"
   ]
  },
  {
   "cell_type": "code",
   "execution_count": 362,
   "metadata": {},
   "outputs": [
    {
     "name": "stdout",
     "output_type": "stream",
     "text": [
      "Pipeline(memory=None,\n",
      "     steps=[('vectorizer', TfidfVectorizer(analyzer='word', binary=False, decode_error='strict',\n",
      "        dtype=<class 'numpy.float64'>, encoding='utf-8', input='content',\n",
      "        lowercase=True, max_df=1.0, max_features=None, min_df=1,\n",
      "        ngram_range=(1, 2), norm='l2', preprocessor=None, smooth_idf=...r', max_iter=-1, probability=False, random_state=None,\n",
      "  shrinking=True, tol=0.001, verbose=False))]) \n",
      "\n",
      "\tclassifier__C: 1\n",
      "\tvectorizer__analyzer: word\n",
      "\tvectorizer__ngram_range: (1, 2)\n"
     ]
    }
   ],
   "source": [
    "\n",
    "print(grid_search.best_estimator_,\"\\n\")\n",
    "\n",
    "best_parameters = grid_search.best_estimator_.get_params()\n",
    "for param_name in sorted(list(grid.keys())):\n",
    "    print(\"\\t{0}: {1}\".format(param_name, best_parameters[param_name]))\n",
    "\n",
    "best_model = grid_search.best_estimator_\n",
    "y_pred=best_model.predict(X_test)\n"
   ]
  },
  {
   "cell_type": "code",
   "execution_count": 363,
   "metadata": {},
   "outputs": [
    {
     "name": "stdout",
     "output_type": "stream",
     "text": [
      "Confusion matrix \n",
      " [[86  3]\n",
      " [ 5 58]] \n",
      "\n",
      "Classification_report \n",
      "                precision    recall  f1-score   support\n",
      "\n",
      "           0       0.95      0.97      0.96        89\n",
      "           1       0.95      0.92      0.94        63\n",
      "\n",
      "   micro avg       0.95      0.95      0.95       152\n",
      "   macro avg       0.95      0.94      0.95       152\n",
      "weighted avg       0.95      0.95      0.95       152\n",
      " \n",
      "\n",
      "Train Accuracy 0.993421052631579\n",
      "Test Accuracy: 0.9473684210526315\n",
      "roc_auc_score 0.9434635277331905\n"
     ]
    }
   ],
   "source": [
    "\n",
    "confusion=confusion_matrix(Y_test, y_pred)\n",
    "report=classification_report(Y_test,y_pred)\n",
    "false_positive_rate, true_positive_rate, thresholds = roc_curve(Y_test, y_pred)\n",
    "roc_auc = auc(false_positive_rate, true_positive_rate)\n",
    "print(\"Confusion matrix \\n\",confusion,\"\\n\")\n",
    "print(\"Classification_report \\n \",report,\"\\n\")\n",
    "print(\"Train Accuracy\",accuracy_score(Y_train, best_model.predict(X_train)))\n",
    "print(\"Test Accuracy:\",accuracy_score(Y_test,y_pred))\n",
    "print(\"roc_auc_score\",roc_auc)"
   ]
  },
  {
   "cell_type": "code",
   "execution_count": 364,
   "metadata": {
    "scrolled": true
   },
   "outputs": [
    {
     "data": {
      "image/png": "[encoded data removed]",
      "text/plain": [
       "<Figure size 432x288 with 2 Axes>"
      ]
     },
     "metadata": {
      "needs_background": "light"
     },
     "output_type": "display_data"
    }
   ],
   "source": [
    "#confusion matrix plot\n",
    "\n",
    "ax= plt.subplot()\n",
    "sns.heatmap(confusion, annot=True, ax = ax); #annot=True to annotate cells\n",
    "\n",
    "# labels, title and ticks\n",
    "ax.set_xlabel('Predicted labels');ax.set_ylabel('True labels'); \n",
    "ax.set_title('Confusion Matrix'); \n",
    "ax.xaxis.set_ticklabels(['real', 'fake']); ax.yaxis.set_ticklabels(['real', 'fake']);"
   ]
  },
  {
   "cell_type": "code",
   "execution_count": null,
   "metadata": {},
   "outputs": [],
   "source": []
  },
  {
   "cell_type": "code",
   "execution_count": null,
   "metadata": {},
   "outputs": [],
   "source": []
  },
  {
   "cell_type": "markdown",
   "metadata": {},
   "source": [
    "# Decision Tree Classifier\n"
   ]
  },
  {
   "cell_type": "markdown",
   "metadata": {},
   "source": [
    "Exp1: Bow + Preprocessed text"
   ]
  },
  {
   "cell_type": "code",
   "execution_count": 68,
   "metadata": {},
   "outputs": [],
   "source": [
    "x=df_balanced[\"strong_pro1\"]\n",
    "y=df_balanced['tag']\n",
    "\n",
    "X_train, X_test, Y_train, Y_test = model_selection.train_test_split( x, y, stratify=y, random_state=42,test_size=0.25)\n",
    "\n",
    "BoW=CountVectorizer(stop_words='english')\n",
    "X_train=BoW.fit_transform(X_train)\n",
    "X_test= BoW.transform(X_test)"
   ]
  },
  {
   "cell_type": "code",
   "execution_count": 69,
   "metadata": {
    "scrolled": false
   },
   "outputs": [
    {
     "data": {
      "image/png": "[encoded data removed]",
      "text/plain": [
       "<Figure size 432x288 with 1 Axes>"
      ]
     },
     "metadata": {
      "needs_background": "light"
     },
     "output_type": "display_data"
    }
   ],
   "source": [
    "# Setup arrays to store train and test accuracies\n",
    "dep = np.arange(1, 15)\n",
    "train_accuracy = np.empty(len(dep))\n",
    "test_accuracy = np.empty(len(dep))\n",
    "\n",
    "# Loop over different values of k\n",
    "for i, k in enumerate(dep):\n",
    "    # Setup a Decision Tree Classifier\n",
    "    clf = tree.DecisionTreeClassifier(random_state=42,max_depth=k)\n",
    "\n",
    "    # Fit the classifier to the training data\n",
    "    clf.fit(X_train, Y_train)\n",
    "\n",
    "    #Compute accuracy on the training set\n",
    "    train_accuracy[i] = clf.score(X_train, Y_train)\n",
    "\n",
    "    #Compute accuracy on the testing set\n",
    "    test_accuracy[i] = clf.score(X_test, Y_test)\n",
    "\n",
    "# Generate plot\n",
    "plt.title('clf: Varying depth of tree')\n",
    "plt.plot(dep, test_accuracy, label = 'Testing Accuracy')\n",
    "plt.plot(dep, train_accuracy, label = 'Training Accuracy')\n",
    "plt.legend()\n",
    "plt.xlabel('Depth of tree')\n",
    "plt.ylabel('Accuracy')\n",
    "plt.show()"
   ]
  },
  {
   "cell_type": "code",
   "execution_count": 79,
   "metadata": {},
   "outputs": [
    {
     "data": {
      "text/plain": [
       "GridSearchCV(cv=5, error_score='raise-deprecating',\n",
       "       estimator=Pipeline(memory=None,\n",
       "     steps=[('vectorizer', CountVectorizer(analyzer='word', binary=False, decode_error='strict',\n",
       "        dtype=<class 'numpy.int64'>, encoding='utf-8', input='content',\n",
       "        lowercase=True, max_df=1.0, max_features=None, min_df=1,\n",
       "        ngram_range=(1, 1), preprocessor=None, stop_words='english',\n",
       "  ...        min_weight_fraction_leaf=0.0, presort=False, random_state=42,\n",
       "            splitter='best'))]),\n",
       "       fit_params=None, iid='warn', n_jobs=-1,\n",
       "       param_grid={'vectorizer__ngram_range': [(1, 1), (1, 2)], 'vectorizer__analyzer': ('word', 'char')},\n",
       "       pre_dispatch='2*n_jobs', refit=True, return_train_score='warn',\n",
       "       scoring='accuracy', verbose=0)"
      ]
     },
     "execution_count": 79,
     "metadata": {},
     "output_type": "execute_result"
    }
   ],
   "source": [
    "x=df_balanced[\"strong_pro1\"]\n",
    "y=df_balanced['tag']\n",
    "\n",
    "X_train, X_test, Y_train, Y_test = model_selection.train_test_split( x, y, stratify=y, random_state=42,test_size=0.25)\n",
    "\n",
    "pipeline = Pipeline([\n",
    "    ('vectorizer',CountVectorizer(stop_words='english')),\n",
    "    ('classifier', DecisionTreeClassifier(random_state=42,max_depth=9))])\n",
    "\n",
    "grid = {\n",
    "    'vectorizer__ngram_range': [(1, 1), (1, 2)],\n",
    "}\n",
    "\n",
    "\n",
    "grid_search = GridSearchCV(pipeline, param_grid=grid, scoring='accuracy', n_jobs=-1, cv=5)\n",
    "grid_search.fit(X_train,Y_train)\n"
   ]
  },
  {
   "cell_type": "code",
   "execution_count": 80,
   "metadata": {
    "scrolled": false
   },
   "outputs": [
    {
     "name": "stdout",
     "output_type": "stream",
     "text": [
      "Pipeline(memory=None,\n",
      "     steps=[('vectorizer', CountVectorizer(analyzer='word', binary=False, decode_error='strict',\n",
      "        dtype=<class 'numpy.int64'>, encoding='utf-8', input='content',\n",
      "        lowercase=True, max_df=1.0, max_features=None, min_df=1,\n",
      "        ngram_range=(1, 1), preprocessor=None, stop_words='english',\n",
      "  ...        min_weight_fraction_leaf=0.0, presort=False, random_state=42,\n",
      "            splitter='best'))]) \n",
      "\n",
      "\tvectorizer__analyzer: word\n",
      "\tvectorizer__ngram_range: (1, 1)\n"
     ]
    }
   ],
   "source": [
    "\n",
    "print(grid_search.best_estimator_,\"\\n\")\n",
    "\n",
    "best_parameters = grid_search.best_estimator_.get_params()\n",
    "for param_name in sorted(list(grid.keys())):\n",
    "    print(\"\\t{0}: {1}\".format(param_name, best_parameters[param_name]))\n",
    "\n",
    "best_model = grid_search.best_estimator_\n",
    "y_pred=best_model.predict(X_test)\n"
   ]
  },
  {
   "cell_type": "code",
   "execution_count": 81,
   "metadata": {
    "scrolled": true
   },
   "outputs": [
    {
     "name": "stdout",
     "output_type": "stream",
     "text": [
      "Confusion matrix \n",
      " [[83  6]\n",
      " [22 41]] \n",
      "\n",
      "Classification_report \n",
      "                precision    recall  f1-score   support\n",
      "\n",
      "           0       0.79      0.93      0.86        89\n",
      "           1       0.87      0.65      0.75        63\n",
      "\n",
      "   micro avg       0.82      0.82      0.82       152\n",
      "   macro avg       0.83      0.79      0.80       152\n",
      "weighted avg       0.82      0.82      0.81       152\n",
      " \n",
      "\n",
      "Train Accuracy 0.8618421052631579\n",
      "Test Accuracy: 0.8157894736842105\n",
      "roc_auc_score 0.791688960228286\n"
     ]
    }
   ],
   "source": [
    "\n",
    "confusion=confusion_matrix(Y_test, y_pred)\n",
    "report=classification_report(Y_test,y_pred)\n",
    "false_positive_rate, true_positive_rate, thresholds = roc_curve(Y_test, y_pred)\n",
    "roc_auc = auc(false_positive_rate, true_positive_rate)\n",
    "print(\"Confusion matrix \\n\",confusion,\"\\n\")\n",
    "print(\"Classification_report \\n \",report,\"\\n\")\n",
    "# check the performance of model on both, train and validation. If training accuracy \n",
    "#is extremely high and testing is not the same, then the model is overfitting.\n",
    "print(\"Train Accuracy\",accuracy_score(Y_train, best_model.predict(X_train)))\n",
    "print(\"Test Accuracy:\",accuracy_score(Y_test,y_pred))\n",
    "print(\"roc_auc_score\",roc_auc)"
   ]
  },
  {
   "cell_type": "code",
   "execution_count": 82,
   "metadata": {
    "scrolled": false
   },
   "outputs": [
    {
     "data": {
      "image/png": "[encoded data removed]",
      "text/plain": [
       "<Figure size 432x288 with 2 Axes>"
      ]
     },
     "metadata": {
      "needs_background": "light"
     },
     "output_type": "display_data"
    }
   ],
   "source": [
    "#confusion matrix plot\n",
    "\n",
    "ax= plt.subplot()\n",
    "sns.heatmap(confusion, annot=True, ax = ax); #annot=True to annotate cells\n",
    "\n",
    "# labels, title and ticks\n",
    "ax.set_xlabel('Predicted labels');ax.set_ylabel('True labels'); \n",
    "ax.set_title('Confusion Matrix'); \n",
    "ax.xaxis.set_ticklabels(['real', 'fake']); ax.yaxis.set_ticklabels(['real', 'fake']);"
   ]
  },
  {
   "cell_type": "code",
   "execution_count": null,
   "metadata": {},
   "outputs": [],
   "source": []
  },
  {
   "cell_type": "markdown",
   "metadata": {},
   "source": [
    "Exp2: Bow + Preprocessed text +Stemming\n"
   ]
  },
  {
   "cell_type": "code",
   "execution_count": 68,
   "metadata": {},
   "outputs": [],
   "source": [
    "x=df_balanced[\"Stemming\"]\n",
    "y=df_balanced['tag']\n",
    "\n",
    "X_train, X_test, Y_train, Y_test = model_selection.train_test_split( x, y, stratify=y, random_state=42,test_size=0.25)\n",
    "\n",
    "BoW=CountVectorizer(stop_words='english')\n",
    "X_train=BoW.fit_transform(X_train)\n",
    "X_test= BoW.transform(X_test)"
   ]
  },
  {
   "cell_type": "code",
   "execution_count": 71,
   "metadata": {
    "scrolled": false
   },
   "outputs": [
    {
     "data": {
      "image/png": "[encoded data removed]",
      "text/plain": [
       "<Figure size 432x288 with 1 Axes>"
      ]
     },
     "metadata": {
      "needs_background": "light"
     },
     "output_type": "display_data"
    }
   ],
   "source": [
    "# Setup arrays to store train and test accuracies\n",
    "dep = np.arange(1, 15)\n",
    "train_accuracy = np.empty(len(dep))\n",
    "test_accuracy = np.empty(len(dep))\n",
    "\n",
    "# Loop over different values of k\n",
    "for i, k in enumerate(dep):\n",
    "    # Setup a Decision Tree Classifier\n",
    "    clf = tree.DecisionTreeClassifier(random_state=42,max_depth=k)\n",
    "\n",
    "    # Fit the classifier to the training data\n",
    "    clf.fit(X_train, Y_train)\n",
    "\n",
    "    #Compute accuracy on the training set\n",
    "    train_accuracy[i] = clf.score(X_train, Y_train)\n",
    "\n",
    "    #Compute accuracy on the testing set\n",
    "    test_accuracy[i] = clf.score(X_test, Y_test)\n",
    "\n",
    "# Generate plot\n",
    "plt.title('clf:  ')\n",
    "plt.plot(dep, test_accuracy, label = 'Testing Accuracy')\n",
    "plt.plot(dep, train_accuracy, label = 'Training Accuracy')\n",
    "plt.legend()\n",
    "plt.xlabel('Depth of tree')\n",
    "plt.ylabel('Accuracy')\n",
    "plt.show()"
   ]
  },
  {
   "cell_type": "code",
   "execution_count": 73,
   "metadata": {},
   "outputs": [],
   "source": [
    "\n",
    "x=df_balanced[\"Stemming\"]\n",
    "y=df_balanced['tag']\n",
    "\n",
    "X_train, X_test, Y_train, Y_test = model_selection.train_test_split( x, y, stratify=y, random_state=42,test_size=0.25)\n",
    "\n",
    "pipeline = Pipeline([\n",
    "    ('vectorizer',CountVectorizer(stop_words='english')),\n",
    "    ('classifier', DecisionTreeClassifier(random_state=42,max_depth=6))])\n",
    "\n"
   ]
  },
  {
   "cell_type": "code",
   "execution_count": 74,
   "metadata": {
    "scrolled": true
   },
   "outputs": [
    {
     "data": {
      "text/plain": [
       "GridSearchCV(cv=5, error_score='raise-deprecating',\n",
       "       estimator=Pipeline(memory=None,\n",
       "     steps=[('vectorizer', CountVectorizer(analyzer='word', binary=False, decode_error='strict',\n",
       "        dtype=<class 'numpy.int64'>, encoding='utf-8', input='content',\n",
       "        lowercase=True, max_df=1.0, max_features=None, min_df=1,\n",
       "        ngram_range=(1, 1), preprocessor=None, stop_words='english',\n",
       "  ...        min_weight_fraction_leaf=0.0, presort=False, random_state=42,\n",
       "            splitter='best'))]),\n",
       "       fit_params=None, iid='warn', n_jobs=-1,\n",
       "       param_grid={'vectorizer__ngram_range': [(1, 1), (1, 2)], 'vectorizer__analyzer': ('word', 'char')},\n",
       "       pre_dispatch='2*n_jobs', refit=True, return_train_score='warn',\n",
       "       scoring='accuracy', verbose=0)"
      ]
     },
     "execution_count": 74,
     "metadata": {},
     "output_type": "execute_result"
    }
   ],
   "source": [
    "grid = {\n",
    "    'vectorizer__ngram_range': [(1, 1), (1, 2)],\n",
    "}\n",
    "grid_search = GridSearchCV(pipeline, param_grid=grid, scoring='accuracy', n_jobs=-1, cv=5)\n",
    "grid_search.fit(X_train,Y_train)\n"
   ]
  },
  {
   "cell_type": "code",
   "execution_count": 75,
   "metadata": {
    "scrolled": true
   },
   "outputs": [
    {
     "name": "stdout",
     "output_type": "stream",
     "text": [
      "Pipeline(memory=None,\n",
      "     steps=[('vectorizer', CountVectorizer(analyzer='word', binary=False, decode_error='strict',\n",
      "        dtype=<class 'numpy.int64'>, encoding='utf-8', input='content',\n",
      "        lowercase=True, max_df=1.0, max_features=None, min_df=1,\n",
      "        ngram_range=(1, 1), preprocessor=None, stop_words='english',\n",
      "  ...        min_weight_fraction_leaf=0.0, presort=False, random_state=42,\n",
      "            splitter='best'))]) \n",
      "\n",
      "\tvectorizer__analyzer: word\n",
      "\tvectorizer__ngram_range: (1, 1)\n"
     ]
    }
   ],
   "source": [
    "\n",
    "print(grid_search.best_estimator_,\"\\n\")\n",
    "\n",
    "best_parameters = grid_search.best_estimator_.get_params()\n",
    "for param_name in sorted(list(grid.keys())):\n",
    "    print(\"\\t{0}: {1}\".format(param_name, best_parameters[param_name]))\n"
   ]
  },
  {
   "cell_type": "code",
   "execution_count": 76,
   "metadata": {},
   "outputs": [
    {
     "name": "stdout",
     "output_type": "stream",
     "text": [
      "Confusion matrix \n",
      " [[80  9]\n",
      " [29 34]] \n",
      "\n",
      "Classification_report \n",
      "                precision    recall  f1-score   support\n",
      "\n",
      "           0       0.73      0.90      0.81        89\n",
      "           1       0.79      0.54      0.64        63\n",
      "\n",
      "   micro avg       0.75      0.75      0.75       152\n",
      "   macro avg       0.76      0.72      0.72       152\n",
      "weighted avg       0.76      0.75      0.74       152\n",
      " \n",
      "\n",
      "Train Accuracy 0.8596491228070176\n",
      "Test Accuracy: 0.75\n",
      "roc_auc_score 0.7192794720884608\n"
     ]
    }
   ],
   "source": [
    "\n",
    "best_model = grid_search.best_estimator_\n",
    "y_pred=best_model.predict(X_test)\n",
    "\n",
    "confusion=confusion_matrix(Y_test, y_pred)\n",
    "report=classification_report(Y_test,y_pred)\n",
    "false_positive_rate, true_positive_rate, thresholds = roc_curve(Y_test, y_pred)\n",
    "roc_auc = auc(false_positive_rate, true_positive_rate)\n",
    "print(\"Confusion matrix \\n\",confusion,\"\\n\")\n",
    "print(\"Classification_report \\n \",report,\"\\n\")\n",
    "print(\"Train Accuracy\",accuracy_score(Y_train, best_model.predict(X_train)))\n",
    "print(\"Test Accuracy:\",accuracy_score(Y_test,y_pred))\n",
    "print(\"roc_auc_score\",roc_auc)"
   ]
  },
  {
   "cell_type": "code",
   "execution_count": 77,
   "metadata": {
    "scrolled": true
   },
   "outputs": [
    {
     "data": {
      "image/png": "[encoded data removed]",
      "text/plain": [
       "<Figure size 432x288 with 2 Axes>"
      ]
     },
     "metadata": {
      "needs_background": "light"
     },
     "output_type": "display_data"
    }
   ],
   "source": [
    "#confusion matrix plot\n",
    "\n",
    "ax= plt.subplot()\n",
    "sns.heatmap(confusion, annot=True, ax = ax); #annot=True to annotate cells\n",
    "\n",
    "# labels, title and ticks\n",
    "ax.set_xlabel('Predicted labels');ax.set_ylabel('True labels'); \n",
    "ax.set_title('Confusion Matrix'); \n",
    "ax.xaxis.set_ticklabels(['real', 'fake']); ax.yaxis.set_ticklabels(['real', 'fake']);"
   ]
  },
  {
   "cell_type": "code",
   "execution_count": null,
   "metadata": {},
   "outputs": [],
   "source": []
  },
  {
   "cell_type": "markdown",
   "metadata": {},
   "source": [
    "Exp3- Tf-Idf+ Preprocessed text \n"
   ]
  },
  {
   "cell_type": "code",
   "execution_count": 60,
   "metadata": {},
   "outputs": [],
   "source": [
    "x=df_balanced[\"strong_pro1\"]\n",
    "y=df_balanced['tag']\n",
    "\n",
    "X_train, X_test, Y_train, Y_test = model_selection.train_test_split( x, y, stratify=y, random_state=42,test_size=0.25)\n",
    "\n",
    "BoW=TfidfVectorizer(stop_words='english')\n",
    "X_train=BoW.fit_transform(X_train)\n",
    "X_test= BoW.transform(X_test)\n",
    "\n"
   ]
  },
  {
   "cell_type": "code",
   "execution_count": 61,
   "metadata": {
    "scrolled": true
   },
   "outputs": [
    {
     "data": {
      "image/png": "[encoded data removed]",
      "text/plain": [
       "<Figure size 432x288 with 1 Axes>"
      ]
     },
     "metadata": {
      "needs_background": "light"
     },
     "output_type": "display_data"
    }
   ],
   "source": [
    "# Setup arrays to store train and test accuracies\n",
    "dep = np.arange(1, 15)\n",
    "train_accuracy = np.empty(len(dep))\n",
    "test_accuracy = np.empty(len(dep))\n",
    "\n",
    "# Loop over different values of k\n",
    "for i, k in enumerate(dep):\n",
    "    # Setup a Decision Tree Classifier\n",
    "    clf = tree.DecisionTreeClassifier(random_state=42,max_depth=k)\n",
    "\n",
    "    # Fit the classifier to the training data\n",
    "    clf.fit(X_train, Y_train)\n",
    "\n",
    "    #Compute accuracy on the training set\n",
    "    train_accuracy[i] = clf.score(X_train, Y_train)\n",
    "\n",
    "    #Compute accuracy on the testing set\n",
    "    test_accuracy[i] = clf.score(X_test, Y_test)\n",
    "\n",
    "# Generate plot\n",
    "plt.title('clf: Varying depth of tree')\n",
    "plt.plot(dep, test_accuracy, label = 'Testing Accuracy')\n",
    "plt.plot(dep, train_accuracy, label = 'Training Accuracy')\n",
    "plt.legend()\n",
    "plt.xlabel('Depth of tree')\n",
    "plt.ylabel('Accuracy')\n",
    "plt.show()"
   ]
  },
  {
   "cell_type": "code",
   "execution_count": 46,
   "metadata": {},
   "outputs": [],
   "source": [
    "\n",
    "x=df_balanced[\"strong_pro1\"]\n",
    "y=df_balanced['tag']\n",
    "\n",
    "X_train, X_test, Y_train, Y_test = model_selection.train_test_split( x, y, stratify=y, random_state=42,test_size=0.25)\n",
    "\n",
    "pipeline = Pipeline([\n",
    "    ('vectorizer',TfidfVectorizer(stop_words='english')),\n",
    "    ('classifier', DecisionTreeClassifier(random_state=42,max_depth=9))])\n"
   ]
  },
  {
   "cell_type": "code",
   "execution_count": 47,
   "metadata": {},
   "outputs": [],
   "source": [
    "grid = {\n",
    "    'vectorizer__ngram_range': [(1, 1), (1, 2)],\n",
    "}"
   ]
  },
  {
   "cell_type": "code",
   "execution_count": 48,
   "metadata": {
    "scrolled": true
   },
   "outputs": [
    {
     "data": {
      "text/plain": [
       "GridSearchCV(cv=5, error_score='raise-deprecating',\n",
       "       estimator=Pipeline(memory=None,\n",
       "     steps=[('vectorizer', TfidfVectorizer(analyzer='word', binary=False, decode_error='strict',\n",
       "        dtype=<class 'numpy.float64'>, encoding='utf-8', input='content',\n",
       "        lowercase=True, max_df=1.0, max_features=None, min_df=1,\n",
       "        ngram_range=(1, 1), norm='l2', preprocessor=None, smooth_idf=...        min_weight_fraction_leaf=0.0, presort=False, random_state=42,\n",
       "            splitter='best'))]),\n",
       "       fit_params=None, iid='warn', n_jobs=-1,\n",
       "       param_grid={'vectorizer__ngram_range': [(1, 1), (1, 2)], 'vectorizer__analyzer': ('word', 'char')},\n",
       "       pre_dispatch='2*n_jobs', refit=True, return_train_score='warn',\n",
       "       scoring='accuracy', verbose=0)"
      ]
     },
     "execution_count": 48,
     "metadata": {},
     "output_type": "execute_result"
    }
   ],
   "source": [
    "\n",
    "grid_search = GridSearchCV(pipeline, param_grid=grid, scoring='accuracy', n_jobs=-1, cv=5)\n",
    "grid_search.fit(X_train,Y_train)\n"
   ]
  },
  {
   "cell_type": "code",
   "execution_count": 49,
   "metadata": {
    "scrolled": false
   },
   "outputs": [
    {
     "name": "stdout",
     "output_type": "stream",
     "text": [
      "Pipeline(memory=None,\n",
      "     steps=[('vectorizer', TfidfVectorizer(analyzer='word', binary=False, decode_error='strict',\n",
      "        dtype=<class 'numpy.float64'>, encoding='utf-8', input='content',\n",
      "        lowercase=True, max_df=1.0, max_features=None, min_df=1,\n",
      "        ngram_range=(1, 1), norm='l2', preprocessor=None, smooth_idf=...        min_weight_fraction_leaf=0.0, presort=False, random_state=42,\n",
      "            splitter='best'))]) \n",
      "\n",
      "\tvectorizer__analyzer: word\n",
      "\tvectorizer__ngram_range: (1, 1)\n"
     ]
    }
   ],
   "source": [
    "\n",
    "print(grid_search.best_estimator_,\"\\n\")\n",
    "\n",
    "best_parameters = grid_search.best_estimator_.get_params()\n",
    "for param_name in sorted(list(grid.keys())):\n",
    "    print(\"\\t{0}: {1}\".format(param_name, best_parameters[param_name]))\n"
   ]
  },
  {
   "cell_type": "code",
   "execution_count": 50,
   "metadata": {
    "scrolled": false
   },
   "outputs": [
    {
     "name": "stdout",
     "output_type": "stream",
     "text": [
      "Confusion matrix \n",
      " [[83  6]\n",
      " [25 38]] \n",
      "\n",
      "Classification_report \n",
      "                precision    recall  f1-score   support\n",
      "\n",
      "           0       0.77      0.93      0.84        89\n",
      "           1       0.86      0.60      0.71        63\n",
      "\n",
      "   micro avg       0.80      0.80      0.80       152\n",
      "   macro avg       0.82      0.77      0.78       152\n",
      "weighted avg       0.81      0.80      0.79       152\n",
      " \n",
      "\n",
      "Train Accuracy 0.881578947368421\n",
      "Test Accuracy: 0.7960526315789473\n",
      "roc_auc_score 0.7678794364187623\n"
     ]
    }
   ],
   "source": [
    "\n",
    "best_model = grid_search.best_estimator_\n",
    "y_pred=best_model.predict(X_test)\n",
    "\n",
    "confusion=confusion_matrix(Y_test, y_pred)\n",
    "report=classification_report(Y_test,y_pred)\n",
    "false_positive_rate, true_positive_rate, thresholds = roc_curve(Y_test, y_pred)\n",
    "roc_auc = auc(false_positive_rate, true_positive_rate)\n",
    "print(\"Confusion matrix \\n\",confusion,\"\\n\")\n",
    "print(\"Classification_report \\n \",report,\"\\n\")\n",
    "print(\"Train Accuracy\",accuracy_score(Y_train, best_model.predict(X_train)))\n",
    "print(\"Test Accuracy:\",accuracy_score(Y_test,y_pred))\n",
    "print(\"roc_auc_score\",roc_auc)"
   ]
  },
  {
   "cell_type": "code",
   "execution_count": 51,
   "metadata": {
    "scrolled": true
   },
   "outputs": [
    {
     "data": {
      "image/png": "[encoded data removed]",
      "text/plain": [
       "<Figure size 432x288 with 2 Axes>"
      ]
     },
     "metadata": {
      "needs_background": "light"
     },
     "output_type": "display_data"
    }
   ],
   "source": [
    "#confusion matrix plot\n",
    "\n",
    "ax= plt.subplot()\n",
    "sns.heatmap(confusion, annot=True, ax = ax); #annot=True to annotate cells\n",
    "\n",
    "# labels, title and ticks\n",
    "ax.set_xlabel('Predicted labels');ax.set_ylabel('True labels'); \n",
    "ax.set_title('Confusion Matrix'); \n",
    "ax.xaxis.set_ticklabels(['real', 'fake']); ax.yaxis.set_ticklabels(['real', 'fake']);"
   ]
  },
  {
   "cell_type": "code",
   "execution_count": null,
   "metadata": {},
   "outputs": [],
   "source": []
  },
  {
   "cell_type": "markdown",
   "metadata": {},
   "source": [
    "Exp4- Tf-Idf + Preprocessed text + Stemming "
   ]
  },
  {
   "cell_type": "code",
   "execution_count": 64,
   "metadata": {},
   "outputs": [],
   "source": [
    "x=df_balanced[\"Stemming\"]\n",
    "y=df_balanced['tag']\n",
    "\n",
    "X_train, X_test, Y_train, Y_test = model_selection.train_test_split( x, y, stratify=y, random_state=42,test_size=0.25)\n",
    "\n",
    "BoW=TfidfVectorizer(stop_words='english')\n",
    "X_train=BoW.fit_transform(X_train)\n",
    "X_test= BoW.transform(X_test)"
   ]
  },
  {
   "cell_type": "code",
   "execution_count": 67,
   "metadata": {
    "scrolled": false
   },
   "outputs": [
    {
     "data": {
      "image/png": "[encoded data removed]",
      "text/plain": [
       "<Figure size 432x288 with 1 Axes>"
      ]
     },
     "metadata": {
      "needs_background": "light"
     },
     "output_type": "display_data"
    }
   ],
   "source": [
    "# Setup arrays to store train and test accuracies\n",
    "dep = np.arange(1, 15)\n",
    "train_accuracy = np.empty(len(dep))\n",
    "test_accuracy = np.empty(len(dep))\n",
    "\n",
    "# Loop over different values of k\n",
    "for i, k in enumerate(dep):\n",
    "    # Setup a Decision Tree Classifier\n",
    "    clf = tree.DecisionTreeClassifier(random_state=42,max_depth=k)\n",
    "\n",
    "    # Fit the classifier to the training data\n",
    "    clf.fit(X_train, Y_train)\n",
    "\n",
    "    #Compute accuracy on the training set\n",
    "    train_accuracy[i] = clf.score(X_train, Y_train)\n",
    "\n",
    "    #Compute accuracy on the testing set\n",
    "    test_accuracy[i] = clf.score(X_test, Y_test)\n",
    "\n",
    "# Generate plot\n",
    "plt.title('clf: Varying depth of tree')\n",
    "plt.plot(dep, test_accuracy, label = 'Testing Accuracy')\n",
    "plt.plot(dep, train_accuracy, label = 'Training Accuracy')\n",
    "plt.legend()\n",
    "plt.xlabel('Depth of tree')\n",
    "plt.ylabel('Accuracy')\n",
    "plt.show()"
   ]
  },
  {
   "cell_type": "code",
   "execution_count": 54,
   "metadata": {},
   "outputs": [],
   "source": [
    "\n",
    "\n",
    "x=df_balanced[\"Stemming\"]\n",
    "y=df_balanced['tag']\n",
    "\n",
    "X_train, X_test, Y_train, Y_test = model_selection.train_test_split( x, y, stratify=y, random_state=42,test_size=0.25)\n",
    "\n",
    "pipeline = Pipeline([\n",
    "    ('vectorizer',TfidfVectorizer(stop_words='english')),\n",
    "    ('classifier', DecisionTreeClassifier(random_state=42,max_depth= 5))])\n"
   ]
  },
  {
   "cell_type": "code",
   "execution_count": 55,
   "metadata": {},
   "outputs": [],
   "source": [
    "grid = {\n",
    "    'vectorizer__ngram_range': [(1, 1), (1, 2)],\n",
    "}"
   ]
  },
  {
   "cell_type": "code",
   "execution_count": 56,
   "metadata": {
    "scrolled": true
   },
   "outputs": [
    {
     "data": {
      "text/plain": [
       "GridSearchCV(cv=5, error_score='raise-deprecating',\n",
       "       estimator=Pipeline(memory=None,\n",
       "     steps=[('vectorizer', TfidfVectorizer(analyzer='word', binary=False, decode_error='strict',\n",
       "        dtype=<class 'numpy.float64'>, encoding='utf-8', input='content',\n",
       "        lowercase=True, max_df=1.0, max_features=None, min_df=1,\n",
       "        ngram_range=(1, 1), norm='l2', preprocessor=None, smooth_idf=...        min_weight_fraction_leaf=0.0, presort=False, random_state=42,\n",
       "            splitter='best'))]),\n",
       "       fit_params=None, iid='warn', n_jobs=-1,\n",
       "       param_grid={'vectorizer__ngram_range': [(1, 1), (1, 2)], 'vectorizer__analyzer': ('word', 'char')},\n",
       "       pre_dispatch='2*n_jobs', refit=True, return_train_score='warn',\n",
       "       scoring='accuracy', verbose=0)"
      ]
     },
     "execution_count": 56,
     "metadata": {},
     "output_type": "execute_result"
    }
   ],
   "source": [
    "\n",
    "grid_search = GridSearchCV(pipeline, param_grid=grid, scoring='accuracy', n_jobs=-1, cv=5)\n",
    "grid_search.fit(X_train,Y_train)"
   ]
  },
  {
   "cell_type": "code",
   "execution_count": 57,
   "metadata": {
    "scrolled": false
   },
   "outputs": [
    {
     "name": "stdout",
     "output_type": "stream",
     "text": [
      "Pipeline(memory=None,\n",
      "     steps=[('vectorizer', TfidfVectorizer(analyzer='word', binary=False, decode_error='strict',\n",
      "        dtype=<class 'numpy.float64'>, encoding='utf-8', input='content',\n",
      "        lowercase=True, max_df=1.0, max_features=None, min_df=1,\n",
      "        ngram_range=(1, 1), norm='l2', preprocessor=None, smooth_idf=...        min_weight_fraction_leaf=0.0, presort=False, random_state=42,\n",
      "            splitter='best'))]) \n",
      "\n",
      "\tvectorizer__analyzer: word\n",
      "\tvectorizer__ngram_range: (1, 1)\n"
     ]
    }
   ],
   "source": [
    "print(grid_search.best_estimator_,\"\\n\")\n",
    "\n",
    "best_parameters = grid_search.best_estimator_.get_params()\n",
    "for param_name in sorted(list(grid.keys())):\n",
    "    print(\"\\t{0}: {1}\".format(param_name, best_parameters[param_name]))\n",
    "\n"
   ]
  },
  {
   "cell_type": "code",
   "execution_count": 58,
   "metadata": {},
   "outputs": [
    {
     "name": "stdout",
     "output_type": "stream",
     "text": [
      "Confusion matrix \n",
      " [[79 10]\n",
      " [27 36]] \n",
      "\n",
      "Classification_report \n",
      "                precision    recall  f1-score   support\n",
      "\n",
      "           0       0.75      0.89      0.81        89\n",
      "           1       0.78      0.57      0.66        63\n",
      "\n",
      "   micro avg       0.76      0.76      0.76       152\n",
      "   macro avg       0.76      0.73      0.74       152\n",
      "weighted avg       0.76      0.76      0.75       152\n",
      " \n",
      "\n",
      "Train Accuracy 0.8552631578947368\n",
      "Test Accuracy: 0.756578947368421\n",
      "roc_auc_score 0.7295345104333868\n"
     ]
    }
   ],
   "source": [
    "best_model = grid_search.best_estimator_\n",
    "y_pred=best_model.predict(X_test)\n",
    "\n",
    "confusion=confusion_matrix(Y_test, y_pred)\n",
    "report=classification_report(Y_test,y_pred)\n",
    "false_positive_rate, true_positive_rate, thresholds = roc_curve(Y_test, y_pred)\n",
    "roc_auc = auc(false_positive_rate, true_positive_rate)\n",
    "print(\"Confusion matrix \\n\",confusion,\"\\n\")\n",
    "print(\"Classification_report \\n \",report,\"\\n\")\n",
    "print(\"Train Accuracy\",accuracy_score(Y_train, best_model.predict(X_train)))\n",
    "print(\"Test Accuracy:\",accuracy_score(Y_test,y_pred))\n",
    "print(\"roc_auc_score\",roc_auc)"
   ]
  },
  {
   "cell_type": "code",
   "execution_count": 59,
   "metadata": {
    "scrolled": true
   },
   "outputs": [
    {
     "data": {
      "image/png": "[encoded data removed]",
      "text/plain": [
       "<Figure size 432x288 with 2 Axes>"
      ]
     },
     "metadata": {
      "needs_background": "light"
     },
     "output_type": "display_data"
    }
   ],
   "source": [
    "#confusion matrix plot\n",
    "\n",
    "ax= plt.subplot()\n",
    "sns.heatmap(confusion, annot=True, ax = ax); #annot=True to annotate cells\n",
    "\n",
    "# labels, title and ticks\n",
    "ax.set_xlabel('Predicted labels');ax.set_ylabel('True labels'); \n",
    "ax.set_title('Confusion Matrix'); \n",
    "ax.xaxis.set_ticklabels(['real', 'fake']); ax.yaxis.set_ticklabels(['real', 'fake']);"
   ]
  },
  {
   "cell_type": "code",
   "execution_count": null,
   "metadata": {},
   "outputs": [],
   "source": []
  }
 ],
 "metadata": {
  "kernelspec": {
   "display_name": "Python 3",
   "language": "python",
   "name": "python3"
  },
  "language_info": {
   "codemirror_mode": {
    "name": "ipython",
    "version": 3
   },
   "file_extension": ".py",
   "mimetype": "text/x-python",
   "name": "python",
   "nbconvert_exporter": "python",
   "pygments_lexer": "ipython3",
   "version": "3.7.3"
  }
 },
 "nbformat": 4,
 "nbformat_minor": 2
}
