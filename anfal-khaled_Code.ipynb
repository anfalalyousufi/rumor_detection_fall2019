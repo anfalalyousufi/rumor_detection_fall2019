{
 "cells": [
  {
   "cell_type": "markdown",
   "metadata": {},
   "source": [
    "# Final Project\n",
    "## Topic: Rumor Prediction \n",
    "\n",
    "#### Course: Social Media Mining F19 CIS6930\n",
    "#### By Anfal AlYousufi & Khaled Alshatti\n",
    "#### U72884742 & U46432860\n"
   ]
  },
  {
   "cell_type": "code",
   "execution_count": 176,
   "metadata": {},
   "outputs": [],
   "source": [
    "#(anfal)\n",
    "\n",
    "import re\n",
    "import sys\n",
    "import json\n",
    "import nltk\n",
    "import numpy as np\n",
    "import pandas as pd\n",
    "import seaborn as sns\n",
    "import matplotlib.pyplot as plt\n",
    "%matplotlib inline \n",
    "\n",
    "#headerline\n",
    "from matplotlib.legend_handler import HandlerLine2D\n",
    "\n",
    "#SVG \n",
    "from IPython.display import SVG\n",
    "\n",
    "#confusion matrix\n",
    "from mlxtend.evaluate import confusion_matrix \n",
    "from mlxtend.plotting import plot_confusion_matrix\n",
    "\n",
    "#nltk\n",
    "from nltk.corpus import stopwords\n",
    "from nltk.stem.snowball import SnowballStemmer\n",
    "\n",
    "#sklearn\n",
    "import sklearn as sk\n",
    "from sklearn.svm import SVC \n",
    "from sklearn.model_selection import GridSearchCV, cross_val_score\n",
    "from sklearn import model_selection\n",
    "from sklearn.utils import resample\n",
    "from sklearn.model_selection import cross_validate\n",
    "from sklearn.tree import DecisionTreeClassifier\n",
    "from sklearn.feature_extraction.text import CountVectorizer\n",
    "from sklearn.feature_extraction.text import TfidfVectorizer\n",
    "from sklearn.pipeline import Pipeline,make_pipeline\n",
    "from sklearn.model_selection import train_test_split\n",
    "from sklearn.neighbors import KNeighborsClassifier \n",
    "from sklearn.metrics import classification_report, confusion_matrix, accuracy_score,make_scorer,f1_score\n",
    "from sklearn.naive_bayes import MultinomialNB\n",
    "from sklearn.utils import resample"
   ]
  },
  {
   "cell_type": "markdown",
   "metadata": {},
   "source": [
    "## Loading data set for tweet and tag"
   ]
  },
  {
   "cell_type": "code",
   "execution_count": 125,
   "metadata": {},
   "outputs": [],
   "source": [
    "#(anfal)\n",
    "\n",
    "def Load_dataset(path):\n",
    "    with open(path) as json_data:\n",
    "        text= json.load(json_data)\n",
    "    new_data = []\n",
    "    for x in text:\n",
    "        new_insert = {}\n",
    "        for i,v in x.items():\n",
    "            if not isinstance(v, dict): #true for (v,dict)\n",
    "                new_insert[i] = v # not dictionary \n",
    "            else:\n",
    "                 for e,f in v.items():# flatten v\n",
    "                    new_insert[e] = f\n",
    "        new_data.append(new_insert)\n",
    "    return pd.DataFrame(new_data)\n",
    "\n",
    "path = 'Dataset.json'\n",
    "tweet = Load_dataset(path)"
   ]
  },
  {
   "cell_type": "markdown",
   "metadata": {},
   "source": [
    "# Clean Data: Preprocessing"
   ]
  },
  {
   "cell_type": "code",
   "execution_count": 140,
   "metadata": {},
   "outputs": [
    {
     "data": {
      "text/html": [
       "<div>\n",
       "<style scoped>\n",
       "    .dataframe tbody tr th:only-of-type {\n",
       "        vertical-align: middle;\n",
       "    }\n",
       "\n",
       "    .dataframe tbody tr th {\n",
       "        vertical-align: top;\n",
       "    }\n",
       "\n",
       "    .dataframe thead th {\n",
       "        text-align: right;\n",
       "    }\n",
       "</style>\n",
       "<table border=\"1\" class=\"dataframe\">\n",
       "  <thead>\n",
       "    <tr style=\"text-align: right;\">\n",
       "      <th></th>\n",
       "      <th>tag</th>\n",
       "      <th>text</th>\n",
       "      <th>strong_pro1</th>\n",
       "      <th>strong_pro</th>\n",
       "      <th>Stemming</th>\n",
       "    </tr>\n",
       "  </thead>\n",
       "  <tbody>\n",
       "    <tr>\n",
       "      <th>0</th>\n",
       "      <td>real</td>\n",
       "      <td>Exclusive: Aramco agrees on price for Sabic ac...</td>\n",
       "      <td>exclusive aramco agrees price for sabic acquis...</td>\n",
       "      <td>exclusive aramco agrees  price for sabic acqui...</td>\n",
       "      <td>exclus aramco agre price for sabic acquisit</td>\n",
       "    </tr>\n",
       "    <tr>\n",
       "      <th>1</th>\n",
       "      <td>real</td>\n",
       "      <td>#Digitisation contract signed in #SaudiArabia ...</td>\n",
       "      <td>digitisation contract signed saudiarabia for t...</td>\n",
       "      <td>contract signed  for two holy mosques</td>\n",
       "      <td>contract sign for two holi mosqu</td>\n",
       "    </tr>\n",
       "    <tr>\n",
       "      <th>2</th>\n",
       "      <td>fake</td>\n",
       "      <td>The #Taliban will not attend planned peace tal...</td>\n",
       "      <td>the taliban will not attend planned peace talk...</td>\n",
       "      <td>the will not attend planned peace talks with t...</td>\n",
       "      <td>the will not attend plan peac talk with the ar...</td>\n",
       "    </tr>\n",
       "    <tr>\n",
       "      <th>3</th>\n",
       "      <td>real</td>\n",
       "      <td>#Qatar have used #Khashoggi to write all of th...</td>\n",
       "      <td>qatar have used khashoggi write all the articl...</td>\n",
       "      <td>have used  write all  the articles  beside us...</td>\n",
       "      <td>have use write all the articl besid use him fo...</td>\n",
       "    </tr>\n",
       "    <tr>\n",
       "      <th>4</th>\n",
       "      <td>real</td>\n",
       "      <td>#Saudi sets clear rules and regulations to pro...</td>\n",
       "      <td>saudi sets clear rules and regulations protect...</td>\n",
       "      <td>sets clear rules and regulations  protect wil...</td>\n",
       "      <td>set clear rule and regul protect wildlif the k...</td>\n",
       "    </tr>\n",
       "    <tr>\n",
       "      <th>5</th>\n",
       "      <td>real</td>\n",
       "      <td>#Saudi ministry of justice works on developing...</td>\n",
       "      <td>saudi ministry justice works developing commer...</td>\n",
       "      <td>ministry  justice works  developing commercia...</td>\n",
       "      <td>ministri justic work develop commerci justic p...</td>\n",
       "    </tr>\n",
       "    <tr>\n",
       "      <th>6</th>\n",
       "      <td>fake</td>\n",
       "      <td>#فتاه_تايلند\\nA #Saudi woman who’s trying to f...</td>\n",
       "      <td>saudi woman who trying flee into asylum being ...</td>\n",
       "      <td>woman who  trying  flee into asylum  being h...</td>\n",
       "      <td>woman who tri flee into asylum be held airport...</td>\n",
       "    </tr>\n",
       "    <tr>\n",
       "      <th>7</th>\n",
       "      <td>real</td>\n",
       "      <td>#Saudi woman detained in #Thailand seeks asylu...</td>\n",
       "      <td>saudi woman detained thailand seeks asylum can...</td>\n",
       "      <td>woman detained  seeks asylum  she sought asyl...</td>\n",
       "      <td>woman detain seek asylum she sought asylum can...</td>\n",
       "    </tr>\n",
       "    <tr>\n",
       "      <th>8</th>\n",
       "      <td>real</td>\n",
       "      <td>Saudi Government paid SR 6million  blood money...</td>\n",
       "      <td>saudi government paid million blood money rele...</td>\n",
       "      <td>saudi government paid  million blood money  re...</td>\n",
       "      <td>saudi govern paid million blood money releas j...</td>\n",
       "    </tr>\n",
       "    <tr>\n",
       "      <th>9</th>\n",
       "      <td>fake</td>\n",
       "      <td>Gunfire Heard At Saudi Royal Palace In Riyadh ...</td>\n",
       "      <td>gunfire heard saudi royal palace riyadh rumors...</td>\n",
       "      <td>gunfire heard  saudi royal palace  riyadh  rum...</td>\n",
       "      <td>gunfir heard saudi royal palac riyadh rumor at...</td>\n",
       "    </tr>\n",
       "    <tr>\n",
       "      <th>10</th>\n",
       "      <td>fake</td>\n",
       "      <td>Loujain al-Hathloul:  She Wanted to Drive, So ...</td>\n",
       "      <td>loujain hathloul she wanted drive saudiarabia ...</td>\n",
       "      <td>loujain  hathloul she wanted  drive   ruler im...</td>\n",
       "      <td>loujain hathloul she want drive ruler imprison...</td>\n",
       "    </tr>\n",
       "    <tr>\n",
       "      <th>11</th>\n",
       "      <td>real</td>\n",
       "      <td>TRENDS President Dr. @AhmedAlHamli concludes a...</td>\n",
       "      <td>trends president ahmedalhamli concludes produc...</td>\n",
       "      <td>trends president  ahmedalhamli concludes  prod...</td>\n",
       "      <td>trend presid ahmedalham conclud product meet w...</td>\n",
       "    </tr>\n",
       "    <tr>\n",
       "      <th>12</th>\n",
       "      <td>real</td>\n",
       "      <td>Saudi Crown Prince Mohammed bin Salman plans t...</td>\n",
       "      <td>saudi crown prince mohammed bin salman plans l...</td>\n",
       "      <td>saudi crown prince mohammed bin salman plans  ...</td>\n",
       "      <td>saudi crown princ moham bin salman plan launch...</td>\n",
       "    </tr>\n",
       "    <tr>\n",
       "      <th>13</th>\n",
       "      <td>real</td>\n",
       "      <td>Abdullah and #Khashoggi both worked for #Qatar...</td>\n",
       "      <td>abdullah and khashoggi both worked for qatar u...</td>\n",
       "      <td>abdullah and both worked for undercover noneth...</td>\n",
       "      <td>abdullah and both work for undercov nonetheles...</td>\n",
       "    </tr>\n",
       "    <tr>\n",
       "      <th>14</th>\n",
       "      <td>fake</td>\n",
       "      <td>#Saudi Analyst: Saudis Prefer to Work with #Is...</td>\n",
       "      <td>saudi analyst saudis prefer work with israelis...</td>\n",
       "      <td>analyst saudis prefer  work with over</td>\n",
       "      <td>analyst saudi prefer work with over</td>\n",
       "    </tr>\n",
       "    <tr>\n",
       "      <th>15</th>\n",
       "      <td>real</td>\n",
       "      <td>#Saudi Contractors Authority to showcase $53-b...</td>\n",
       "      <td>saudi contractors authority showcase billion c...</td>\n",
       "      <td>contractors authority  showcase billion proje...</td>\n",
       "      <td>contractor author showcas billion project even...</td>\n",
       "    </tr>\n",
       "    <tr>\n",
       "      <th>16</th>\n",
       "      <td>real</td>\n",
       "      <td>King's Cup Final 2018 ceremony organized and c...</td>\n",
       "      <td>king cup final ceremony organized and covered ...</td>\n",
       "      <td>king  cup final ceremony organized and covered...</td>\n",
       "      <td>king cup final ceremoni organ and cover collab...</td>\n",
       "    </tr>\n",
       "    <tr>\n",
       "      <th>17</th>\n",
       "      <td>real</td>\n",
       "      <td>ALEPPO, SYRIA King Salman Humanitarian Aid and...</td>\n",
       "      <td>aleppo syria king salman humanitarian aid and ...</td>\n",
       "      <td>aleppo syria king salman humanitarian aid and ...</td>\n",
       "      <td>aleppo syria king salman humanitarian aid and ...</td>\n",
       "    </tr>\n",
       "    <tr>\n",
       "      <th>18</th>\n",
       "      <td>real</td>\n",
       "      <td>#Saudi teenager who fled family and sought asy...</td>\n",
       "      <td>saudi teenager who fled family and sought asyl...</td>\n",
       "      <td>teenager who fled family and sought asylum wh...</td>\n",
       "      <td>teenag who fled famili and sought asylum when ...</td>\n",
       "    </tr>\n",
       "    <tr>\n",
       "      <th>19</th>\n",
       "      <td>fake</td>\n",
       "      <td>Really, does @MariahCarey need the dirty #Saud...</td>\n",
       "      <td>really does mariahcarey need the dirty saudi m...</td>\n",
       "      <td>really does mariahcarey need the dirty money  ...</td>\n",
       "      <td>realli doe mariahcarey need the dirti money mu...</td>\n",
       "    </tr>\n",
       "    <tr>\n",
       "      <th>20</th>\n",
       "      <td>fake</td>\n",
       "      <td>What #Saudi is doing of killing, Blockade, Fam...</td>\n",
       "      <td>what saudi doing killing blockade famine closi...</td>\n",
       "      <td>what  doing  killing blockade famine closing  ...</td>\n",
       "      <td>what do kill blockad famin close civil airport...</td>\n",
       "    </tr>\n",
       "    <tr>\n",
       "      <th>21</th>\n",
       "      <td>fake</td>\n",
       "      <td>Activists are calling on Mariah Carey to cance...</td>\n",
       "      <td>activists are calling mariah carey cancel her ...</td>\n",
       "      <td>activists are calling  mariah carey  cancel he...</td>\n",
       "      <td>activist are call mariah carey cancel her upco...</td>\n",
       "    </tr>\n",
       "    <tr>\n",
       "      <th>22</th>\n",
       "      <td>fake</td>\n",
       "      <td>The point from the onset is interventionists a...</td>\n",
       "      <td>the point from the onset interventionists are ...</td>\n",
       "      <td>the point from the onset  interventionists are...</td>\n",
       "      <td>the point from the onset interventionist are u...</td>\n",
       "    </tr>\n",
       "    <tr>\n",
       "      <th>23</th>\n",
       "      <td>real</td>\n",
       "      <td>King Fahd University of Petroleum and Minerals...</td>\n",
       "      <td>king fahd university petroleum and minerals po...</td>\n",
       "      <td>king fahd university  petroleum and minerals p...</td>\n",
       "      <td>king fahd univers petroleum and miner posit to...</td>\n",
       "    </tr>\n",
       "    <tr>\n",
       "      <th>24</th>\n",
       "      <td>real</td>\n",
       "      <td>#Saudi Cabinet restructuring meant to upgrade ...</td>\n",
       "      <td>saudi cabinet restructuring meant upgrade the ...</td>\n",
       "      <td>cabinet restructuring meant  upgrade the stan...</td>\n",
       "      <td>cabinet restructur meant upgrad the standard s...</td>\n",
       "    </tr>\n",
       "    <tr>\n",
       "      <th>25</th>\n",
       "      <td>real</td>\n",
       "      <td>#Saudi| Crown Prince Mohammed bin Salman inaug...</td>\n",
       "      <td>saudi crown prince mohammed bin salman inaugur...</td>\n",
       "      <td>crown prince mohammed bin salman inaugurates ...</td>\n",
       "      <td>crown princ moham bin salman inaugur the natio...</td>\n",
       "    </tr>\n",
       "    <tr>\n",
       "      <th>26</th>\n",
       "      <td>fake</td>\n",
       "      <td>It's all about that CASH!!! Mariah Carey perfo...</td>\n",
       "      <td>all about that cash mariah carey performs saud...</td>\n",
       "      <td>all about that cash mariah carey performs  s...</td>\n",
       "      <td>all about that cash mariah carey perform saudi...</td>\n",
       "    </tr>\n",
       "    <tr>\n",
       "      <th>27</th>\n",
       "      <td>real</td>\n",
       "      <td>The dynamics of #US shale #oil production is s...</td>\n",
       "      <td>the dynamics shale oil production spread acros...</td>\n",
       "      <td>the dynamics  shale production  spread across ...</td>\n",
       "      <td>the dynam shale product spread across mani ope...</td>\n",
       "    </tr>\n",
       "    <tr>\n",
       "      <th>28</th>\n",
       "      <td>real</td>\n",
       "      <td>This is the approved design for the developmen...</td>\n",
       "      <td>this the approved design for the development p...</td>\n",
       "      <td>this  the approved design for the development ...</td>\n",
       "      <td>this the approv design for the develop project...</td>\n",
       "    </tr>\n",
       "    <tr>\n",
       "      <th>29</th>\n",
       "      <td>fake</td>\n",
       "      <td>this is politically incorrect-but I can't help...</td>\n",
       "      <td>this politically incorrect but can help wonder...</td>\n",
       "      <td>this  politically incorrect but  can  help won...</td>\n",
       "      <td>this polit incorrect but can help wonder what ...</td>\n",
       "    </tr>\n",
       "    <tr>\n",
       "      <th>...</th>\n",
       "      <td>...</td>\n",
       "      <td>...</td>\n",
       "      <td>...</td>\n",
       "      <td>...</td>\n",
       "      <td>...</td>\n",
       "    </tr>\n",
       "    <tr>\n",
       "      <th>224</th>\n",
       "      <td>fake</td>\n",
       "      <td>Crown Prince Mohammed bin Salman receives call...</td>\n",
       "      <td>crown prince mohammed bin salman receives call...</td>\n",
       "      <td>crown prince mohammed bin salman receives call...</td>\n",
       "      <td>crown princ moham bin salman receiv call from ...</td>\n",
       "    </tr>\n",
       "    <tr>\n",
       "      <th>225</th>\n",
       "      <td>fake</td>\n",
       "      <td>Gunfire heard at Saudi royal palace in Riyadh ...</td>\n",
       "      <td>gunfire heard saudi royal palace riyadh rumors...</td>\n",
       "      <td>gunfire heard  saudi royal palace  riyadh  rum...</td>\n",
       "      <td>gunfir heard saudi royal palac riyadh rumor at...</td>\n",
       "    </tr>\n",
       "    <tr>\n",
       "      <th>226</th>\n",
       "      <td>real</td>\n",
       "      <td>King Salman Receives Princes, Kingdom's Grand ...</td>\n",
       "      <td>king salman receives princes kingdom grand muf...</td>\n",
       "      <td>king salman receives princes kingdom  grand mu...</td>\n",
       "      <td>king salman receiv princ kingdom grand mufti m...</td>\n",
       "    </tr>\n",
       "    <tr>\n",
       "      <th>227</th>\n",
       "      <td>real</td>\n",
       "      <td>#Saudi Arabia to trim #oil exports further in ...</td>\n",
       "      <td>saudi arabia trim oil exports further february...</td>\n",
       "      <td>arabia  trim exports further  february reuters</td>\n",
       "      <td>arabia trim export further februari reuter</td>\n",
       "    </tr>\n",
       "    <tr>\n",
       "      <th>228</th>\n",
       "      <td>real</td>\n",
       "      <td>The #Saudi Geological Survey revealed the hist...</td>\n",
       "      <td>the saudi geological survey revealed the histo...</td>\n",
       "      <td>the geological survey revealed the historic ca...</td>\n",
       "      <td>the geolog survey reveal the histor cave nomin...</td>\n",
       "    </tr>\n",
       "    <tr>\n",
       "      <th>229</th>\n",
       "      <td>real</td>\n",
       "      <td>On November 28, #CrownPrince #MohammedbinSalma...</td>\n",
       "      <td>november crownprince mohammedbinsalman arrived...</td>\n",
       "      <td>november arrived  argentine  head the delegat...</td>\n",
       "      <td>novemb arriv argentin head the deleg particip ...</td>\n",
       "    </tr>\n",
       "    <tr>\n",
       "      <th>230</th>\n",
       "      <td>real</td>\n",
       "      <td>#Thailand has halted plans to deport 18-year-o...</td>\n",
       "      <td>thailand has halted plans deport year old raha...</td>\n",
       "      <td>has halted plans  deport year old rahaf  qunu...</td>\n",
       "      <td>has halt plan deport year old rahaf qunun back</td>\n",
       "    </tr>\n",
       "    <tr>\n",
       "      <th>231</th>\n",
       "      <td>real</td>\n",
       "      <td>\"Vox Cinemas announced it would be investing $...</td>\n",
       "      <td>vox cinemas announced would investing million ...</td>\n",
       "      <td>vox cinemas announced  would  investing milli...</td>\n",
       "      <td>vox cinema announc would invest million open t...</td>\n",
       "    </tr>\n",
       "    <tr>\n",
       "      <th>232</th>\n",
       "      <td>real</td>\n",
       "      <td>#Saudi-backed broadcaster @mbc_group launches ...</td>\n",
       "      <td>saudi backed broadcaster mbc group launches vi...</td>\n",
       "      <td>backed broadcaster mbc group launches video c...</td>\n",
       "      <td>back broadcast mbc group launch video challeng...</td>\n",
       "    </tr>\n",
       "    <tr>\n",
       "      <th>233</th>\n",
       "      <td>real</td>\n",
       "      <td>KHASHOGGI'S SON LEAVES: Salah Khashoggi has le...</td>\n",
       "      <td>khashoggi son leaves salah khashoggi has left ...</td>\n",
       "      <td>khashoggi  son leaves salah khashoggi has left...</td>\n",
       "      <td>khashoggi son leav salah khashoggi has left sa...</td>\n",
       "    </tr>\n",
       "    <tr>\n",
       "      <th>234</th>\n",
       "      <td>real</td>\n",
       "      <td>#Dubai and #Saudi builders to grow as 2019 bud...</td>\n",
       "      <td>dubai and saudi builders grow budgets prioriti...</td>\n",
       "      <td>and builders  grow  budgets prioritise infras...</td>\n",
       "      <td>and builder grow budget prioritis infrastructur</td>\n",
       "    </tr>\n",
       "    <tr>\n",
       "      <th>235</th>\n",
       "      <td>fake</td>\n",
       "      <td>#WashingtonPost scandalized itself after revea...</td>\n",
       "      <td>washingtonpost scandalized itself after reveal...</td>\n",
       "      <td>scandalized itself after revealing  its inves...</td>\n",
       "      <td>scandal itself after reveal it investig that w...</td>\n",
       "    </tr>\n",
       "    <tr>\n",
       "      <th>236</th>\n",
       "      <td>real</td>\n",
       "      <td>Why do #Saudi girls run away? Complicated, but...</td>\n",
       "      <td>why saudi girls run away complicated but the p...</td>\n",
       "      <td>why  girls run away complicated but the pace  ...</td>\n",
       "      <td>whi girl run away complic but the pace current...</td>\n",
       "    </tr>\n",
       "    <tr>\n",
       "      <th>237</th>\n",
       "      <td>fake</td>\n",
       "      <td>Manchester United executives have met with off...</td>\n",
       "      <td>manchester united executives have met with off...</td>\n",
       "      <td>manchester united executives have met with off...</td>\n",
       "      <td>manchest unit execut have met with offici saud...</td>\n",
       "    </tr>\n",
       "    <tr>\n",
       "      <th>238</th>\n",
       "      <td>real</td>\n",
       "      <td>This week #Saudi energy minister ⁦@Khalid_AlFa...</td>\n",
       "      <td>this week saudi energy minister khalid alfalih...</td>\n",
       "      <td>this week energy minister khalid alfalih told ...</td>\n",
       "      <td>this week energi minist khalid alfalih told th...</td>\n",
       "    </tr>\n",
       "    <tr>\n",
       "      <th>239</th>\n",
       "      <td>fake</td>\n",
       "      <td>The #Saudi-led coalition stopped Civil and Hua...</td>\n",
       "      <td>the saudi led coalition stopped civil and huam...</td>\n",
       "      <td>the led coalition stopped civil and huamn flig...</td>\n",
       "      <td>the led coalit stop civil and huamn flight and...</td>\n",
       "    </tr>\n",
       "    <tr>\n",
       "      <th>240</th>\n",
       "      <td>real</td>\n",
       "      <td>#Netflix criticized for pulling satire episode...</td>\n",
       "      <td>netflix criticized for pulling satire episode ...</td>\n",
       "      <td>criticized for pulling satire episode  episod...</td>\n",
       "      <td>critic for pull satir episod episod patriot ac...</td>\n",
       "    </tr>\n",
       "    <tr>\n",
       "      <th>241</th>\n",
       "      <td>real</td>\n",
       "      <td>18-year-old #Saudi girl granted refugee status...</td>\n",
       "      <td>year old saudi girl granted refugee status</td>\n",
       "      <td>year old girl granted refugee status</td>\n",
       "      <td>year old girl grant refuge status</td>\n",
       "    </tr>\n",
       "    <tr>\n",
       "      <th>242</th>\n",
       "      <td>fake</td>\n",
       "      <td>I wonder if Mohammed bin Salman would have inv...</td>\n",
       "      <td>wonder mohammed bin salman would have invited ...</td>\n",
       "      <td>wonder  mohammed bin salman would have invite...</td>\n",
       "      <td>wonder moham bin salman would have invit jamal...</td>\n",
       "    </tr>\n",
       "    <tr>\n",
       "      <th>243</th>\n",
       "      <td>real</td>\n",
       "      <td>Saudi is aiming for a regional number 1 positi...</td>\n",
       "      <td>saudi aiming for regional number position this...</td>\n",
       "      <td>saudi  aiming for  regional number position  t...</td>\n",
       "      <td>saudi aim for region number posit this categor...</td>\n",
       "    </tr>\n",
       "    <tr>\n",
       "      <th>244</th>\n",
       "      <td>real</td>\n",
       "      <td>Saudi Market Daily Report 06/01/2019\\nhttps://...</td>\n",
       "      <td>saudi market daily report tadawul tasi ksa saudi</td>\n",
       "      <td>saudi market daily report</td>\n",
       "      <td>saudi market daili report</td>\n",
       "    </tr>\n",
       "    <tr>\n",
       "      <th>245</th>\n",
       "      <td>real</td>\n",
       "      <td>Brokerage House Securities was the most active...</td>\n",
       "      <td>brokerage house securities was the most active...</td>\n",
       "      <td>brokerage house securities was the most active...</td>\n",
       "      <td>brokerag hous secur was the most activ broker ...</td>\n",
       "    </tr>\n",
       "    <tr>\n",
       "      <th>246</th>\n",
       "      <td>fake</td>\n",
       "      <td>#MariahCarey performs in Saudi Arabia despite ...</td>\n",
       "      <td>mariahcarey performs saudi arabia despite call...</td>\n",
       "      <td>performs  saudi arabia despite calls for boyc...</td>\n",
       "      <td>perform saudi arabia despit call for boycott h...</td>\n",
       "    </tr>\n",
       "    <tr>\n",
       "      <th>247</th>\n",
       "      <td>real</td>\n",
       "      <td>As #Khashoggi crisis escalates, Saudi Arabia r...</td>\n",
       "      <td>khashoggi crisis escalates saudi arabia renews...</td>\n",
       "      <td>crisis escalates saudi arabia renews warning ...</td>\n",
       "      <td>crisi escal saudi arabia renew warn citizen sh...</td>\n",
       "    </tr>\n",
       "    <tr>\n",
       "      <th>248</th>\n",
       "      <td>fake</td>\n",
       "      <td>Saud al-Qahtani, top royal aide for MBS, was p...</td>\n",
       "      <td>saud qahtani top royal aide for mbs was presen...</td>\n",
       "      <td>saud  qahtani top royal aide for mbs was prese...</td>\n",
       "      <td>saud qahtani top royal aid for mbs was present...</td>\n",
       "    </tr>\n",
       "    <tr>\n",
       "      <th>249</th>\n",
       "      <td>real</td>\n",
       "      <td>Saudi Crown Prince Mohammed bin Salman plans t...</td>\n",
       "      <td>saudi crown prince mohammed bin salman plans l...</td>\n",
       "      <td>saudi crown prince mohammed bin salman plans  ...</td>\n",
       "      <td>saudi crown princ moham bin salman plan launch...</td>\n",
       "    </tr>\n",
       "    <tr>\n",
       "      <th>250</th>\n",
       "      <td>real</td>\n",
       "      <td>:: The Kingdom’s Grand Mufti Sheikh Abdul Aziz...</td>\n",
       "      <td>the kingdom grand mufti sheikh abdul aziz ashe...</td>\n",
       "      <td>the kingdom  grand mufti sheikh abdul aziz  a...</td>\n",
       "      <td>the kingdom grand mufti sheikh abdul aziz ashe...</td>\n",
       "    </tr>\n",
       "    <tr>\n",
       "      <th>251</th>\n",
       "      <td>real</td>\n",
       "      <td>The @KSAmofaEN pavilion @AlJanadriaFest is hos...</td>\n",
       "      <td>the ksamofaen pavilion aljanadriafest hosting ...</td>\n",
       "      <td>the ksamofaen pavilion aljanadriafest  hosting...</td>\n",
       "      <td>the ksamofaen pavilion aljanadriafest host sup...</td>\n",
       "    </tr>\n",
       "    <tr>\n",
       "      <th>252</th>\n",
       "      <td>fake</td>\n",
       "      <td>#Saudi dissident in #Beirut believes he escape...</td>\n",
       "      <td>saudi dissident beirut believes escaped same f...</td>\n",
       "      <td>dissident  believes  escaped same fate  via m...</td>\n",
       "      <td>dissid believ escap same fate via middleeastey</td>\n",
       "    </tr>\n",
       "    <tr>\n",
       "      <th>253</th>\n",
       "      <td>fake</td>\n",
       "      <td>Saudi Arabia's King Salman very ill, in ICU - ...</td>\n",
       "      <td>saudi arabia king salman very ill icu reports</td>\n",
       "      <td>saudi arabia  king salman very ill  icu reports</td>\n",
       "      <td>saudi arabia king salman veri ill icu report</td>\n",
       "    </tr>\n",
       "  </tbody>\n",
       "</table>\n",
       "<p>254 rows × 5 columns</p>\n",
       "</div>"
      ],
      "text/plain": [
       "      tag                                               text  \\\n",
       "0    real  Exclusive: Aramco agrees on price for Sabic ac...   \n",
       "1    real  #Digitisation contract signed in #SaudiArabia ...   \n",
       "2    fake  The #Taliban will not attend planned peace tal...   \n",
       "3    real  #Qatar have used #Khashoggi to write all of th...   \n",
       "4    real  #Saudi sets clear rules and regulations to pro...   \n",
       "5    real  #Saudi ministry of justice works on developing...   \n",
       "6    fake  #فتاه_تايلند\\nA #Saudi woman who’s trying to f...   \n",
       "7    real  #Saudi woman detained in #Thailand seeks asylu...   \n",
       "8    real  Saudi Government paid SR 6million  blood money...   \n",
       "9    fake  Gunfire Heard At Saudi Royal Palace In Riyadh ...   \n",
       "10   fake  Loujain al-Hathloul:  She Wanted to Drive, So ...   \n",
       "11   real  TRENDS President Dr. @AhmedAlHamli concludes a...   \n",
       "12   real  Saudi Crown Prince Mohammed bin Salman plans t...   \n",
       "13   real  Abdullah and #Khashoggi both worked for #Qatar...   \n",
       "14   fake  #Saudi Analyst: Saudis Prefer to Work with #Is...   \n",
       "15   real  #Saudi Contractors Authority to showcase $53-b...   \n",
       "16   real  King's Cup Final 2018 ceremony organized and c...   \n",
       "17   real  ALEPPO, SYRIA King Salman Humanitarian Aid and...   \n",
       "18   real  #Saudi teenager who fled family and sought asy...   \n",
       "19   fake  Really, does @MariahCarey need the dirty #Saud...   \n",
       "20   fake  What #Saudi is doing of killing, Blockade, Fam...   \n",
       "21   fake  Activists are calling on Mariah Carey to cance...   \n",
       "22   fake  The point from the onset is interventionists a...   \n",
       "23   real  King Fahd University of Petroleum and Minerals...   \n",
       "24   real  #Saudi Cabinet restructuring meant to upgrade ...   \n",
       "25   real  #Saudi| Crown Prince Mohammed bin Salman inaug...   \n",
       "26   fake  It's all about that CASH!!! Mariah Carey perfo...   \n",
       "27   real  The dynamics of #US shale #oil production is s...   \n",
       "28   real  This is the approved design for the developmen...   \n",
       "29   fake  this is politically incorrect-but I can't help...   \n",
       "..    ...                                                ...   \n",
       "224  fake  Crown Prince Mohammed bin Salman receives call...   \n",
       "225  fake  Gunfire heard at Saudi royal palace in Riyadh ...   \n",
       "226  real  King Salman Receives Princes, Kingdom's Grand ...   \n",
       "227  real  #Saudi Arabia to trim #oil exports further in ...   \n",
       "228  real  The #Saudi Geological Survey revealed the hist...   \n",
       "229  real  On November 28, #CrownPrince #MohammedbinSalma...   \n",
       "230  real  #Thailand has halted plans to deport 18-year-o...   \n",
       "231  real  \"Vox Cinemas announced it would be investing $...   \n",
       "232  real  #Saudi-backed broadcaster @mbc_group launches ...   \n",
       "233  real  KHASHOGGI'S SON LEAVES: Salah Khashoggi has le...   \n",
       "234  real  #Dubai and #Saudi builders to grow as 2019 bud...   \n",
       "235  fake  #WashingtonPost scandalized itself after revea...   \n",
       "236  real  Why do #Saudi girls run away? Complicated, but...   \n",
       "237  fake  Manchester United executives have met with off...   \n",
       "238  real  This week #Saudi energy minister ⁦@Khalid_AlFa...   \n",
       "239  fake  The #Saudi-led coalition stopped Civil and Hua...   \n",
       "240  real  #Netflix criticized for pulling satire episode...   \n",
       "241  real  18-year-old #Saudi girl granted refugee status...   \n",
       "242  fake  I wonder if Mohammed bin Salman would have inv...   \n",
       "243  real  Saudi is aiming for a regional number 1 positi...   \n",
       "244  real  Saudi Market Daily Report 06/01/2019\\nhttps://...   \n",
       "245  real  Brokerage House Securities was the most active...   \n",
       "246  fake  #MariahCarey performs in Saudi Arabia despite ...   \n",
       "247  real  As #Khashoggi crisis escalates, Saudi Arabia r...   \n",
       "248  fake  Saud al-Qahtani, top royal aide for MBS, was p...   \n",
       "249  real  Saudi Crown Prince Mohammed bin Salman plans t...   \n",
       "250  real  :: The Kingdom’s Grand Mufti Sheikh Abdul Aziz...   \n",
       "251  real  The @KSAmofaEN pavilion @AlJanadriaFest is hos...   \n",
       "252  fake  #Saudi dissident in #Beirut believes he escape...   \n",
       "253  fake  Saudi Arabia's King Salman very ill, in ICU - ...   \n",
       "\n",
       "                                           strong_pro1  \\\n",
       "0    exclusive aramco agrees price for sabic acquis...   \n",
       "1    digitisation contract signed saudiarabia for t...   \n",
       "2    the taliban will not attend planned peace talk...   \n",
       "3    qatar have used khashoggi write all the articl...   \n",
       "4    saudi sets clear rules and regulations protect...   \n",
       "5    saudi ministry justice works developing commer...   \n",
       "6    saudi woman who trying flee into asylum being ...   \n",
       "7    saudi woman detained thailand seeks asylum can...   \n",
       "8    saudi government paid million blood money rele...   \n",
       "9    gunfire heard saudi royal palace riyadh rumors...   \n",
       "10   loujain hathloul she wanted drive saudiarabia ...   \n",
       "11   trends president ahmedalhamli concludes produc...   \n",
       "12   saudi crown prince mohammed bin salman plans l...   \n",
       "13   abdullah and khashoggi both worked for qatar u...   \n",
       "14   saudi analyst saudis prefer work with israelis...   \n",
       "15   saudi contractors authority showcase billion c...   \n",
       "16   king cup final ceremony organized and covered ...   \n",
       "17   aleppo syria king salman humanitarian aid and ...   \n",
       "18   saudi teenager who fled family and sought asyl...   \n",
       "19   really does mariahcarey need the dirty saudi m...   \n",
       "20   what saudi doing killing blockade famine closi...   \n",
       "21   activists are calling mariah carey cancel her ...   \n",
       "22   the point from the onset interventionists are ...   \n",
       "23   king fahd university petroleum and minerals po...   \n",
       "24   saudi cabinet restructuring meant upgrade the ...   \n",
       "25   saudi crown prince mohammed bin salman inaugur...   \n",
       "26   all about that cash mariah carey performs saud...   \n",
       "27   the dynamics shale oil production spread acros...   \n",
       "28   this the approved design for the development p...   \n",
       "29   this politically incorrect but can help wonder...   \n",
       "..                                                 ...   \n",
       "224  crown prince mohammed bin salman receives call...   \n",
       "225  gunfire heard saudi royal palace riyadh rumors...   \n",
       "226  king salman receives princes kingdom grand muf...   \n",
       "227  saudi arabia trim oil exports further february...   \n",
       "228  the saudi geological survey revealed the histo...   \n",
       "229  november crownprince mohammedbinsalman arrived...   \n",
       "230  thailand has halted plans deport year old raha...   \n",
       "231  vox cinemas announced would investing million ...   \n",
       "232  saudi backed broadcaster mbc group launches vi...   \n",
       "233  khashoggi son leaves salah khashoggi has left ...   \n",
       "234  dubai and saudi builders grow budgets prioriti...   \n",
       "235  washingtonpost scandalized itself after reveal...   \n",
       "236  why saudi girls run away complicated but the p...   \n",
       "237  manchester united executives have met with off...   \n",
       "238  this week saudi energy minister khalid alfalih...   \n",
       "239  the saudi led coalition stopped civil and huam...   \n",
       "240  netflix criticized for pulling satire episode ...   \n",
       "241        year old saudi girl granted refugee status    \n",
       "242  wonder mohammed bin salman would have invited ...   \n",
       "243  saudi aiming for regional number position this...   \n",
       "244  saudi market daily report tadawul tasi ksa saudi    \n",
       "245  brokerage house securities was the most active...   \n",
       "246  mariahcarey performs saudi arabia despite call...   \n",
       "247  khashoggi crisis escalates saudi arabia renews...   \n",
       "248  saud qahtani top royal aide for mbs was presen...   \n",
       "249  saudi crown prince mohammed bin salman plans l...   \n",
       "250  the kingdom grand mufti sheikh abdul aziz ashe...   \n",
       "251  the ksamofaen pavilion aljanadriafest hosting ...   \n",
       "252  saudi dissident beirut believes escaped same f...   \n",
       "253     saudi arabia king salman very ill icu reports    \n",
       "\n",
       "                                            strong_pro  \\\n",
       "0    exclusive aramco agrees  price for sabic acqui...   \n",
       "1               contract signed  for two holy mosques    \n",
       "2    the will not attend planned peace talks with t...   \n",
       "3     have used  write all  the articles  beside us...   \n",
       "4     sets clear rules and regulations  protect wil...   \n",
       "5     ministry  justice works  developing commercia...   \n",
       "6      woman who  trying  flee into asylum  being h...   \n",
       "7     woman detained  seeks asylum  she sought asyl...   \n",
       "8    saudi government paid  million blood money  re...   \n",
       "9    gunfire heard  saudi royal palace  riyadh  rum...   \n",
       "10   loujain  hathloul she wanted  drive   ruler im...   \n",
       "11   trends president  ahmedalhamli concludes  prod...   \n",
       "12   saudi crown prince mohammed bin salman plans  ...   \n",
       "13   abdullah and both worked for undercover noneth...   \n",
       "14              analyst saudis prefer  work with over    \n",
       "15    contractors authority  showcase billion proje...   \n",
       "16   king  cup final ceremony organized and covered...   \n",
       "17   aleppo syria king salman humanitarian aid and ...   \n",
       "18    teenager who fled family and sought asylum wh...   \n",
       "19   really does mariahcarey need the dirty money  ...   \n",
       "20   what  doing  killing blockade famine closing  ...   \n",
       "21   activists are calling  mariah carey  cancel he...   \n",
       "22   the point from the onset  interventionists are...   \n",
       "23   king fahd university  petroleum and minerals p...   \n",
       "24    cabinet restructuring meant  upgrade the stan...   \n",
       "25    crown prince mohammed bin salman inaugurates ...   \n",
       "26     all about that cash mariah carey performs  s...   \n",
       "27   the dynamics  shale production  spread across ...   \n",
       "28   this  the approved design for the development ...   \n",
       "29   this  politically incorrect but  can  help won...   \n",
       "..                                                 ...   \n",
       "224  crown prince mohammed bin salman receives call...   \n",
       "225  gunfire heard  saudi royal palace  riyadh  rum...   \n",
       "226  king salman receives princes kingdom  grand mu...   \n",
       "227    arabia  trim exports further  february reuters    \n",
       "228  the geological survey revealed the historic ca...   \n",
       "229   november arrived  argentine  head the delegat...   \n",
       "230   has halted plans  deport year old rahaf  qunu...   \n",
       "231   vox cinemas announced  would  investing milli...   \n",
       "232   backed broadcaster mbc group launches video c...   \n",
       "233  khashoggi  son leaves salah khashoggi has left...   \n",
       "234   and builders  grow  budgets prioritise infras...   \n",
       "235   scandalized itself after revealing  its inves...   \n",
       "236  why  girls run away complicated but the pace  ...   \n",
       "237  manchester united executives have met with off...   \n",
       "238  this week energy minister khalid alfalih told ...   \n",
       "239  the led coalition stopped civil and huamn flig...   \n",
       "240   criticized for pulling satire episode  episod...   \n",
       "241              year old girl granted refugee status    \n",
       "242   wonder  mohammed bin salman would have invite...   \n",
       "243  saudi  aiming for  regional number position  t...   \n",
       "244                         saudi market daily report    \n",
       "245  brokerage house securities was the most active...   \n",
       "246   performs  saudi arabia despite calls for boyc...   \n",
       "247   crisis escalates saudi arabia renews warning ...   \n",
       "248  saud  qahtani top royal aide for mbs was prese...   \n",
       "249  saudi crown prince mohammed bin salman plans  ...   \n",
       "250   the kingdom  grand mufti sheikh abdul aziz  a...   \n",
       "251  the ksamofaen pavilion aljanadriafest  hosting...   \n",
       "252   dissident  believes  escaped same fate  via m...   \n",
       "253   saudi arabia  king salman very ill  icu reports    \n",
       "\n",
       "                                              Stemming  \n",
       "0          exclus aramco agre price for sabic acquisit  \n",
       "1                     contract sign for two holi mosqu  \n",
       "2    the will not attend plan peac talk with the ar...  \n",
       "3    have use write all the articl besid use him fo...  \n",
       "4    set clear rule and regul protect wildlif the k...  \n",
       "5    ministri justic work develop commerci justic p...  \n",
       "6    woman who tri flee into asylum be held airport...  \n",
       "7    woman detain seek asylum she sought asylum can...  \n",
       "8    saudi govern paid million blood money releas j...  \n",
       "9    gunfir heard saudi royal palac riyadh rumor at...  \n",
       "10   loujain hathloul she want drive ruler imprison...  \n",
       "11   trend presid ahmedalham conclud product meet w...  \n",
       "12   saudi crown princ moham bin salman plan launch...  \n",
       "13   abdullah and both work for undercov nonetheles...  \n",
       "14                 analyst saudi prefer work with over  \n",
       "15   contractor author showcas billion project even...  \n",
       "16   king cup final ceremoni organ and cover collab...  \n",
       "17   aleppo syria king salman humanitarian aid and ...  \n",
       "18   teenag who fled famili and sought asylum when ...  \n",
       "19   realli doe mariahcarey need the dirti money mu...  \n",
       "20   what do kill blockad famin close civil airport...  \n",
       "21   activist are call mariah carey cancel her upco...  \n",
       "22   the point from the onset interventionist are u...  \n",
       "23   king fahd univers petroleum and miner posit to...  \n",
       "24   cabinet restructur meant upgrad the standard s...  \n",
       "25   crown princ moham bin salman inaugur the natio...  \n",
       "26   all about that cash mariah carey perform saudi...  \n",
       "27   the dynam shale product spread across mani ope...  \n",
       "28   this the approv design for the develop project...  \n",
       "29   this polit incorrect but can help wonder what ...  \n",
       "..                                                 ...  \n",
       "224  crown princ moham bin salman receiv call from ...  \n",
       "225  gunfir heard saudi royal palac riyadh rumor at...  \n",
       "226  king salman receiv princ kingdom grand mufti m...  \n",
       "227         arabia trim export further februari reuter  \n",
       "228  the geolog survey reveal the histor cave nomin...  \n",
       "229  novemb arriv argentin head the deleg particip ...  \n",
       "230     has halt plan deport year old rahaf qunun back  \n",
       "231  vox cinema announc would invest million open t...  \n",
       "232  back broadcast mbc group launch video challeng...  \n",
       "233  khashoggi son leav salah khashoggi has left sa...  \n",
       "234    and builder grow budget prioritis infrastructur  \n",
       "235  scandal itself after reveal it investig that w...  \n",
       "236  whi girl run away complic but the pace current...  \n",
       "237  manchest unit execut have met with offici saud...  \n",
       "238  this week energi minist khalid alfalih told th...  \n",
       "239  the led coalit stop civil and huamn flight and...  \n",
       "240  critic for pull satir episod episod patriot ac...  \n",
       "241                  year old girl grant refuge status  \n",
       "242  wonder moham bin salman would have invit jamal...  \n",
       "243  saudi aim for region number posit this categor...  \n",
       "244                          saudi market daili report  \n",
       "245  brokerag hous secur was the most activ broker ...  \n",
       "246  perform saudi arabia despit call for boycott h...  \n",
       "247  crisi escal saudi arabia renew warn citizen sh...  \n",
       "248  saud qahtani top royal aid for mbs was present...  \n",
       "249  saudi crown princ moham bin salman plan launch...  \n",
       "250  the kingdom grand mufti sheikh abdul aziz ashe...  \n",
       "251  the ksamofaen pavilion aljanadriafest host sup...  \n",
       "252     dissid believ escap same fate via middleeastey  \n",
       "253       saudi arabia king salman veri ill icu report  \n",
       "\n",
       "[254 rows x 5 columns]"
      ]
     },
     "execution_count": 140,
     "metadata": {},
     "output_type": "execute_result"
    }
   ],
   "source": [
    "#(anfal)\n",
    "def process_tweet(tweet):\n",
    "    \n",
    "    tweet = tweet.lstrip(' ') #remove space beginning of tweet\n",
    "    tweet = tweet.lower()#put all lowercase\n",
    "    tweet = re.sub(r'\\&\\w*;', '', tweet)#remove HTML entities\n",
    "    tweet = re.sub(r'#\\w*', '', tweet)#remove hashtag\n",
    "    tweet = re.sub(r'https?:\\/\\/.*\\/\\w*', '', tweet)#remove hyperlink\n",
    "    tweet = re.sub(\"[^a-zA-Z]\",\" \",tweet)\n",
    "    tweet = re.sub(r'\\s\\s+', ' ', tweet)#remove newline & whitespace\n",
    "    tweet = re.sub(r'\\b\\w{1,2}\\b', '', tweet) #remove words with 2< letters\n",
    "    \n",
    "    return tweet\n",
    "\n",
    "tweet['strong_pro1'] = tweet['text'].apply(process_tweet)\n",
    "tweet.head(n=254)\n"
   ]
  },
  {
   "cell_type": "markdown",
   "metadata": {},
   "source": [
    "### Snowball Stemmer"
   ]
  },
  {
   "cell_type": "code",
   "execution_count": 139,
   "metadata": {
    "scrolled": true
   },
   "outputs": [
    {
     "data": {
      "text/html": [
       "<div>\n",
       "<style scoped>\n",
       "    .dataframe tbody tr th:only-of-type {\n",
       "        vertical-align: middle;\n",
       "    }\n",
       "\n",
       "    .dataframe tbody tr th {\n",
       "        vertical-align: top;\n",
       "    }\n",
       "\n",
       "    .dataframe thead th {\n",
       "        text-align: right;\n",
       "    }\n",
       "</style>\n",
       "<table border=\"1\" class=\"dataframe\">\n",
       "  <thead>\n",
       "    <tr style=\"text-align: right;\">\n",
       "      <th></th>\n",
       "      <th>tag</th>\n",
       "      <th>text</th>\n",
       "      <th>strong_pro1</th>\n",
       "      <th>strong_pro</th>\n",
       "      <th>Stemming</th>\n",
       "    </tr>\n",
       "  </thead>\n",
       "  <tbody>\n",
       "    <tr>\n",
       "      <th>0</th>\n",
       "      <td>real</td>\n",
       "      <td>Exclusive: Aramco agrees on price for Sabic ac...</td>\n",
       "      <td>exclusive aramco agrees price for sabic acquis...</td>\n",
       "      <td>exclusive aramco agrees  price for sabic acqui...</td>\n",
       "      <td>exclus aramco agre price for sabic acquisit</td>\n",
       "    </tr>\n",
       "    <tr>\n",
       "      <th>1</th>\n",
       "      <td>real</td>\n",
       "      <td>#Digitisation contract signed in #SaudiArabia ...</td>\n",
       "      <td>digitisation contract signed saudiarabia for t...</td>\n",
       "      <td>contract signed  for two holy mosques</td>\n",
       "      <td>contract sign for two holi mosqu</td>\n",
       "    </tr>\n",
       "    <tr>\n",
       "      <th>2</th>\n",
       "      <td>fake</td>\n",
       "      <td>The #Taliban will not attend planned peace tal...</td>\n",
       "      <td>the taliban will not attend planned peace talk...</td>\n",
       "      <td>the will not attend planned peace talks with t...</td>\n",
       "      <td>the will not attend plan peac talk with the ar...</td>\n",
       "    </tr>\n",
       "    <tr>\n",
       "      <th>3</th>\n",
       "      <td>real</td>\n",
       "      <td>#Qatar have used #Khashoggi to write all of th...</td>\n",
       "      <td>qatar have used khashoggi write all the articl...</td>\n",
       "      <td>have used  write all  the articles  beside us...</td>\n",
       "      <td>have use write all the articl besid use him fo...</td>\n",
       "    </tr>\n",
       "    <tr>\n",
       "      <th>4</th>\n",
       "      <td>real</td>\n",
       "      <td>#Saudi sets clear rules and regulations to pro...</td>\n",
       "      <td>saudi sets clear rules and regulations protect...</td>\n",
       "      <td>sets clear rules and regulations  protect wil...</td>\n",
       "      <td>set clear rule and regul protect wildlif the k...</td>\n",
       "    </tr>\n",
       "  </tbody>\n",
       "</table>\n",
       "</div>"
      ],
      "text/plain": [
       "    tag                                               text  \\\n",
       "0  real  Exclusive: Aramco agrees on price for Sabic ac...   \n",
       "1  real  #Digitisation contract signed in #SaudiArabia ...   \n",
       "2  fake  The #Taliban will not attend planned peace tal...   \n",
       "3  real  #Qatar have used #Khashoggi to write all of th...   \n",
       "4  real  #Saudi sets clear rules and regulations to pro...   \n",
       "\n",
       "                                         strong_pro1  \\\n",
       "0  exclusive aramco agrees price for sabic acquis...   \n",
       "1  digitisation contract signed saudiarabia for t...   \n",
       "2  the taliban will not attend planned peace talk...   \n",
       "3  qatar have used khashoggi write all the articl...   \n",
       "4  saudi sets clear rules and regulations protect...   \n",
       "\n",
       "                                          strong_pro  \\\n",
       "0  exclusive aramco agrees  price for sabic acqui...   \n",
       "1             contract signed  for two holy mosques    \n",
       "2  the will not attend planned peace talks with t...   \n",
       "3   have used  write all  the articles  beside us...   \n",
       "4   sets clear rules and regulations  protect wil...   \n",
       "\n",
       "                                            Stemming  \n",
       "0        exclus aramco agre price for sabic acquisit  \n",
       "1                   contract sign for two holi mosqu  \n",
       "2  the will not attend plan peac talk with the ar...  \n",
       "3  have use write all the articl besid use him fo...  \n",
       "4  set clear rule and regul protect wildlif the k...  "
      ]
     },
     "execution_count": 139,
     "metadata": {},
     "output_type": "execute_result"
    }
   ],
   "source": [
    "#(anfal)\n",
    "p = SnowballStemmer(\"english\")\n",
    "tweet['Stemming'] = tweet['strong_pro1'].apply(lambda x: ' '.join([p.stem(word) for word in x.split() ]))\n",
    "\n",
    "tweet.head()"
   ]
  },
  {
   "cell_type": "markdown",
   "metadata": {},
   "source": [
    "### Building countplot graph to show real from fake\n",
    "#### We are increasing minority class\n",
    "#### 0= real tag & 1 = fake tag"
   ]
  },
  {
   "cell_type": "code",
   "execution_count": 143,
   "metadata": {
    "scrolled": false
   },
   "outputs": [
    {
     "data": {
      "image/png": "[encoded data removed]",
      "text/plain": [
       "<Figure size 432x288 with 1 Axes>"
      ]
     },
     "metadata": {
      "needs_background": "light"
     },
     "output_type": "display_data"
    }
   ],
   "source": [
    "#(anfal)\n",
    "\n",
    "s = tweet.copy()\n",
    "df_minority = s[s.tag == \"real\"] #true \n",
    "df_majority = s[s.tag == \"fake\"] #rumor\n",
    "\n",
    "df_minority = resample(df_minority, \n",
    "                       replace=True,  #sample with replacement \n",
    "                       #n_samples=len(df_majority),\n",
    "                       n_samples=254, #to match majority class \n",
    "                       random_state=123 #reproducible results\n",
    "                      )\n",
    "\n",
    "df_balanced = pd.concat([df_majority, df_minority])\n",
    "sns.countplot(df_balanced['tag'], label=\"count\")\n",
    "\n",
    "#ax.set (ylabel=\"Count\")\n",
    "plt.show()"
   ]
  },
  {
   "cell_type": "markdown",
   "metadata": {},
   "source": [
    "# Pipeline : \n",
    "\n",
    "### 2 experiments with pipeline\n",
    "\n",
    "#### 1: BoW(CountVectorizer()) + Classifier\n",
    "#### 2: Tf-Idf (TfidfVectorizer( )) + Classifier\n",
    "\n",
    "### 4 classifiers used\n",
    "#### 1: K-NN classifier\n",
    "#### 2: Multinomial NB classifier\n",
    "#### 3: Suppoer Vector Matrix classifier \n",
    "#### 4: Decesion Tree classifier\n",
    "\n",
    "### 4 experiment per classifier\n",
    "\n",
    "#### I    BoW  + Preprocessed text \n",
    "#### II   BoW  + Preprocessed text + Stemming \n",
    "#### III  Tf-Idf + Preprocessed text \n",
    "#### IV  Tf-Idf + Preprocessed text + Stemming"
   ]
  },
  {
   "cell_type": "code",
   "execution_count": null,
   "metadata": {},
   "outputs": [],
   "source": []
  },
  {
   "cell_type": "markdown",
   "metadata": {},
   "source": [
    "# Kneighbors Classifier"
   ]
  },
  {
   "cell_type": "markdown",
   "metadata": {},
   "source": [
    "#### Exp1: Bow + Preprocessed text"
   ]
  },
  {
   "cell_type": "code",
   "execution_count": 177,
   "metadata": {},
   "outputs": [
    {
     "data": {
      "text/plain": [
       "GridSearchCV(cv=5, error_score='raise-deprecating',\n",
       "             estimator=Pipeline(memory=None,\n",
       "                                steps=[('vectorizer',\n",
       "                                        CountVectorizer(analyzer='word',\n",
       "                                                        binary=False,\n",
       "                                                        decode_error='strict',\n",
       "                                                        dtype=<class 'numpy.int64'>,\n",
       "                                                        encoding='utf-8',\n",
       "                                                        input='content',\n",
       "                                                        lowercase=True,\n",
       "                                                        max_df=1.0,\n",
       "                                                        max_features=None,\n",
       "                                                        min_df=1,\n",
       "                                                        ngram_range=(1, 1),\n",
       "                                                        preprocessor=None,\n",
       "                                                        stop_words='english',\n",
       "                                                        strip_accen...\n",
       "                                        KNeighborsClassifier(algorithm='auto',\n",
       "                                                             leaf_size=30,\n",
       "                                                             metric='minkowski',\n",
       "                                                             metric_params=None,\n",
       "                                                             n_jobs=None,\n",
       "                                                             n_neighbors=5, p=2,\n",
       "                                                             weights='uniform'))],\n",
       "                                verbose=False),\n",
       "             iid='warn', n_jobs=-1,\n",
       "             param_grid={'classifier__n_neighbors': range(1, 30),\n",
       "                         'vectorizer__ngram_range': [[1, 1], [1, 2]]},\n",
       "             pre_dispatch='2*n_jobs', refit=True, return_train_score=False,\n",
       "             scoring='accuracy', verbose=0)"
      ]
     },
     "execution_count": 177,
     "metadata": {},
     "output_type": "execute_result"
    }
   ],
   "source": [
    "x=df_balanced[\"strong_pro1\"]\n",
    "y=df_balanced['tag']\n",
    "\n",
    "tags = []\n",
    "for tag in y:\n",
    "    if tag == 'real':\n",
    "        tags.append(1)\n",
    "    if tag == 'fake':\n",
    "        tags.append(0)\n",
    "y = tags\n",
    "#print (\"tags in binary:\", y)\n",
    "\n",
    "X_train, X_test, Y_train, Y_test = model_selection.train_test_split( x, y, stratify=y, random_state=42,test_size=0.25)\n",
    "\n",
    "pipeline = Pipeline([\n",
    "    ('vectorizer',CountVectorizer(stop_words='english')),\n",
    "    ('classifier', KNeighborsClassifier())])\n",
    "\n",
    "grid = {\n",
    "    'vectorizer__ngram_range': [[1, 1], [1, 2]],\n",
    "    'classifier__n_neighbors':range(1,30)\n",
    "}\n",
    "\n",
    "\n",
    "grid_search = GridSearchCV(pipeline, param_grid=grid, scoring='accuracy', n_jobs=-1, cv=5)\n",
    "grid_search.fit(X_train,Y_train)\n"
   ]
  },
  {
   "cell_type": "code",
   "execution_count": 178,
   "metadata": {},
   "outputs": [
    {
     "name": "stdout",
     "output_type": "stream",
     "text": [
      "Pipeline(memory=None,\n",
      "         steps=[('vectorizer',\n",
      "                 CountVectorizer(analyzer='word', binary=False,\n",
      "                                 decode_error='strict',\n",
      "                                 dtype=<class 'numpy.int64'>, encoding='utf-8',\n",
      "                                 input='content', lowercase=True, max_df=1.0,\n",
      "                                 max_features=None, min_df=1,\n",
      "                                 ngram_range=[1, 1], preprocessor=None,\n",
      "                                 stop_words='english', strip_accents=None,\n",
      "                                 token_pattern='(?u)\\\\b\\\\w\\\\w+\\\\b',\n",
      "                                 tokenizer=None, vocabulary=None)),\n",
      "                ('classifier',\n",
      "                 KNeighborsClassifier(algorithm='auto', leaf_size=30,\n",
      "                                      metric='minkowski', metric_params=None,\n",
      "                                      n_jobs=None, n_neighbors=6, p=2,\n",
      "                                      weights='uniform'))],\n",
      "         verbose=False) \n",
      "\n",
      "\tclassifier__n_neighbors: 6\n",
      "\tvectorizer__ngram_range: [1, 1]\n"
     ]
    }
   ],
   "source": [
    "print(grid_search.best_estimator_,\"\\n\")\n",
    "\n",
    "best_parameters = grid_search.best_estimator_.get_params()\n",
    "for param_name in sorted(list(grid.keys())):\n",
    "    print(\"\\t{0}: {1}\".format(param_name, best_parameters[param_name]))\n",
    "\n",
    "best_model = grid_search.best_estimator_\n",
    "y_pred=best_model.predict(X_test)\n"
   ]
  },
  {
   "cell_type": "markdown",
   "metadata": {},
   "source": [
    "#### print: confussion matrix & accuracy "
   ]
  },
  {
   "cell_type": "code",
   "execution_count": 181,
   "metadata": {
    "scrolled": false
   },
   "outputs": [
    {
     "name": "stdout",
     "output_type": "stream",
     "text": [
      "Confusion matrix \n",
      " [[33 10]\n",
      " [11 53]] \n",
      "\n",
      "Classification_report \n",
      "                precision    recall  f1-score   support\n",
      "\n",
      "           0       0.75      0.77      0.76        43\n",
      "           1       0.84      0.83      0.83        64\n",
      "\n",
      "    accuracy                           0.80       107\n",
      "   macro avg       0.80      0.80      0.80       107\n",
      "weighted avg       0.80      0.80      0.80       107\n",
      " \n",
      "\n",
      "Train Accuracy 0.89375\n",
      "Test Accuracy: 0.8037383177570093\n",
      "roc_auc_score 0.7977834302325582 \n",
      "\n",
      "\n",
      "Highest accuracy is as shown by gridSearchCv: \n",
      "0.7289719626168224\n",
      "0.5794392523364486\n",
      "0.7757009345794392\n",
      "0.6728971962616822\n",
      "0.7570093457943925\n",
      "0.7663551401869159\n",
      "0.7009345794392523\n",
      "0.7476635514018691\n",
      "0.719626168224299\n",
      "0.719626168224299\n",
      "0.7102803738317757\n",
      "0.7383177570093458\n",
      "0.6915887850467289\n",
      "0.6822429906542056\n",
      "0.6728971962616822\n",
      "0.7102803738317757\n",
      "0.6822429906542056\n",
      "0.6822429906542056\n",
      "0.6635514018691588\n",
      "0.6822429906542056\n",
      "0.6542056074766355\n",
      "0.6822429906542056\n",
      "0.6822429906542056\n",
      "0.6728971962616822\n",
      "0.6822429906542056\n",
      "0.6822429906542056\n",
      "0.6635514018691588\n",
      "0.6728971962616822\n",
      "0.6355140186915887\n"
     ]
    }
   ],
   "source": [
    "confusion=confusion_matrix (Y_test, y_pred)\n",
    "report=classification_report(Y_test,y_pred)\n",
    "false_positive_rate, true_positive_rate, thresholds = sk.metrics.roc_curve(Y_test, y_pred)\n",
    "roc_auc = sk.metrics.auc(false_positive_rate, true_positive_rate)\n",
    "print(\"Confusion matrix \\n\",confusion,\"\\n\")\n",
    "print(\"Classification_report \\n \",report,\"\\n\")\n",
    "print(\"Train Accuracy\",accuracy_score(Y_train, best_model.predict(X_train)))\n",
    "print(\"Test Accuracy:\",accuracy_score(Y_test,y_pred))\n",
    "print(\"roc_auc_score\",roc_auc, \"\\n\")\n",
    "\n",
    "\n",
    "print(\"\\nHighest accuracy is as shown by gridSearchCv: \" )\n",
    "\n",
    "K_rang=range(1,30)\n",
    "K_score=[]\n",
    "for k in K_rang:\n",
    "    pipelineTf_Idf = Pipeline([\n",
    "    ('vectorizer',CountVectorizer(stop_words='english',analyzer='word',ngram_range=(1, 2))),\n",
    "    ('classifier', KNeighborsClassifier(k))])\n",
    "    \n",
    "    model=pipelineTf_Idf.fit(X_train,Y_train)\n",
    "    y_pred = model.predict(X_test)\n",
    "\n",
    "    K_score.append(accuracy_score(Y_test, y_pred))\n",
    "for i in K_score:\n",
    "    print(i)\n"
   ]
  },
  {
   "cell_type": "code",
   "execution_count": 182,
   "metadata": {},
   "outputs": [
    {
     "name": "stderr",
     "output_type": "stream",
     "text": [
      "C:\\Users\\Anfal\\Anaconda3\\lib\\site-packages\\ipykernel_launcher.py:7: MatplotlibDeprecationWarning: Adding an axes using the same arguments as a previous axes currently reuses the earlier instance.  In a future version, a new instance will always be created and returned.  Meanwhile, this warning can be suppressed, and the future behavior ensured, by passing a unique label to each axes instance.\n",
      "  import sys\n"
     ]
    },
    {
     "data": {
      "image/png": "[encoded data removed]",
      "text/plain": [
       "<Figure size 432x288 with 2 Axes>"
      ]
     },
     "metadata": {
      "needs_background": "light"
     },
     "output_type": "display_data"
    }
   ],
   "source": [
    "#polt the value of K for KNN\n",
    "plt.plot(K_rang,K_score)\n",
    "plt.xlabel(\"value of k for knn\")\n",
    "plt.ylabel(\"cross-valdition Accuracy\")\n",
    "\n",
    "#confusion matrix plot\n",
    "ax= plt.subplot()\n",
    "sns.heatmap(confusion, annot=True, ax = ax); #annot=True to annotate cells\n",
    "\n",
    "# labels, title and ticks\n",
    "ax.set_xlabel('Predicted labels');ax.set_ylabel('True labels'); \n",
    "ax.set_title('Confusion Matrix'); \n",
    "ax.xaxis.set_ticklabels(['real', 'fake']); ax.yaxis.set_ticklabels(['real', 'fake']);"
   ]
  },
  {
   "cell_type": "code",
   "execution_count": null,
   "metadata": {},
   "outputs": [],
   "source": []
  },
  {
   "cell_type": "code",
   "execution_count": null,
   "metadata": {},
   "outputs": [],
   "source": []
  },
  {
   "cell_type": "markdown",
   "metadata": {},
   "source": [
    "#### Exp2: Bow + Preprocessed text +Stemming\n"
   ]
  },
  {
   "cell_type": "code",
   "execution_count": 183,
   "metadata": {},
   "outputs": [
    {
     "data": {
      "text/plain": [
       "GridSearchCV(cv=5, error_score='raise-deprecating',\n",
       "             estimator=Pipeline(memory=None,\n",
       "                                steps=[('vectorizer',\n",
       "                                        CountVectorizer(analyzer='word',\n",
       "                                                        binary=False,\n",
       "                                                        decode_error='strict',\n",
       "                                                        dtype=<class 'numpy.int64'>,\n",
       "                                                        encoding='utf-8',\n",
       "                                                        input='content',\n",
       "                                                        lowercase=True,\n",
       "                                                        max_df=1.0,\n",
       "                                                        max_features=None,\n",
       "                                                        min_df=1,\n",
       "                                                        ngram_range=(1, 1),\n",
       "                                                        preprocessor=None,\n",
       "                                                        stop_words='english',\n",
       "                                                        strip_accen...\n",
       "                                        KNeighborsClassifier(algorithm='auto',\n",
       "                                                             leaf_size=30,\n",
       "                                                             metric='minkowski',\n",
       "                                                             metric_params=None,\n",
       "                                                             n_jobs=None,\n",
       "                                                             n_neighbors=5, p=2,\n",
       "                                                             weights='uniform'))],\n",
       "                                verbose=False),\n",
       "             iid='warn', n_jobs=-1,\n",
       "             param_grid={'classifier__n_neighbors': range(1, 30),\n",
       "                         'vectorizer__ngram_range': [(1, 1), (1, 2)]},\n",
       "             pre_dispatch='2*n_jobs', refit=True, return_train_score=False,\n",
       "             scoring='accuracy', verbose=0)"
      ]
     },
     "execution_count": 183,
     "metadata": {},
     "output_type": "execute_result"
    }
   ],
   "source": [
    "x=df_balanced[\"Stemming\"]\n",
    "y=df_balanced['tag']\n",
    "\n",
    "tags = []\n",
    "for tag in y:\n",
    "    if tag == 'real':\n",
    "        tags.append(1)\n",
    "    if tag == 'fake':\n",
    "        tags.append(0)\n",
    "y = tags\n",
    "#print (\"tags in binary:\", y)\n",
    "\n",
    "X_train, X_test, Y_train, Y_test = model_selection.train_test_split( x, y, stratify=y, random_state=42,test_size=0.25)\n",
    "\n",
    "pipeline = Pipeline([\n",
    "    ('vectorizer',CountVectorizer(stop_words='english')),\n",
    "    ('classifier', KNeighborsClassifier())])\n",
    "\n",
    "grid = {\n",
    "    'vectorizer__ngram_range': [(1, 1), (1, 2)],\n",
    "    'classifier__n_neighbors':range(1,30)\n",
    "}\n",
    "\n",
    "grid_search = GridSearchCV(pipeline, param_grid=grid, scoring='accuracy', n_jobs=-1, cv=5)\n",
    "grid_search.fit(X_train,Y_train)"
   ]
  },
  {
   "cell_type": "code",
   "execution_count": 19,
   "metadata": {},
   "outputs": [
    {
     "name": "stdout",
     "output_type": "stream",
     "text": [
      "Pipeline(memory=None,\n",
      "         steps=[('vectorizer',\n",
      "                 CountVectorizer(analyzer='word', binary=False,\n",
      "                                 decode_error='strict',\n",
      "                                 dtype=<class 'numpy.int64'>, encoding='utf-8',\n",
      "                                 input='content', lowercase=True, max_df=1.0,\n",
      "                                 max_features=None, min_df=1,\n",
      "                                 ngram_range=(1, 1), preprocessor=None,\n",
      "                                 stop_words='english', strip_accents=None,\n",
      "                                 token_pattern='(?u)\\\\b\\\\w\\\\w+\\\\b',\n",
      "                                 tokenizer=None, vocabulary=None)),\n",
      "                ('classifier',\n",
      "                 KNeighborsClassifier(algorithm='auto', leaf_size=30,\n",
      "                                      metric='minkowski', metric_params=None,\n",
      "                                      n_jobs=None, n_neighbors=1, p=2,\n",
      "                                      weights='uniform'))],\n",
      "         verbose=False) \n",
      "\n",
      "\tclassifier__n_neighbors: 1\n",
      "\tvectorizer__ngram_range: (1, 1)\n"
     ]
    }
   ],
   "source": [
    "print(grid_search.best_estimator_,\"\\n\")\n",
    "\n",
    "best_parameters = grid_search.best_estimator_.get_params()\n",
    "for param_name in sorted(list(grid.keys())):\n",
    "    print(\"\\t{0}: {1}\".format(param_name, best_parameters[param_name]))\n",
    "\n",
    "best_model = grid_search.best_estimator_\n",
    "y_pred=best_model.predict(X_test)\n"
   ]
  },
  {
   "cell_type": "code",
   "execution_count": 189,
   "metadata": {},
   "outputs": [
    {
     "name": "stderr",
     "output_type": "stream",
     "text": [
      "C:\\Users\\Anfal\\Anaconda3\\lib\\site-packages\\sklearn\\metrics\\classification.py:1437: UndefinedMetricWarning: Precision and F-score are ill-defined and being set to 0.0 in labels with no predicted samples.\n",
      "  'precision', 'predicted', average, warn_for)\n"
     ]
    },
    {
     "name": "stdout",
     "output_type": "stream",
     "text": [
      "Confusion matrix \n",
      " [[ 0 43]\n",
      " [ 0 64]] \n",
      "\n",
      "Classification_report \n",
      "                precision    recall  f1-score   support\n",
      "\n",
      "           0       0.00      0.00      0.00        43\n",
      "           1       0.60      1.00      0.75        64\n",
      "\n",
      "    accuracy                           0.60       107\n",
      "   macro avg       0.30      0.50      0.37       107\n",
      "weighted avg       0.36      0.60      0.45       107\n",
      " \n",
      "\n",
      "Train Accuracy 0.84375\n",
      "Test Accuracy: 0.5981308411214953\n",
      "roc_auc_score 0.5\n",
      "0.719626168224299\n",
      "0.719626168224299\n",
      "0.7102803738317757\n",
      "0.6915887850467289\n",
      "0.6822429906542056\n",
      "0.6822429906542056\n",
      "0.6728971962616822\n",
      "0.6915887850467289\n",
      "0.6728971962616822\n",
      "0.6728971962616822\n",
      "0.6728971962616822\n",
      "0.6728971962616822\n",
      "0.6542056074766355\n",
      "0.6728971962616822\n",
      "0.6448598130841121\n",
      "0.6448598130841121\n",
      "0.6448598130841121\n",
      "0.6448598130841121\n",
      "0.616822429906542\n",
      "0.6355140186915887\n",
      "0.6074766355140186\n",
      "0.6261682242990654\n",
      "0.6074766355140186\n",
      "0.6074766355140186\n",
      "0.6074766355140186\n",
      "0.6074766355140186\n",
      "0.5981308411214953\n",
      "0.5981308411214953\n",
      "0.5981308411214953\n"
     ]
    }
   ],
   "source": [
    "\n",
    "confusion=confusion_matrix(Y_test, y_pred)\n",
    "report=classification_report(Y_test,y_pred)\n",
    "false_positive_rate, true_positive_rate, thresholds = sk.metrics.roc_curve(Y_test, y_pred)\n",
    "roc_auc = sk.metrics.auc(false_positive_rate, true_positive_rate)\n",
    "print(\"Confusion matrix \\n\",confusion,\"\\n\")\n",
    "print(\"Classification_report \\n \",report,\"\\n\")\n",
    "\n",
    "print(\"Train Accuracy\",accuracy_score(Y_train, best_model.predict(X_train)))\n",
    "print(\"Test Accuracy:\",accuracy_score(Y_test,y_pred))\n",
    "print(\"roc_auc_score\",roc_auc)\n",
    "\n",
    "\n",
    "print(\"the classifier accuracy and shows that the highest accuracy is as shown by gridSearchCv:\")\n",
    "K_rang=range(1,30)\n",
    "K_score=[]\n",
    "for k in K_rang:\n",
    "    pipelineTf_Idf = Pipeline([\n",
    "    ('vectorizer',CountVectorizer(stop_words='english',analyzer='word',ngram_range=(1, 2))),\n",
    "    ('classifier', KNeighborsClassifier(k))])\n",
    "    \n",
    "    model=pipelineTf_Idf.fit(X_train,Y_train)\n",
    "    y_pred = model.predict(X_test)\n",
    "\n",
    "    K_score.append(accuracy_score(Y_test, y_pred))\n",
    "for i in K_score:\n",
    "    print(i)"
   ]
  },
  {
   "cell_type": "code",
   "execution_count": 22,
   "metadata": {
    "scrolled": true
   },
   "outputs": [
    {
     "data": {
      "text/plain": [
       "Text(0, 0.5, 'cross-valdition Accuracy')"
      ]
     },
     "execution_count": 22,
     "metadata": {},
     "output_type": "execute_result"
    },
    {
     "data": {
      "image/png": "[encoded data removed]",
      "text/plain": [
       "<Figure size 432x288 with 1 Axes>"
      ]
     },
     "metadata": {
      "needs_background": "light"
     },
     "output_type": "display_data"
    }
   ],
   "source": [
    "#polt the value of K for KNN\n",
    "plt.plot(K_rang,K_score)\n",
    "plt.xlabel(\"value of k for knn\")\n",
    "plt.ylabel(\"cross-valdition Accuracy\")"
   ]
  },
  {
   "cell_type": "code",
   "execution_count": 23,
   "metadata": {},
   "outputs": [
    {
     "data": {
      "image/png": "[encoded data removed]",
      "text/plain": [
       "<Figure size 432x288 with 2 Axes>"
      ]
     },
     "metadata": {
      "needs_background": "light"
     },
     "output_type": "display_data"
    }
   ],
   "source": [
    "#confusion matrix plot\n",
    "\n",
    "ax= plt.subplot()\n",
    "sns.heatmap(confusion, annot=True, ax = ax); #annot=True to annotate cells\n",
    "ax.set_xlabel('Predicted labels');ax.set_ylabel('True labels'); \n",
    "ax.set_title('Confusion Matrix'); \n",
    "ax.xaxis.set_ticklabels(['real', 'fake']); ax.yaxis.set_ticklabels(['real', 'fake']);"
   ]
  },
  {
   "cell_type": "code",
   "execution_count": null,
   "metadata": {},
   "outputs": [],
   "source": []
  },
  {
   "cell_type": "markdown",
   "metadata": {},
   "source": [
    "#### Exp3- Tf-Idf+ Preprocessed text \n"
   ]
  },
  {
   "cell_type": "code",
   "execution_count": 190,
   "metadata": {},
   "outputs": [
    {
     "data": {
      "text/plain": [
       "GridSearchCV(cv=5, error_score='raise-deprecating',\n",
       "             estimator=Pipeline(memory=None,\n",
       "                                steps=[('vectorizer',\n",
       "                                        TfidfVectorizer(analyzer='word',\n",
       "                                                        binary=False,\n",
       "                                                        decode_error='strict',\n",
       "                                                        dtype=<class 'numpy.float64'>,\n",
       "                                                        encoding='utf-8',\n",
       "                                                        input='content',\n",
       "                                                        lowercase=True,\n",
       "                                                        max_df=1.0,\n",
       "                                                        max_features=None,\n",
       "                                                        min_df=1,\n",
       "                                                        ngram_range=(1, 1),\n",
       "                                                        norm='l2',\n",
       "                                                        preprocessor=None,\n",
       "                                                        smooth_idf=True,\n",
       "                                                        stop...\n",
       "                                        KNeighborsClassifier(algorithm='auto',\n",
       "                                                             leaf_size=30,\n",
       "                                                             metric='minkowski',\n",
       "                                                             metric_params=None,\n",
       "                                                             n_jobs=None,\n",
       "                                                             n_neighbors=5, p=2,\n",
       "                                                             weights='uniform'))],\n",
       "                                verbose=False),\n",
       "             iid='warn', n_jobs=-1,\n",
       "             param_grid={'classifier__n_neighbors': range(1, 30),\n",
       "                         'vectorizer__ngram_range': [(1, 1), (1, 2)]},\n",
       "             pre_dispatch='2*n_jobs', refit=True, return_train_score=False,\n",
       "             scoring='accuracy', verbose=0)"
      ]
     },
     "execution_count": 190,
     "metadata": {},
     "output_type": "execute_result"
    }
   ],
   "source": [
    "\n",
    "x=df_balanced[\"strong_pro1\"]\n",
    "y=df_balanced['tag']\n",
    "\n",
    "tags = []\n",
    "for tag in y:\n",
    "    if tag == 'real':\n",
    "        tags.append(1)\n",
    "    if tag == 'fake':\n",
    "        tags.append(0)\n",
    "y = tags\n",
    "#print (\"tags in binary:\", y)\n",
    "\n",
    "X_train, X_test, Y_train, Y_test = model_selection.train_test_split( x, y, stratify=y, random_state=42,test_size=0.25)\n",
    "\n",
    "pipeline = Pipeline([\n",
    "    ('vectorizer',TfidfVectorizer(stop_words='english')),\n",
    "    ('classifier', KNeighborsClassifier())])\n",
    "\n",
    "\n",
    "grid = {\n",
    "    'vectorizer__ngram_range': [(1, 1), (1, 2)],\n",
    "    'classifier__n_neighbors':range(1,30)\n",
    "}\n",
    "\n",
    "\n",
    "grid_search = GridSearchCV(pipeline, param_grid=grid, scoring='accuracy', n_jobs=-1, cv=5)\n",
    "grid_search.fit(X_train,Y_train)"
   ]
  },
  {
   "cell_type": "code",
   "execution_count": 27,
   "metadata": {},
   "outputs": [
    {
     "name": "stdout",
     "output_type": "stream",
     "text": [
      "Pipeline(memory=None,\n",
      "         steps=[('vectorizer',\n",
      "                 TfidfVectorizer(analyzer='word', binary=False,\n",
      "                                 decode_error='strict',\n",
      "                                 dtype=<class 'numpy.float64'>,\n",
      "                                 encoding='utf-8', input='content',\n",
      "                                 lowercase=True, max_df=1.0, max_features=None,\n",
      "                                 min_df=1, ngram_range=(1, 1), norm='l2',\n",
      "                                 preprocessor=None, smooth_idf=True,\n",
      "                                 stop_words='english', strip_accents=None,\n",
      "                                 sublinear_tf=False,\n",
      "                                 token_pattern='(?u)\\\\b\\\\w\\\\w+\\\\b',\n",
      "                                 tokenizer=None, use_idf=True,\n",
      "                                 vocabulary=None)),\n",
      "                ('classifier',\n",
      "                 KNeighborsClassifier(algorithm='auto', leaf_size=30,\n",
      "                                      metric='minkowski', metric_params=None,\n",
      "                                      n_jobs=None, n_neighbors=1, p=2,\n",
      "                                      weights='uniform'))],\n",
      "         verbose=False) \n",
      "\n",
      "\tclassifier__n_neighbors: 1\n",
      "\tvectorizer__ngram_range: (1, 1)\n"
     ]
    }
   ],
   "source": [
    "\n",
    "print(grid_search.best_estimator_,\"\\n\")\n",
    "\n",
    "best_parameters = grid_search.best_estimator_.get_params()\n",
    "for param_name in sorted(list(grid.keys())):\n",
    "    print(\"\\t{0}: {1}\".format(param_name, best_parameters[param_name]))\n"
   ]
  },
  {
   "cell_type": "markdown",
   "metadata": {},
   "source": [
    "### print confusion matrix and accuracy"
   ]
  },
  {
   "cell_type": "code",
   "execution_count": 28,
   "metadata": {},
   "outputs": [
    {
     "name": "stdout",
     "output_type": "stream",
     "text": [
      "Confusion matrix \n",
      " [[35  8]\n",
      " [11 53]] \n",
      "\n",
      "Classification_report \n",
      "                precision    recall  f1-score   support\n",
      "\n",
      "           0       0.76      0.81      0.79        43\n",
      "           1       0.87      0.83      0.85        64\n",
      "\n",
      "    accuracy                           0.82       107\n",
      "   macro avg       0.81      0.82      0.82       107\n",
      "weighted avg       0.83      0.82      0.82       107\n",
      " \n",
      "\n",
      "Train Accuracy 1.0\n",
      "Test Accuracy: 0.822429906542056\n",
      "roc_auc_score 0.8210392441860466\n"
     ]
    }
   ],
   "source": [
    "best_model = grid_search.best_estimator_\n",
    "y_pred=best_model.predict(X_test)\n",
    "\n",
    "confusion=confusion_matrix(Y_test, y_pred)\n",
    "report=classification_report(Y_test,y_pred)\n",
    "false_positive_rate, true_positive_rate, thresholds = sk.metrics.roc_curve(Y_test, y_pred)\n",
    "roc_auc = sk.metrics.auc(false_positive_rate, true_positive_rate)\n",
    "print(\"Confusion matrix \\n\",confusion,\"\\n\")\n",
    "print(\"Classification_report \\n \",report,\"\\n\")\n",
    "print(\"Train Accuracy\",accuracy_score(Y_train, best_model.predict(X_train)))\n",
    "print(\"Test Accuracy:\",accuracy_score(Y_test,y_pred))\n",
    "print(\"roc_auc_score\",roc_auc)"
   ]
  },
  {
   "cell_type": "code",
   "execution_count": 29,
   "metadata": {},
   "outputs": [
    {
     "name": "stdout",
     "output_type": "stream",
     "text": [
      "0.7570093457943925\n",
      "0.7663551401869159\n",
      "0.7009345794392523\n",
      "0.6915887850467289\n",
      "0.6915887850467289\n",
      "0.7009345794392523\n",
      "0.6822429906542056\n",
      "0.6915887850467289\n",
      "0.6822429906542056\n",
      "0.6915887850467289\n",
      "0.6728971962616822\n",
      "0.6728971962616822\n",
      "0.6635514018691588\n",
      "0.6635514018691588\n",
      "0.6635514018691588\n",
      "0.6635514018691588\n",
      "0.6542056074766355\n",
      "0.6542056074766355\n",
      "0.6542056074766355\n",
      "0.6448598130841121\n",
      "0.6448598130841121\n",
      "0.6448598130841121\n",
      "0.6448598130841121\n",
      "0.6448598130841121\n",
      "0.6448598130841121\n",
      "0.6448598130841121\n",
      "0.6448598130841121\n",
      "0.6448598130841121\n",
      "0.6355140186915887\n"
     ]
    }
   ],
   "source": [
    "# plot represents the classifier accuracy and shows that the highest accuracy is as shown by gridSearchCv\n",
    "K_rang=range(1,30)\n",
    "K_score=[]\n",
    "for k in K_rang:\n",
    "    pipelineTf_Idf = Pipeline([\n",
    "    ('vectorizer',CountVectorizer(stop_words='english',analyzer='word',ngram_range=(1, 1))),\n",
    "    ('classifier', KNeighborsClassifier(k))])\n",
    "    \n",
    "    model=pipelineTf_Idf.fit(X_train,Y_train)\n",
    "    y_pred = model .predict(X_test)\n",
    "\n",
    "    K_score.append(accuracy_score(Y_test, y_pred))\n",
    "for i in K_score:\n",
    "    print(i)"
   ]
  },
  {
   "cell_type": "code",
   "execution_count": 30,
   "metadata": {},
   "outputs": [
    {
     "data": {
      "text/plain": [
       "Text(0, 0.5, 'cross-valdition Accuracy')"
      ]
     },
     "execution_count": 30,
     "metadata": {},
     "output_type": "execute_result"
    },
    {
     "data": {
      "image/png": "[encoded data removed]",
      "text/plain": [
       "<Figure size 432x288 with 1 Axes>"
      ]
     },
     "metadata": {
      "needs_background": "light"
     },
     "output_type": "display_data"
    }
   ],
   "source": [
    "\n",
    "#polt the value of K for KNN\n",
    "plt.plot(K_rang,K_score)\n",
    "plt.xlabel(\"value of k for knn\")\n",
    "plt.ylabel(\"cross-valdition Accuracy\")\n",
    "\n",
    "\n"
   ]
  },
  {
   "cell_type": "code",
   "execution_count": 31,
   "metadata": {
    "scrolled": true
   },
   "outputs": [
    {
     "data": {
      "image/png": "[encoded data removed]",
      "text/plain": [
       "<Figure size 432x288 with 2 Axes>"
      ]
     },
     "metadata": {
      "needs_background": "light"
     },
     "output_type": "display_data"
    }
   ],
   "source": [
    "#confusion matrix plot\n",
    "\n",
    "ax= plt.subplot()\n",
    "sns.heatmap(confusion, annot=True, ax = ax); #annot=True to annotate cells\n",
    "\n",
    "# labels, title and ticks\n",
    "ax.set_xlabel('Predicted labels');ax.set_ylabel('True labels'); \n",
    "ax.set_title('Confusion Matrix'); \n",
    "ax.xaxis.set_ticklabels(['real', 'fake']); ax.yaxis.set_ticklabels(['real', 'fake']);"
   ]
  },
  {
   "cell_type": "code",
   "execution_count": null,
   "metadata": {},
   "outputs": [],
   "source": []
  },
  {
   "cell_type": "markdown",
   "metadata": {},
   "source": [
    "#### Exp4- Tf-Idf + Preprocessed text + Stemming"
   ]
  },
  {
   "cell_type": "code",
   "execution_count": 191,
   "metadata": {},
   "outputs": [
    {
     "data": {
      "text/plain": [
       "GridSearchCV(cv=5, error_score='raise-deprecating',\n",
       "             estimator=Pipeline(memory=None,\n",
       "                                steps=[('vectorizer',\n",
       "                                        TfidfVectorizer(analyzer='word',\n",
       "                                                        binary=False,\n",
       "                                                        decode_error='strict',\n",
       "                                                        dtype=<class 'numpy.float64'>,\n",
       "                                                        encoding='utf-8',\n",
       "                                                        input='content',\n",
       "                                                        lowercase=True,\n",
       "                                                        max_df=1.0,\n",
       "                                                        max_features=None,\n",
       "                                                        min_df=1,\n",
       "                                                        ngram_range=(1, 1),\n",
       "                                                        norm='l2',\n",
       "                                                        preprocessor=None,\n",
       "                                                        smooth_idf=True,\n",
       "                                                        stop...\n",
       "                                        KNeighborsClassifier(algorithm='auto',\n",
       "                                                             leaf_size=30,\n",
       "                                                             metric='minkowski',\n",
       "                                                             metric_params=None,\n",
       "                                                             n_jobs=None,\n",
       "                                                             n_neighbors=5, p=2,\n",
       "                                                             weights='uniform'))],\n",
       "                                verbose=False),\n",
       "             iid='warn', n_jobs=-1,\n",
       "             param_grid={'classifier__n_neighbors': range(1, 30),\n",
       "                         'vectorizer__ngram_range': [(1, 1), (1, 2)]},\n",
       "             pre_dispatch='2*n_jobs', refit=True, return_train_score=False,\n",
       "             scoring='accuracy', verbose=0)"
      ]
     },
     "execution_count": 191,
     "metadata": {},
     "output_type": "execute_result"
    }
   ],
   "source": [
    "x=df_balanced[\"Stemming\"]\n",
    "y=df_balanced['tag']\n",
    "\n",
    "tags = []\n",
    "for tag in y:\n",
    "    if tag == 'real':\n",
    "        tags.append(1)\n",
    "    if tag == 'fake':\n",
    "        tags.append(0)\n",
    "y = tags\n",
    "#print (\"tags in binary:\", y)\n",
    "\n",
    "\n",
    "X_train, X_test, Y_train, Y_test = model_selection.train_test_split( x, y, stratify=y, random_state=42,test_size=0.25)\n",
    "\n",
    "pipeline = Pipeline([\n",
    "    ('vectorizer',TfidfVectorizer(stop_words='english')),\n",
    "    ('classifier', KNeighborsClassifier())])\n",
    "\n",
    "\n",
    "grid = {\n",
    "    'vectorizer__ngram_range': [(1, 1), (1, 2)],\n",
    "    'classifier__n_neighbors':range(1,30)\n",
    "}\n",
    "\n",
    "grid_search = GridSearchCV(pipeline, param_grid=grid, scoring='accuracy', n_jobs=-1, cv=5)\n",
    "grid_search.fit(X_train,Y_train)"
   ]
  },
  {
   "cell_type": "code",
   "execution_count": 35,
   "metadata": {},
   "outputs": [
    {
     "name": "stdout",
     "output_type": "stream",
     "text": [
      "Pipeline(memory=None,\n",
      "         steps=[('vectorizer',\n",
      "                 TfidfVectorizer(analyzer='word', binary=False,\n",
      "                                 decode_error='strict',\n",
      "                                 dtype=<class 'numpy.float64'>,\n",
      "                                 encoding='utf-8', input='content',\n",
      "                                 lowercase=True, max_df=1.0, max_features=None,\n",
      "                                 min_df=1, ngram_range=(1, 1), norm='l2',\n",
      "                                 preprocessor=None, smooth_idf=True,\n",
      "                                 stop_words='english', strip_accents=None,\n",
      "                                 sublinear_tf=False,\n",
      "                                 token_pattern='(?u)\\\\b\\\\w\\\\w+\\\\b',\n",
      "                                 tokenizer=None, use_idf=True,\n",
      "                                 vocabulary=None)),\n",
      "                ('classifier',\n",
      "                 KNeighborsClassifier(algorithm='auto', leaf_size=30,\n",
      "                                      metric='minkowski', metric_params=None,\n",
      "                                      n_jobs=None, n_neighbors=1, p=2,\n",
      "                                      weights='uniform'))],\n",
      "         verbose=False) \n",
      "\n",
      "\tclassifier__n_neighbors: ['classifier__n_neighbors']\n",
      "\tvectorizer__ngram_range: ['vectorizer__ngram_range']\n"
     ]
    }
   ],
   "source": [
    "\n",
    "print(grid_search.best_estimator_,\"\\n\")\n",
    "\n",
    "best_parameters = grid_search.best_estimator_.get_params()\n",
    "for param_name in sorted(list(grid.keys())):\n",
    "    print(\"\\t{0}: {1}\".format(param_name,  [param_name]))\n"
   ]
  },
  {
   "cell_type": "markdown",
   "metadata": {},
   "source": [
    "## print confusion matrix and accuracy"
   ]
  },
  {
   "cell_type": "code",
   "execution_count": 36,
   "metadata": {},
   "outputs": [
    {
     "name": "stdout",
     "output_type": "stream",
     "text": [
      "Confusion matrix \n",
      " [[36  7]\n",
      " [ 9 55]] \n",
      "\n",
      "Classification_report \n",
      "                precision    recall  f1-score   support\n",
      "\n",
      "           0       0.80      0.84      0.82        43\n",
      "           1       0.89      0.86      0.87        64\n",
      "\n",
      "    accuracy                           0.85       107\n",
      "   macro avg       0.84      0.85      0.85       107\n",
      "weighted avg       0.85      0.85      0.85       107\n",
      " \n",
      "\n",
      "Train Accuracy 1.0\n",
      "Test Accuracy: 0.8504672897196262\n",
      "roc_auc_score 0.8482921511627906\n"
     ]
    }
   ],
   "source": [
    "\n",
    "best_model = grid_search.best_estimator_\n",
    "y_pred=best_model.predict(X_test)\n",
    "\n",
    "confusion=confusion_matrix(Y_test, y_pred)\n",
    "report=classification_report(Y_test,y_pred)\n",
    "false_positive_rate, true_positive_rate, thresholds = sk.metrics.roc_curve(Y_test, y_pred)\n",
    "roc_auc = sk.metrics.auc(false_positive_rate, true_positive_rate)\n",
    "print(\"Confusion matrix \\n\",confusion,\"\\n\")\n",
    "print(\"Classification_report \\n \",report,\"\\n\")\n",
    "print(\"Train Accuracy\",accuracy_score(Y_train, best_model.predict(X_train)))\n",
    "print(\"Test Accuracy:\",accuracy_score(Y_test,y_pred))\n",
    "print(\"roc_auc_score\",roc_auc)"
   ]
  },
  {
   "cell_type": "code",
   "execution_count": 37,
   "metadata": {},
   "outputs": [
    {
     "name": "stdout",
     "output_type": "stream",
     "text": [
      "0.7570093457943925\n",
      "0.7570093457943925\n",
      "0.7102803738317757\n",
      "0.7102803738317757\n",
      "0.6915887850467289\n",
      "0.6822429906542056\n",
      "0.6728971962616822\n",
      "0.6822429906542056\n",
      "0.6728971962616822\n",
      "0.6728971962616822\n",
      "0.6728971962616822\n",
      "0.6728971962616822\n",
      "0.6728971962616822\n",
      "0.6728971962616822\n",
      "0.6635514018691588\n",
      "0.6728971962616822\n",
      "0.6635514018691588\n",
      "0.6728971962616822\n",
      "0.6542056074766355\n",
      "0.6635514018691588\n",
      "0.6635514018691588\n",
      "0.6635514018691588\n",
      "0.6635514018691588\n",
      "0.6635514018691588\n",
      "0.6542056074766355\n",
      "0.6542056074766355\n",
      "0.6448598130841121\n",
      "0.6542056074766355\n",
      "0.6448598130841121\n"
     ]
    }
   ],
   "source": [
    "# plot represents the classifier accuracy and shows that the highest accuracy is as shown by gridSearchCv\n",
    "K_rang=range(1,30)\n",
    "K_score=[]\n",
    "for k in K_rang:\n",
    "    pipelineTf_Idf = Pipeline([\n",
    "    ('vectorizer',CountVectorizer(stop_words='english',analyzer='word',ngram_range=(1, 1))),\n",
    "    ('classifier', KNeighborsClassifier(k))])\n",
    "    \n",
    "    model=pipelineTf_Idf.fit(X_train,Y_train)\n",
    "    y_pred = model.predict(X_test)\n",
    "\n",
    "    K_score.append(accuracy_score(Y_test, y_pred))\n",
    "for i in K_score:\n",
    "    print(i)"
   ]
  },
  {
   "cell_type": "code",
   "execution_count": 38,
   "metadata": {},
   "outputs": [
    {
     "data": {
      "text/plain": [
       "Text(0, 0.5, 'cross-valdition Accuracy')"
      ]
     },
     "execution_count": 38,
     "metadata": {},
     "output_type": "execute_result"
    },
    {
     "data": {
      "image/png": "[encoded data removed]",
      "text/plain": [
       "<Figure size 432x288 with 1 Axes>"
      ]
     },
     "metadata": {
      "needs_background": "light"
     },
     "output_type": "display_data"
    }
   ],
   "source": [
    "#polt the value of K for KNN\n",
    "plt.plot(K_rang,K_score)\n",
    "plt.xlabel(\"value of k for knn\")\n",
    "plt.ylabel(\"cross-valdition Accuracy\")"
   ]
  },
  {
   "cell_type": "code",
   "execution_count": 39,
   "metadata": {
    "scrolled": false
   },
   "outputs": [
    {
     "data": {
      "image/png": "[encoded data removed]",
      "text/plain": [
       "<Figure size 432x288 with 2 Axes>"
      ]
     },
     "metadata": {
      "needs_background": "light"
     },
     "output_type": "display_data"
    }
   ],
   "source": [
    "#confusion matrix plot\n",
    "\n",
    "ax= plt.subplot()\n",
    "sns.heatmap(confusion, annot=True, ax = ax); #annot=True to annotate cells\n",
    "\n",
    "# labels, title and ticks\n",
    "ax.set_xlabel('Predicted labels');ax.set_ylabel('True labels'); \n",
    "ax.set_title('Confusion Matrix'); \n",
    "ax.xaxis.set_ticklabels(['real', 'fake']); ax.yaxis.set_ticklabels(['real', 'fake']);"
   ]
  },
  {
   "cell_type": "code",
   "execution_count": null,
   "metadata": {},
   "outputs": [],
   "source": []
  },
  {
   "cell_type": "markdown",
   "metadata": {},
   "source": [
    "# Multinomial Naïve Bayes Classifier "
   ]
  },
  {
   "cell_type": "code",
   "execution_count": 40,
   "metadata": {},
   "outputs": [
    {
     "data": {
      "text/plain": [
       "GridSearchCV(cv=5, error_score='raise-deprecating',\n",
       "             estimator=Pipeline(memory=None,\n",
       "                                steps=[('vectorizer',\n",
       "                                        CountVectorizer(analyzer='word',\n",
       "                                                        binary=False,\n",
       "                                                        decode_error='strict',\n",
       "                                                        dtype=<class 'numpy.int64'>,\n",
       "                                                        encoding='utf-8',\n",
       "                                                        input='content',\n",
       "                                                        lowercase=True,\n",
       "                                                        max_df=1.0,\n",
       "                                                        max_features=None,\n",
       "                                                        min_df=1,\n",
       "                                                        ngram_range=(1, 1),\n",
       "                                                        preprocessor=None,\n",
       "                                                        stop_words='english',\n",
       "                                                        strip_accents=None,\n",
       "                                                        token_pattern='(?u)\\\\b\\\\w\\\\w+\\\\b',\n",
       "                                                        tokenizer=None,\n",
       "                                                        vocabulary=None)),\n",
       "                                       ('classifier',\n",
       "                                        MultinomialNB(alpha=1.0,\n",
       "                                                      class_prior=None,\n",
       "                                                      fit_prior=True))],\n",
       "                                verbose=False),\n",
       "             iid='warn', n_jobs=-1,\n",
       "             param_grid={'vectorizer__ngram_range': [(1, 1), (1, 2)]},\n",
       "             pre_dispatch='2*n_jobs', refit=True, return_train_score=False,\n",
       "             scoring='accuracy', verbose=0)"
      ]
     },
     "execution_count": 40,
     "metadata": {},
     "output_type": "execute_result"
    }
   ],
   "source": [
    "x=df_balanced[\"strong_pro1\"]\n",
    "y=df_balanced['tag']\n",
    "\n",
    "tags = []\n",
    "for tag in y:\n",
    "    if tag == 'real':\n",
    "        tags.append(1)\n",
    "    if tag == 'fake':\n",
    "        tags.append(0)\n",
    "y = tags\n",
    "#print (\"tags in binary:\", y)\n",
    "\n",
    "\n",
    "X_train, X_test, Y_train, Y_test = model_selection.train_test_split( x, y, stratify=y, random_state=42,test_size=0.25)\n",
    "\n",
    "pipeline = Pipeline([\n",
    "    ('vectorizer',CountVectorizer(stop_words='english')),\n",
    "    ('classifier', MultinomialNB())])\n",
    "\n",
    "grid = {\n",
    "    'vectorizer__ngram_range': [(1, 1), (1, 2)],\n",
    "}\n",
    "\n",
    "\n",
    "grid_search = GridSearchCV(pipeline, param_grid=grid, scoring='accuracy', n_jobs=-1, cv=5)\n",
    "grid_search.fit(X_train,Y_train)\n"
   ]
  },
  {
   "cell_type": "code",
   "execution_count": 41,
   "metadata": {},
   "outputs": [
    {
     "name": "stdout",
     "output_type": "stream",
     "text": [
      "Pipeline(memory=None,\n",
      "         steps=[('vectorizer',\n",
      "                 CountVectorizer(analyzer='word', binary=False,\n",
      "                                 decode_error='strict',\n",
      "                                 dtype=<class 'numpy.int64'>, encoding='utf-8',\n",
      "                                 input='content', lowercase=True, max_df=1.0,\n",
      "                                 max_features=None, min_df=1,\n",
      "                                 ngram_range=(1, 1), preprocessor=None,\n",
      "                                 stop_words='english', strip_accents=None,\n",
      "                                 token_pattern='(?u)\\\\b\\\\w\\\\w+\\\\b',\n",
      "                                 tokenizer=None, vocabulary=None)),\n",
      "                ('classifier',\n",
      "                 MultinomialNB(alpha=1.0, class_prior=None, fit_prior=True))],\n",
      "         verbose=False) \n",
      "\n",
      "\tvectorizer__ngram_range: (1, 1)\n"
     ]
    }
   ],
   "source": [
    "\n",
    "print(grid_search.best_estimator_,\"\\n\")\n",
    "\n",
    "best_parameters = grid_search.best_estimator_.get_params()\n",
    "for param_name in sorted(list(grid.keys())):\n",
    "    print(\"\\t{0}: {1}\".format(param_name, best_parameters[param_name]))\n",
    "\n",
    "best_model = grid_search.best_estimator_\n",
    "y_pred=best_model.predict(X_test)\n"
   ]
  },
  {
   "cell_type": "code",
   "execution_count": 42,
   "metadata": {},
   "outputs": [
    {
     "name": "stdout",
     "output_type": "stream",
     "text": [
      "Confusion matrix \n",
      " [[38  5]\n",
      " [11 53]] \n",
      "\n",
      "Classification_report \n",
      "                precision    recall  f1-score   support\n",
      "\n",
      "           0       0.78      0.88      0.83        43\n",
      "           1       0.91      0.83      0.87        64\n",
      "\n",
      "    accuracy                           0.85       107\n",
      "   macro avg       0.84      0.86      0.85       107\n",
      "weighted avg       0.86      0.85      0.85       107\n",
      " \n",
      "\n",
      "Train Accuracy 0.99375\n",
      "Test Accuracy: 0.8504672897196262\n",
      "roc_auc_score 0.8559229651162791\n"
     ]
    }
   ],
   "source": [
    "\n",
    "confusion=confusion_matrix(Y_test, y_pred)\n",
    "report=classification_report(Y_test,y_pred)\n",
    "false_positive_rate, true_positive_rate, thresholds = sk.metrics.roc_curve(Y_test, y_pred)\n",
    "roc_auc = sk.metrics.auc(false_positive_rate, true_positive_rate)\n",
    "print(\"Confusion matrix \\n\",confusion,\"\\n\")\n",
    "print(\"Classification_report \\n \",report,\"\\n\")\n",
    "print(\"Train Accuracy\",accuracy_score(Y_train, best_model.predict(X_train)))\n",
    "print(\"Test Accuracy:\",accuracy_score(Y_test,y_pred))\n",
    "print(\"roc_auc_score\",roc_auc)"
   ]
  },
  {
   "cell_type": "code",
   "execution_count": 43,
   "metadata": {
    "scrolled": true
   },
   "outputs": [
    {
     "data": {
      "image/png": "[encoded data removed]",
      "text/plain": [
       "<Figure size 432x288 with 2 Axes>"
      ]
     },
     "metadata": {
      "needs_background": "light"
     },
     "output_type": "display_data"
    }
   ],
   "source": [
    "#confusion matrix plot\n",
    "\n",
    "ax= plt.subplot()\n",
    "sns.heatmap(confusion, annot=True, ax = ax); #annot=True to annotate cells\n",
    "\n",
    "# labels, title and ticks\n",
    "ax.set_xlabel('Predicted labels');ax.set_ylabel('True labels'); \n",
    "ax.set_title('Confusion Matrix'); \n",
    "ax.xaxis.set_ticklabels(['real', 'fake']); ax.yaxis.set_ticklabels(['real', 'fake']);"
   ]
  },
  {
   "cell_type": "code",
   "execution_count": null,
   "metadata": {},
   "outputs": [],
   "source": []
  },
  {
   "cell_type": "markdown",
   "metadata": {},
   "source": [
    "####  Exp2: Bow + Preprocessed text +Stemming\n"
   ]
  },
  {
   "cell_type": "code",
   "execution_count": 44,
   "metadata": {},
   "outputs": [
    {
     "data": {
      "text/plain": [
       "GridSearchCV(cv=5, error_score='raise-deprecating',\n",
       "             estimator=Pipeline(memory=None,\n",
       "                                steps=[('vectorizer',\n",
       "                                        CountVectorizer(analyzer='word',\n",
       "                                                        binary=False,\n",
       "                                                        decode_error='strict',\n",
       "                                                        dtype=<class 'numpy.int64'>,\n",
       "                                                        encoding='utf-8',\n",
       "                                                        input='content',\n",
       "                                                        lowercase=True,\n",
       "                                                        max_df=1.0,\n",
       "                                                        max_features=None,\n",
       "                                                        min_df=1,\n",
       "                                                        ngram_range=(1, 1),\n",
       "                                                        preprocessor=None,\n",
       "                                                        stop_words='english',\n",
       "                                                        strip_accents=None,\n",
       "                                                        token_pattern='(?u)\\\\b\\\\w\\\\w+\\\\b',\n",
       "                                                        tokenizer=None,\n",
       "                                                        vocabulary=None)),\n",
       "                                       ('classifier',\n",
       "                                        MultinomialNB(alpha=1.0,\n",
       "                                                      class_prior=None,\n",
       "                                                      fit_prior=True))],\n",
       "                                verbose=False),\n",
       "             iid='warn', n_jobs=-1,\n",
       "             param_grid={'vectorizer__ngram_range': [(1, 1), (1, 2)]},\n",
       "             pre_dispatch='2*n_jobs', refit=True, return_train_score=False,\n",
       "             scoring='accuracy', verbose=0)"
      ]
     },
     "execution_count": 44,
     "metadata": {},
     "output_type": "execute_result"
    }
   ],
   "source": [
    "x=df_balanced[\"Stemming\"]\n",
    "y=df_balanced['tag']\n",
    "\n",
    "tags = []\n",
    "for tag in y:\n",
    "    if tag == 'real':\n",
    "        tags.append(1)\n",
    "    if tag == 'fake':\n",
    "        tags.append(0)\n",
    "y = tags\n",
    "#print (\"tags in binary:\", y)\n",
    "\n",
    "\n",
    "X_train, X_test, Y_train, Y_test = model_selection.train_test_split( x, y, stratify=y, random_state=42,test_size=0.25)\n",
    "\n",
    "pipeline = Pipeline([\n",
    "    ('vectorizer',CountVectorizer(stop_words='english')),\n",
    "    ('classifier', MultinomialNB())])\n",
    "\n",
    "grid = {\n",
    "    'vectorizer__ngram_range': [(1, 1), (1, 2)],\n",
    "}\n",
    "\n",
    "grid_search = GridSearchCV(pipeline, param_grid=grid, scoring='accuracy', n_jobs=-1, cv=5)\n",
    "grid_search.fit(X_train,Y_train)\n",
    "\n"
   ]
  },
  {
   "cell_type": "code",
   "execution_count": 45,
   "metadata": {
    "scrolled": true
   },
   "outputs": [
    {
     "name": "stdout",
     "output_type": "stream",
     "text": [
      "Pipeline(memory=None,\n",
      "         steps=[('vectorizer',\n",
      "                 CountVectorizer(analyzer='word', binary=False,\n",
      "                                 decode_error='strict',\n",
      "                                 dtype=<class 'numpy.int64'>, encoding='utf-8',\n",
      "                                 input='content', lowercase=True, max_df=1.0,\n",
      "                                 max_features=None, min_df=1,\n",
      "                                 ngram_range=(1, 1), preprocessor=None,\n",
      "                                 stop_words='english', strip_accents=None,\n",
      "                                 token_pattern='(?u)\\\\b\\\\w\\\\w+\\\\b',\n",
      "                                 tokenizer=None, vocabulary=None)),\n",
      "                ('classifier',\n",
      "                 MultinomialNB(alpha=1.0, class_prior=None, fit_prior=True))],\n",
      "         verbose=False) \n",
      "\n",
      "\tvectorizer__ngram_range: (1, 1)\n"
     ]
    }
   ],
   "source": [
    "print(grid_search.best_estimator_,\"\\n\")\n",
    "\n",
    "best_parameters = grid_search.best_estimator_.get_params()\n",
    "for param_name in sorted(list(grid.keys())):\n",
    "    print(\"\\t{0}: {1}\".format(param_name, best_parameters[param_name]))\n",
    "\n",
    "best_model = grid_search.best_estimator_\n",
    "y_pred=best_model.predict(X_test)\n"
   ]
  },
  {
   "cell_type": "markdown",
   "metadata": {},
   "source": [
    "### print confusion matrix and accuracy"
   ]
  },
  {
   "cell_type": "code",
   "execution_count": 46,
   "metadata": {
    "scrolled": true
   },
   "outputs": [
    {
     "name": "stdout",
     "output_type": "stream",
     "text": [
      "Confusion matrix \n",
      " [[38  5]\n",
      " [13 51]] \n",
      "\n",
      "Classification_report \n",
      "                precision    recall  f1-score   support\n",
      "\n",
      "           0       0.75      0.88      0.81        43\n",
      "           1       0.91      0.80      0.85        64\n",
      "\n",
      "    accuracy                           0.83       107\n",
      "   macro avg       0.83      0.84      0.83       107\n",
      "weighted avg       0.84      0.83      0.83       107\n",
      " \n",
      "\n",
      "Train Accuracy 0.990625\n",
      "Test Accuracy: 0.8317757009345794\n",
      "roc_auc_score 0.8402979651162791\n"
     ]
    }
   ],
   "source": [
    "confusion=confusion_matrix(Y_test, y_pred)\n",
    "report=classification_report(Y_test,y_pred)\n",
    "false_positive_rate, true_positive_rate, thresholds = sk.metrics.roc_curve(Y_test, y_pred)\n",
    "roc_auc = sk.metrics.auc(false_positive_rate, true_positive_rate)\n",
    "print(\"Confusion matrix \\n\",confusion,\"\\n\")\n",
    "print(\"Classification_report \\n \",report,\"\\n\")\n",
    "print(\"Train Accuracy\",accuracy_score(Y_train, best_model.predict(X_train)))\n",
    "print(\"Test Accuracy:\",accuracy_score(Y_test,y_pred))\n",
    "print(\"roc_auc_score\",roc_auc)"
   ]
  },
  {
   "cell_type": "code",
   "execution_count": 47,
   "metadata": {
    "scrolled": true
   },
   "outputs": [
    {
     "data": {
      "image/png": "[encoded data removed]",
      "text/plain": [
       "<Figure size 432x288 with 2 Axes>"
      ]
     },
     "metadata": {
      "needs_background": "light"
     },
     "output_type": "display_data"
    }
   ],
   "source": [
    "#confusion matrix plot\n",
    "\n",
    "ax= plt.subplot()\n",
    "sns.heatmap(confusion, annot=True, ax = ax); #annot=True to annotate cells\n",
    "\n",
    "# labels, title and ticks\n",
    "ax.set_xlabel('Predicted labels');ax.set_ylabel('True labels'); \n",
    "ax.set_title('Confusion Matrix'); \n",
    "ax.xaxis.set_ticklabels(['real', 'fake']); ax.yaxis.set_ticklabels(['real', 'fake']);"
   ]
  },
  {
   "cell_type": "code",
   "execution_count": null,
   "metadata": {},
   "outputs": [],
   "source": []
  },
  {
   "cell_type": "markdown",
   "metadata": {},
   "source": [
    "#### Exp3- Tf-Idf+ Preprocessed text \n"
   ]
  },
  {
   "cell_type": "code",
   "execution_count": 192,
   "metadata": {},
   "outputs": [
    {
     "data": {
      "text/plain": [
       "GridSearchCV(cv=5, error_score='raise-deprecating',\n",
       "             estimator=Pipeline(memory=None,\n",
       "                                steps=[('vectorizer',\n",
       "                                        TfidfVectorizer(analyzer='word',\n",
       "                                                        binary=False,\n",
       "                                                        decode_error='strict',\n",
       "                                                        dtype=<class 'numpy.float64'>,\n",
       "                                                        encoding='utf-8',\n",
       "                                                        input='content',\n",
       "                                                        lowercase=True,\n",
       "                                                        max_df=1.0,\n",
       "                                                        max_features=None,\n",
       "                                                        min_df=1,\n",
       "                                                        ngram_range=(1, 1),\n",
       "                                                        norm='l2',\n",
       "                                                        preprocessor=None,\n",
       "                                                        smooth_idf=True,\n",
       "                                                        stop...\n",
       "                                                        sublinear_tf=False,\n",
       "                                                        token_pattern='(?u)\\\\b\\\\w\\\\w+\\\\b',\n",
       "                                                        tokenizer=None,\n",
       "                                                        use_idf=True,\n",
       "                                                        vocabulary=None)),\n",
       "                                       ('classifier',\n",
       "                                        MultinomialNB(alpha=1.0,\n",
       "                                                      class_prior=None,\n",
       "                                                      fit_prior=True))],\n",
       "                                verbose=False),\n",
       "             iid='warn', n_jobs=-1,\n",
       "             param_grid={'vectorizer__ngram_range': [(1, 1), (1, 2)]},\n",
       "             pre_dispatch='2*n_jobs', refit=True, return_train_score=False,\n",
       "             scoring='accuracy', verbose=0)"
      ]
     },
     "execution_count": 192,
     "metadata": {},
     "output_type": "execute_result"
    }
   ],
   "source": [
    "\n",
    "x=df_balanced[\"strong_pro1\"]\n",
    "y=df_balanced['tag']\n",
    "\n",
    "tags = []\n",
    "for tag in y:\n",
    "    if tag == 'real':\n",
    "        tags.append(1)\n",
    "    if tag == 'fake':\n",
    "        tags.append(0)\n",
    "y = tags\n",
    "#print (\"tags in binary:\", y)\n",
    "\n",
    "\n",
    "X_train, X_test, Y_train, Y_test = model_selection.train_test_split( x, y, stratify=y, random_state=42,test_size=0.25)\n",
    "\n",
    "pipeline = Pipeline([\n",
    "    ('vectorizer',TfidfVectorizer(stop_words='english')),\n",
    "    ('classifier', MultinomialNB())])\n",
    "\n",
    "grid = {\n",
    "    'vectorizer__ngram_range': [(1, 1), (1, 2)],\n",
    "}\n",
    "grid_search = GridSearchCV(pipeline, param_grid=grid, scoring='accuracy', n_jobs=-1, cv=5)\n",
    "grid_search.fit(X_train,Y_train)"
   ]
  },
  {
   "cell_type": "code",
   "execution_count": 50,
   "metadata": {},
   "outputs": [
    {
     "name": "stdout",
     "output_type": "stream",
     "text": [
      "Pipeline(memory=None,\n",
      "         steps=[('vectorizer',\n",
      "                 TfidfVectorizer(analyzer='word', binary=False,\n",
      "                                 decode_error='strict',\n",
      "                                 dtype=<class 'numpy.float64'>,\n",
      "                                 encoding='utf-8', input='content',\n",
      "                                 lowercase=True, max_df=1.0, max_features=None,\n",
      "                                 min_df=1, ngram_range=(1, 1), norm='l2',\n",
      "                                 preprocessor=None, smooth_idf=True,\n",
      "                                 stop_words='english', strip_accents=None,\n",
      "                                 sublinear_tf=False,\n",
      "                                 token_pattern='(?u)\\\\b\\\\w\\\\w+\\\\b',\n",
      "                                 tokenizer=None, use_idf=True,\n",
      "                                 vocabulary=None)),\n",
      "                ('classifier',\n",
      "                 MultinomialNB(alpha=1.0, class_prior=None, fit_prior=True))],\n",
      "         verbose=False) \n",
      "\n",
      "\tvectorizer__ngram_range: (1, 1)\n"
     ]
    }
   ],
   "source": [
    "print(grid_search.best_estimator_,\"\\n\")\n",
    "\n",
    "best_parameters = grid_search.best_estimator_.get_params()\n",
    "for param_name in sorted(list(grid.keys())):\n",
    "    print(\"\\t{0}: {1}\".format(param_name, best_parameters[param_name]))\n",
    "\n",
    "best_model = grid_search.best_estimator_\n",
    "y_pred=best_model.predict(X_test)\n"
   ]
  },
  {
   "cell_type": "markdown",
   "metadata": {},
   "source": [
    "### Print confision matrix and accuracy"
   ]
  },
  {
   "cell_type": "code",
   "execution_count": 51,
   "metadata": {},
   "outputs": [
    {
     "name": "stdout",
     "output_type": "stream",
     "text": [
      "Confusion matrix \n",
      " [[32 11]\n",
      " [ 5 59]] \n",
      "\n",
      "Classification_report \n",
      "                precision    recall  f1-score   support\n",
      "\n",
      "           0       0.86      0.74      0.80        43\n",
      "           1       0.84      0.92      0.88        64\n",
      "\n",
      "    accuracy                           0.85       107\n",
      "   macro avg       0.85      0.83      0.84       107\n",
      "weighted avg       0.85      0.85      0.85       107\n",
      " \n",
      "\n",
      "Train Accuracy 0.990625\n",
      "Test Accuracy: 0.8504672897196262\n",
      "roc_auc_score 0.833030523255814\n"
     ]
    }
   ],
   "source": [
    "confusion=confusion_matrix(Y_test, y_pred)\n",
    "report=classification_report(Y_test,y_pred)\n",
    "false_positive_rate, true_positive_rate, thresholds = sk.metrics.roc_curve(Y_test, y_pred)\n",
    "roc_auc = sk.metrics.auc(false_positive_rate, true_positive_rate)\n",
    "print(\"Confusion matrix \\n\",confusion,\"\\n\")\n",
    "print(\"Classification_report \\n \",report,\"\\n\")\n",
    "print(\"Train Accuracy\",accuracy_score(Y_train, best_model.predict(X_train)))\n",
    "print(\"Test Accuracy:\",accuracy_score(Y_test,y_pred))\n",
    "print(\"roc_auc_score\",roc_auc)"
   ]
  },
  {
   "cell_type": "code",
   "execution_count": 52,
   "metadata": {
    "scrolled": true
   },
   "outputs": [
    {
     "data": {
      "image/png": "[encoded data removed]",
      "text/plain": [
       "<Figure size 432x288 with 2 Axes>"
      ]
     },
     "metadata": {
      "needs_background": "light"
     },
     "output_type": "display_data"
    }
   ],
   "source": [
    "#confusion matrix plot\n",
    "\n",
    "ax= plt.subplot()\n",
    "sns.heatmap(confusion, annot=True, ax = ax); #annot=True to annotate cells\n",
    "\n",
    "# labels, title and ticks\n",
    "ax.set_xlabel('Predicted labels');ax.set_ylabel('True labels'); \n",
    "ax.set_title('Confusion Matrix'); \n",
    "ax.xaxis.set_ticklabels(['real', 'fake']); ax.yaxis.set_ticklabels(['real', 'fake']);"
   ]
  },
  {
   "cell_type": "code",
   "execution_count": null,
   "metadata": {},
   "outputs": [],
   "source": []
  },
  {
   "cell_type": "markdown",
   "metadata": {},
   "source": [
    "#### Exp4- Tf-Idf + Preprocessed text + Stemming"
   ]
  },
  {
   "cell_type": "code",
   "execution_count": 193,
   "metadata": {},
   "outputs": [
    {
     "data": {
      "text/plain": [
       "GridSearchCV(cv=5, error_score='raise-deprecating',\n",
       "             estimator=Pipeline(memory=None,\n",
       "                                steps=[('vectorizer',\n",
       "                                        TfidfVectorizer(analyzer='word',\n",
       "                                                        binary=False,\n",
       "                                                        decode_error='strict',\n",
       "                                                        dtype=<class 'numpy.float64'>,\n",
       "                                                        encoding='utf-8',\n",
       "                                                        input='content',\n",
       "                                                        lowercase=True,\n",
       "                                                        max_df=1.0,\n",
       "                                                        max_features=None,\n",
       "                                                        min_df=1,\n",
       "                                                        ngram_range=(1, 1),\n",
       "                                                        norm='l2',\n",
       "                                                        preprocessor=None,\n",
       "                                                        smooth_idf=True,\n",
       "                                                        stop...\n",
       "                                                        sublinear_tf=False,\n",
       "                                                        token_pattern='(?u)\\\\b\\\\w\\\\w+\\\\b',\n",
       "                                                        tokenizer=None,\n",
       "                                                        use_idf=True,\n",
       "                                                        vocabulary=None)),\n",
       "                                       ('classifier',\n",
       "                                        MultinomialNB(alpha=1.0,\n",
       "                                                      class_prior=None,\n",
       "                                                      fit_prior=True))],\n",
       "                                verbose=False),\n",
       "             iid='warn', n_jobs=-1,\n",
       "             param_grid={'vectorizer__ngram_range': [(1, 1), (1, 2)]},\n",
       "             pre_dispatch='2*n_jobs', refit=True, return_train_score=False,\n",
       "             scoring='accuracy', verbose=0)"
      ]
     },
     "execution_count": 193,
     "metadata": {},
     "output_type": "execute_result"
    }
   ],
   "source": [
    "\n",
    "x=df_balanced[\"Stemming\"]\n",
    "y=df_balanced['tag']\n",
    "\n",
    "tags = []\n",
    "for tag in y:\n",
    "    if tag == 'real':\n",
    "        tags.append(1)\n",
    "    if tag == 'fake':\n",
    "        tags.append(0)\n",
    "y = tags\n",
    "#print (\"tags in binary:\", y)\n",
    "\n",
    "\n",
    "X_train, X_test, Y_train, Y_test = model_selection.train_test_split( x, y, stratify=y, random_state=42,test_size=0.25)\n",
    "\n",
    "pipeline = Pipeline([\n",
    "    ('vectorizer',TfidfVectorizer(stop_words='english')),\n",
    "    ('classifier', MultinomialNB())])\n",
    "\n",
    "\n",
    "grid = {\n",
    "    'vectorizer__ngram_range': [(1, 1), (1, 2)],\n",
    "}\n",
    "grid_search = GridSearchCV(pipeline, param_grid=grid, scoring='accuracy', n_jobs=-1, cv=5)\n",
    "grid_search.fit(X_train,Y_train)\n"
   ]
  },
  {
   "cell_type": "code",
   "execution_count": 56,
   "metadata": {},
   "outputs": [
    {
     "name": "stdout",
     "output_type": "stream",
     "text": [
      "Pipeline(memory=None,\n",
      "         steps=[('vectorizer',\n",
      "                 TfidfVectorizer(analyzer='word', binary=False,\n",
      "                                 decode_error='strict',\n",
      "                                 dtype=<class 'numpy.float64'>,\n",
      "                                 encoding='utf-8', input='content',\n",
      "                                 lowercase=True, max_df=1.0, max_features=None,\n",
      "                                 min_df=1, ngram_range=(1, 1), norm='l2',\n",
      "                                 preprocessor=None, smooth_idf=True,\n",
      "                                 stop_words='english', strip_accents=None,\n",
      "                                 sublinear_tf=False,\n",
      "                                 token_pattern='(?u)\\\\b\\\\w\\\\w+\\\\b',\n",
      "                                 tokenizer=None, use_idf=True,\n",
      "                                 vocabulary=None)),\n",
      "                ('classifier',\n",
      "                 MultinomialNB(alpha=1.0, class_prior=None, fit_prior=True))],\n",
      "         verbose=False) \n",
      "\n",
      "\tvectorizer__ngram_range: (1, 1)\n"
     ]
    }
   ],
   "source": [
    "\n",
    "print(grid_search.best_estimator_,\"\\n\")\n",
    "\n",
    "best_parameters = grid_search.best_estimator_.get_params()\n",
    "for param_name in sorted(list(grid.keys())):\n",
    "    print(\"\\t{0}: {1}\".format(param_name, best_parameters[param_name]))\n",
    "\n",
    "best_model = grid_search.best_estimator_\n",
    "y_pred=best_model.predict(X_test)\n"
   ]
  },
  {
   "cell_type": "markdown",
   "metadata": {},
   "source": [
    "### print confusion matrix and accuracy"
   ]
  },
  {
   "cell_type": "code",
   "execution_count": 57,
   "metadata": {},
   "outputs": [
    {
     "name": "stdout",
     "output_type": "stream",
     "text": [
      "Confusion matrix \n",
      " [[34  9]\n",
      " [ 7 57]] \n",
      "\n",
      "Classification_report \n",
      "                precision    recall  f1-score   support\n",
      "\n",
      "           0       0.83      0.79      0.81        43\n",
      "           1       0.86      0.89      0.88        64\n",
      "\n",
      "    accuracy                           0.85       107\n",
      "   macro avg       0.85      0.84      0.84       107\n",
      "weighted avg       0.85      0.85      0.85       107\n",
      " \n",
      "\n",
      "Train Accuracy 0.990625\n",
      "Test Accuracy: 0.8504672897196262\n",
      "roc_auc_score 0.8406613372093023\n"
     ]
    }
   ],
   "source": [
    "\n",
    "confusion=confusion_matrix(Y_test, y_pred)\n",
    "report=classification_report(Y_test,y_pred)\n",
    "false_positive_rate, true_positive_rate, thresholds = sk.metrics.roc_curve(Y_test, y_pred)\n",
    "roc_auc = sk.metrics.auc(false_positive_rate, true_positive_rate)\n",
    "print(\"Confusion matrix \\n\",confusion,\"\\n\")\n",
    "print(\"Classification_report \\n \",report,\"\\n\")\n",
    "print(\"Train Accuracy\",accuracy_score(Y_train, best_model.predict(X_train)))\n",
    "print(\"Test Accuracy:\",accuracy_score(Y_test,y_pred))\n",
    "print(\"roc_auc_score\",roc_auc)"
   ]
  },
  {
   "cell_type": "code",
   "execution_count": 58,
   "metadata": {
    "scrolled": false
   },
   "outputs": [
    {
     "data": {
      "image/png": "[encoded data removed]",
      "text/plain": [
       "<Figure size 432x288 with 2 Axes>"
      ]
     },
     "metadata": {
      "needs_background": "light"
     },
     "output_type": "display_data"
    }
   ],
   "source": [
    "#confusion matrix plot\n",
    "\n",
    "ax= plt.subplot()\n",
    "sns.heatmap(confusion, annot=True, ax = ax); #annot=True to annotate cells\n",
    "\n",
    "# labels, title and ticks\n",
    "ax.set_xlabel('Predicted labels');ax.set_ylabel('True labels'); \n",
    "ax.set_title(' '); \n",
    "ax.xaxis.set_ticklabels(['real', 'fake']); ax.yaxis.set_ticklabels(['real', 'fake']);"
   ]
  },
  {
   "cell_type": "code",
   "execution_count": null,
   "metadata": {},
   "outputs": [],
   "source": []
  },
  {
   "cell_type": "markdown",
   "metadata": {},
   "source": [
    "# Support Vector Machine Classifier "
   ]
  },
  {
   "cell_type": "markdown",
   "metadata": {},
   "source": [
    "#### Exp1: Bow + Preprocessed text"
   ]
  },
  {
   "cell_type": "code",
   "execution_count": 59,
   "metadata": {},
   "outputs": [
    {
     "data": {
      "text/plain": [
       "GridSearchCV(cv=5, error_score='raise-deprecating',\n",
       "             estimator=Pipeline(memory=None,\n",
       "                                steps=[('vectorizer',\n",
       "                                        CountVectorizer(analyzer='word',\n",
       "                                                        binary=False,\n",
       "                                                        decode_error='strict',\n",
       "                                                        dtype=<class 'numpy.int64'>,\n",
       "                                                        encoding='utf-8',\n",
       "                                                        input='content',\n",
       "                                                        lowercase=True,\n",
       "                                                        max_df=1.0,\n",
       "                                                        max_features=None,\n",
       "                                                        min_df=1,\n",
       "                                                        ngram_range=(1, 1),\n",
       "                                                        preprocessor=None,\n",
       "                                                        stop_words='english',\n",
       "                                                        strip_accen...\n",
       "                                            decision_function_shape='ovr',\n",
       "                                            degree=3, gamma='auto_deprecated',\n",
       "                                            kernel='linear', max_iter=-1,\n",
       "                                            probability=False,\n",
       "                                            random_state=None, shrinking=True,\n",
       "                                            tol=0.001, verbose=False))],\n",
       "                                verbose=False),\n",
       "             iid='warn', n_jobs=-1,\n",
       "             param_grid={'classifier__C': [0.01, 0.1, 1, 10],\n",
       "                         'vectorizer__ngram_range': [(1, 1), (1, 2)]},\n",
       "             pre_dispatch='2*n_jobs', refit=True, return_train_score=False,\n",
       "             scoring='accuracy', verbose=0)"
      ]
     },
     "execution_count": 59,
     "metadata": {},
     "output_type": "execute_result"
    }
   ],
   "source": [
    "x=df_balanced[\"strong_pro1\"]\n",
    "y=df_balanced['tag']\n",
    "\n",
    "tags = []\n",
    "for tag in y:\n",
    "    if tag == 'real':\n",
    "        tags.append(1)\n",
    "    if tag == 'fake':\n",
    "        tags.append(0)\n",
    "y = tags\n",
    "#print (\"tags in binary:\", y)\n",
    "\n",
    "\n",
    "X_train, X_test, Y_train, Y_test = model_selection.train_test_split( x, y, stratify=y, random_state=42,test_size=0.25)\n",
    "\n",
    "pipeline = Pipeline([\n",
    "    ('vectorizer',CountVectorizer(stop_words='english')),\n",
    "    ('classifier', SVC(kernel='linear'))])\n",
    "\n",
    "grid = {\n",
    "    'vectorizer__ngram_range': [(1, 1), (1, 2)],\n",
    "    'classifier__C':[0.01,0.1,1,10]\n",
    "}\n",
    "\n",
    "\n",
    "grid_search = GridSearchCV(pipeline, param_grid=grid, scoring='accuracy', n_jobs=-1, cv=5)\n",
    "grid_search.fit(X_train,Y_train)\n"
   ]
  },
  {
   "cell_type": "code",
   "execution_count": 60,
   "metadata": {},
   "outputs": [
    {
     "name": "stdout",
     "output_type": "stream",
     "text": [
      "Pipeline(memory=None,\n",
      "         steps=[('vectorizer',\n",
      "                 CountVectorizer(analyzer='word', binary=False,\n",
      "                                 decode_error='strict',\n",
      "                                 dtype=<class 'numpy.int64'>, encoding='utf-8',\n",
      "                                 input='content', lowercase=True, max_df=1.0,\n",
      "                                 max_features=None, min_df=1,\n",
      "                                 ngram_range=(1, 1), preprocessor=None,\n",
      "                                 stop_words='english', strip_accents=None,\n",
      "                                 token_pattern='(?u)\\\\b\\\\w\\\\w+\\\\b',\n",
      "                                 tokenizer=None, vocabulary=None)),\n",
      "                ('classifier',\n",
      "                 SVC(C=0.1, cache_size=200, class_weight=None, coef0=0.0,\n",
      "                     decision_function_shape='ovr', degree=3,\n",
      "                     gamma='auto_deprecated', kernel='linear', max_iter=-1,\n",
      "                     probability=False, random_state=None, shrinking=True,\n",
      "                     tol=0.001, verbose=False))],\n",
      "         verbose=False) \n",
      "\n",
      "\tclassifier__C: 0.1\n",
      "\tvectorizer__ngram_range: (1, 1)\n"
     ]
    }
   ],
   "source": [
    "\n",
    "print(grid_search.best_estimator_,\"\\n\")\n",
    "\n",
    "best_parameters = grid_search.best_estimator_.get_params()\n",
    "for param_name in sorted(list(grid.keys())):\n",
    "    print(\"\\t{0}: {1}\".format(param_name, best_parameters[param_name]))\n",
    "\n",
    "best_model = grid_search.best_estimator_\n",
    "y_pred=best_model.predict(X_test)\n"
   ]
  },
  {
   "cell_type": "code",
   "execution_count": 61,
   "metadata": {},
   "outputs": [
    {
     "name": "stdout",
     "output_type": "stream",
     "text": [
      "Confusion matrix \n",
      " [[30 13]\n",
      " [ 6 58]] \n",
      "\n",
      "Classification_report \n",
      "                precision    recall  f1-score   support\n",
      "\n",
      "           0       0.83      0.70      0.76        43\n",
      "           1       0.82      0.91      0.86        64\n",
      "\n",
      "    accuracy                           0.82       107\n",
      "   macro avg       0.83      0.80      0.81       107\n",
      "weighted avg       0.82      0.82      0.82       107\n",
      " \n",
      "\n",
      "Train Accuracy 0.984375\n",
      "Test Accuracy: 0.822429906542056\n",
      "roc_auc_score 0.8019622093023255\n"
     ]
    }
   ],
   "source": [
    "\n",
    "confusion=confusion_matrix(Y_test, y_pred)\n",
    "report=classification_report(Y_test,y_pred)\n",
    "false_positive_rate, true_positive_rate, thresholds = sk.metrics.roc_curve(Y_test, y_pred)\n",
    "roc_auc = sk.metrics.auc(false_positive_rate, true_positive_rate)\n",
    "print(\"Confusion matrix \\n\",confusion,\"\\n\")\n",
    "print(\"Classification_report \\n \",report,\"\\n\")\n",
    "print(\"Train Accuracy\",accuracy_score(Y_train, best_model.predict(X_train)))\n",
    "print(\"Test Accuracy:\",accuracy_score(Y_test,y_pred))\n",
    "print(\"roc_auc_score\",roc_auc)"
   ]
  },
  {
   "cell_type": "code",
   "execution_count": 62,
   "metadata": {
    "scrolled": false
   },
   "outputs": [
    {
     "data": {
      "image/png": "[encoded data removed]",
      "text/plain": [
       "<Figure size 432x288 with 2 Axes>"
      ]
     },
     "metadata": {
      "needs_background": "light"
     },
     "output_type": "display_data"
    }
   ],
   "source": [
    "#confusion matrix plot\n",
    "\n",
    "ax= plt.subplot()\n",
    "sns.heatmap(confusion, annot=True, ax = ax); #annot=True to annotate cells\n",
    "\n",
    "# labels, title and ticks\n",
    "ax.set_xlabel('Predicted labels');ax.set_ylabel('True labels'); \n",
    "ax.set_title('Confusion Matrix'); \n",
    "ax.xaxis.set_ticklabels(['real', 'fake']); ax.yaxis.set_ticklabels(['real', 'fake']);"
   ]
  },
  {
   "cell_type": "markdown",
   "metadata": {},
   "source": [
    "Exp2: Bow + Preprocessed text +Stemming\n"
   ]
  },
  {
   "cell_type": "code",
   "execution_count": 63,
   "metadata": {},
   "outputs": [
    {
     "data": {
      "text/plain": [
       "GridSearchCV(cv=5, error_score='raise-deprecating',\n",
       "             estimator=Pipeline(memory=None,\n",
       "                                steps=[('vectorizer',\n",
       "                                        CountVectorizer(analyzer='word',\n",
       "                                                        binary=False,\n",
       "                                                        decode_error='strict',\n",
       "                                                        dtype=<class 'numpy.int64'>,\n",
       "                                                        encoding='utf-8',\n",
       "                                                        input='content',\n",
       "                                                        lowercase=True,\n",
       "                                                        max_df=1.0,\n",
       "                                                        max_features=None,\n",
       "                                                        min_df=1,\n",
       "                                                        ngram_range=(1, 1),\n",
       "                                                        preprocessor=None,\n",
       "                                                        stop_words='english',\n",
       "                                                        strip_accen...\n",
       "                                            decision_function_shape='ovr',\n",
       "                                            degree=3, gamma='auto_deprecated',\n",
       "                                            kernel='linear', max_iter=-1,\n",
       "                                            probability=False,\n",
       "                                            random_state=None, shrinking=True,\n",
       "                                            tol=0.001, verbose=False))],\n",
       "                                verbose=False),\n",
       "             iid='warn', n_jobs=-1,\n",
       "             param_grid={'classifier__C': [0.01, 0.1, 1, 10],\n",
       "                         'vectorizer__ngram_range': [(1, 1), (1, 2)]},\n",
       "             pre_dispatch='2*n_jobs', refit=True, return_train_score=False,\n",
       "             scoring='accuracy', verbose=0)"
      ]
     },
     "execution_count": 63,
     "metadata": {},
     "output_type": "execute_result"
    }
   ],
   "source": [
    "x=df_balanced[\"Stemming\"]\n",
    "y=df_balanced['tag']\n",
    "\n",
    "tags = []\n",
    "for tag in y:\n",
    "    if tag == 'real':\n",
    "        tags.append(1)\n",
    "    if tag == 'fake':\n",
    "        tags.append(0)\n",
    "y = tags\n",
    "#print (\"tags in binary:\", y)\n",
    "\n",
    "\n",
    "X_train, X_test, Y_train, Y_test = model_selection.train_test_split( x, y, stratify=y, random_state=42,test_size=0.25)\n",
    "\n",
    "pipeline = Pipeline([\n",
    "    ('vectorizer',CountVectorizer(stop_words='english')),\n",
    "    ('classifier', SVC(kernel='linear'))])\n",
    "\n",
    "grid = {\n",
    "    'vectorizer__ngram_range': [(1, 1), (1, 2)],\n",
    "    'classifier__C':[0.01,0.1,1,10]\n",
    "}\n",
    "\n",
    "\n",
    "grid_search = GridSearchCV(pipeline, param_grid=grid, scoring='accuracy', n_jobs=-1, cv=5)\n",
    "grid_search.fit(X_train,Y_train)\n",
    "\n"
   ]
  },
  {
   "cell_type": "code",
   "execution_count": 64,
   "metadata": {},
   "outputs": [
    {
     "name": "stdout",
     "output_type": "stream",
     "text": [
      "Pipeline(memory=None,\n",
      "         steps=[('vectorizer',\n",
      "                 CountVectorizer(analyzer='word', binary=False,\n",
      "                                 decode_error='strict',\n",
      "                                 dtype=<class 'numpy.int64'>, encoding='utf-8',\n",
      "                                 input='content', lowercase=True, max_df=1.0,\n",
      "                                 max_features=None, min_df=1,\n",
      "                                 ngram_range=(1, 1), preprocessor=None,\n",
      "                                 stop_words='english', strip_accents=None,\n",
      "                                 token_pattern='(?u)\\\\b\\\\w\\\\w+\\\\b',\n",
      "                                 tokenizer=None, vocabulary=None)),\n",
      "                ('classifier',\n",
      "                 SVC(C=1, cache_size=200, class_weight=None, coef0=0.0,\n",
      "                     decision_function_shape='ovr', degree=3,\n",
      "                     gamma='auto_deprecated', kernel='linear', max_iter=-1,\n",
      "                     probability=False, random_state=None, shrinking=True,\n",
      "                     tol=0.001, verbose=False))],\n",
      "         verbose=False) \n",
      "\n",
      "\tclassifier__C: 1\n",
      "\tvectorizer__ngram_range: (1, 1)\n"
     ]
    }
   ],
   "source": [
    "\n",
    "print(grid_search.best_estimator_,\"\\n\")\n",
    "\n",
    "best_parameters = grid_search.best_estimator_.get_params()\n",
    "for param_name in sorted(list(grid.keys())):\n",
    "    print(\"\\t{0}: {1}\".format(param_name, best_parameters[param_name]))\n",
    "\n",
    "best_model = grid_search.best_estimator_\n",
    "y_pred=best_model.predict(X_test)\n"
   ]
  },
  {
   "cell_type": "code",
   "execution_count": 65,
   "metadata": {},
   "outputs": [
    {
     "name": "stdout",
     "output_type": "stream",
     "text": [
      "Confusion matrix \n",
      " [[34  9]\n",
      " [ 9 55]] \n",
      "\n",
      "Classification_report \n",
      "                precision    recall  f1-score   support\n",
      "\n",
      "           0       0.79      0.79      0.79        43\n",
      "           1       0.86      0.86      0.86        64\n",
      "\n",
      "    accuracy                           0.83       107\n",
      "   macro avg       0.83      0.83      0.83       107\n",
      "weighted avg       0.83      0.83      0.83       107\n",
      " \n",
      "\n",
      "Train Accuracy 1.0\n",
      "Test Accuracy: 0.8317757009345794\n",
      "roc_auc_score 0.8250363372093023\n"
     ]
    }
   ],
   "source": [
    "\n",
    "confusion=confusion_matrix(Y_test, y_pred)\n",
    "report=classification_report(Y_test,y_pred)\n",
    "false_positive_rate, true_positive_rate, thresholds = sk.metrics.roc_curve(Y_test, y_pred)\n",
    "roc_auc = sk.metrics.auc(false_positive_rate, true_positive_rate)\n",
    "print(\"Confusion matrix \\n\",confusion,\"\\n\")\n",
    "print(\"Classification_report \\n \",report,\"\\n\")\n",
    "print(\"Train Accuracy\",accuracy_score(Y_train, best_model.predict(X_train)))\n",
    "print(\"Test Accuracy:\",accuracy_score(Y_test,y_pred))\n",
    "print(\"roc_auc_score\",roc_auc)"
   ]
  },
  {
   "cell_type": "code",
   "execution_count": 66,
   "metadata": {
    "scrolled": false
   },
   "outputs": [
    {
     "data": {
      "image/png": "[encoded data removed]",
      "text/plain": [
       "<Figure size 432x288 with 2 Axes>"
      ]
     },
     "metadata": {
      "needs_background": "light"
     },
     "output_type": "display_data"
    }
   ],
   "source": [
    "#confusion matrix plot\n",
    "\n",
    "ax= plt.subplot()\n",
    "sns.heatmap(confusion, annot=True, ax = ax); #annot=True to annotate cells\n",
    "\n",
    "# labels, title and ticks\n",
    "ax.set_xlabel('Predicted labels');ax.set_ylabel('True labels'); \n",
    "ax.set_title('Confusion Matrix'); \n",
    "ax.xaxis.set_ticklabels(['real', 'fake']); ax.yaxis.set_ticklabels(['real', 'fake']);"
   ]
  },
  {
   "cell_type": "code",
   "execution_count": null,
   "metadata": {},
   "outputs": [],
   "source": []
  },
  {
   "cell_type": "markdown",
   "metadata": {},
   "source": [
    "#### Exp3- Tf-Idf+ Preprocessed text \n"
   ]
  },
  {
   "cell_type": "code",
   "execution_count": 194,
   "metadata": {},
   "outputs": [
    {
     "data": {
      "text/plain": [
       "GridSearchCV(cv=5, error_score='raise-deprecating',\n",
       "             estimator=Pipeline(memory=None,\n",
       "                                steps=[('vectorizer',\n",
       "                                        TfidfVectorizer(analyzer='word',\n",
       "                                                        binary=False,\n",
       "                                                        decode_error='strict',\n",
       "                                                        dtype=<class 'numpy.float64'>,\n",
       "                                                        encoding='utf-8',\n",
       "                                                        input='content',\n",
       "                                                        lowercase=True,\n",
       "                                                        max_df=1.0,\n",
       "                                                        max_features=None,\n",
       "                                                        min_df=1,\n",
       "                                                        ngram_range=(1, 1),\n",
       "                                                        norm='l2',\n",
       "                                                        preprocessor=None,\n",
       "                                                        smooth_idf=True,\n",
       "                                                        stop...\n",
       "                                            decision_function_shape='ovr',\n",
       "                                            degree=3, gamma='auto_deprecated',\n",
       "                                            kernel='linear', max_iter=-1,\n",
       "                                            probability=False,\n",
       "                                            random_state=None, shrinking=True,\n",
       "                                            tol=0.001, verbose=False))],\n",
       "                                verbose=False),\n",
       "             iid='warn', n_jobs=-1,\n",
       "             param_grid={'classifier__C': [0.01, 0.1, 1, 10],\n",
       "                         'vectorizer__ngram_range': [(1, 1), (1, 2)]},\n",
       "             pre_dispatch='2*n_jobs', refit=True, return_train_score=False,\n",
       "             scoring='accuracy', verbose=0)"
      ]
     },
     "execution_count": 194,
     "metadata": {},
     "output_type": "execute_result"
    }
   ],
   "source": [
    "\n",
    "x=df_balanced[\"strong_pro1\"]\n",
    "y=df_balanced['tag']\n",
    "\n",
    "tags = []\n",
    "for tag in y:\n",
    "    if tag == 'real':\n",
    "        tags.append(1)\n",
    "    if tag == 'fake':\n",
    "        tags.append(0)\n",
    "y = tags\n",
    "#print (\"tags in binary:\", y)\n",
    "\n",
    "\n",
    "X_train, X_test, Y_train, Y_test = model_selection.train_test_split( x, y, stratify=y, random_state=42,test_size=0.25)\n",
    "\n",
    "pipeline = Pipeline([\n",
    "    ('vectorizer',TfidfVectorizer(stop_words='english')),\n",
    "    ('classifier', SVC(kernel='linear'))])\n",
    "\n",
    "grid = {\n",
    "    'vectorizer__ngram_range': [(1, 1), (1, 2)],\n",
    "    'classifier__C':[0.01,0.1,1,10]\n",
    "}\n",
    "grid_search = GridSearchCV(pipeline, param_grid=grid, scoring='accuracy', n_jobs=-1, cv=5)\n",
    "grid_search.fit(X_train,Y_train)"
   ]
  },
  {
   "cell_type": "code",
   "execution_count": 69,
   "metadata": {},
   "outputs": [
    {
     "name": "stdout",
     "output_type": "stream",
     "text": [
      "Pipeline(memory=None,\n",
      "         steps=[('vectorizer',\n",
      "                 TfidfVectorizer(analyzer='word', binary=False,\n",
      "                                 decode_error='strict',\n",
      "                                 dtype=<class 'numpy.float64'>,\n",
      "                                 encoding='utf-8', input='content',\n",
      "                                 lowercase=True, max_df=1.0, max_features=None,\n",
      "                                 min_df=1, ngram_range=(1, 2), norm='l2',\n",
      "                                 preprocessor=None, smooth_idf=True,\n",
      "                                 stop_words='english', strip_accents=None,\n",
      "                                 sublinear_tf=False,\n",
      "                                 token_pattern='(?u)\\\\b\\\\w\\\\w+\\\\b',\n",
      "                                 tokenizer=None, use_idf=True,\n",
      "                                 vocabulary=None)),\n",
      "                ('classifier',\n",
      "                 SVC(C=10, cache_size=200, class_weight=None, coef0=0.0,\n",
      "                     decision_function_shape='ovr', degree=3,\n",
      "                     gamma='auto_deprecated', kernel='linear', max_iter=-1,\n",
      "                     probability=False, random_state=None, shrinking=True,\n",
      "                     tol=0.001, verbose=False))],\n",
      "         verbose=False) \n",
      "\n",
      "\tclassifier__C: 10\n",
      "\tvectorizer__ngram_range: (1, 2)\n"
     ]
    }
   ],
   "source": [
    "\n",
    "print(grid_search.best_estimator_,\"\\n\")\n",
    "\n",
    "best_parameters = grid_search.best_estimator_.get_params()\n",
    "for param_name in sorted(list(grid.keys())):\n",
    "    print(\"\\t{0}: {1}\".format(param_name, best_parameters[param_name]))\n",
    "\n",
    "best_model = grid_search.best_estimator_\n",
    "y_pred=best_model.predict(X_test)\n"
   ]
  },
  {
   "cell_type": "code",
   "execution_count": 70,
   "metadata": {},
   "outputs": [
    {
     "name": "stdout",
     "output_type": "stream",
     "text": [
      "Confusion matrix \n",
      " [[34  9]\n",
      " [ 9 55]] \n",
      "\n",
      "Classification_report \n",
      "                precision    recall  f1-score   support\n",
      "\n",
      "           0       0.79      0.79      0.79        43\n",
      "           1       0.86      0.86      0.86        64\n",
      "\n",
      "    accuracy                           0.83       107\n",
      "   macro avg       0.83      0.83      0.83       107\n",
      "weighted avg       0.83      0.83      0.83       107\n",
      " \n",
      "\n",
      "Train Accuracy 1.0\n",
      "Test Accuracy: 0.8317757009345794\n",
      "roc_auc_score 0.8250363372093023\n"
     ]
    }
   ],
   "source": [
    "confusion=confusion_matrix(Y_test, y_pred)\n",
    "report=classification_report(Y_test,y_pred)\n",
    "false_positive_rate, true_positive_rate, thresholds = sk.metrics.roc_curve(Y_test, y_pred)\n",
    "roc_auc = sk.metrics.auc(false_positive_rate, true_positive_rate)\n",
    "print(\"Confusion matrix \\n\",confusion,\"\\n\")\n",
    "print(\"Classification_report \\n \",report,\"\\n\")\n",
    "print(\"Train Accuracy\",accuracy_score(Y_train, best_model.predict(X_train)))\n",
    "print(\"Test Accuracy:\",accuracy_score(Y_test,y_pred))\n",
    "print(\"roc_auc_score\",roc_auc)"
   ]
  },
  {
   "cell_type": "code",
   "execution_count": 71,
   "metadata": {
    "scrolled": true
   },
   "outputs": [
    {
     "data": {
      "image/png": "[encoded data removed]",
      "text/plain": [
       "<Figure size 432x288 with 2 Axes>"
      ]
     },
     "metadata": {
      "needs_background": "light"
     },
     "output_type": "display_data"
    }
   ],
   "source": [
    "#confusion matrix plot\n",
    "\n",
    "ax= plt.subplot()\n",
    "sns.heatmap(confusion, annot=True, ax = ax); #annot=True to annotate cells\n",
    "\n",
    "# labels, title and ticks\n",
    "ax.set_xlabel('Predicted labels');ax.set_ylabel('True labels'); \n",
    "ax.set_title('Confusion Matrix'); \n",
    "ax.xaxis.set_ticklabels(['real', 'fake']); ax.yaxis.set_ticklabels(['real', 'fake']);"
   ]
  },
  {
   "cell_type": "code",
   "execution_count": null,
   "metadata": {},
   "outputs": [],
   "source": []
  },
  {
   "cell_type": "markdown",
   "metadata": {},
   "source": [
    "#### Exp4- Tf-Idf + Preprocessed text + Stemming"
   ]
  },
  {
   "cell_type": "code",
   "execution_count": 195,
   "metadata": {},
   "outputs": [
    {
     "data": {
      "text/plain": [
       "GridSearchCV(cv=5, error_score='raise-deprecating',\n",
       "             estimator=Pipeline(memory=None,\n",
       "                                steps=[('vectorizer',\n",
       "                                        TfidfVectorizer(analyzer='word',\n",
       "                                                        binary=False,\n",
       "                                                        decode_error='strict',\n",
       "                                                        dtype=<class 'numpy.float64'>,\n",
       "                                                        encoding='utf-8',\n",
       "                                                        input='content',\n",
       "                                                        lowercase=True,\n",
       "                                                        max_df=1.0,\n",
       "                                                        max_features=None,\n",
       "                                                        min_df=1,\n",
       "                                                        ngram_range=(1, 1),\n",
       "                                                        norm='l2',\n",
       "                                                        preprocessor=None,\n",
       "                                                        smooth_idf=True,\n",
       "                                                        stop...\n",
       "                                            decision_function_shape='ovr',\n",
       "                                            degree=3, gamma='auto_deprecated',\n",
       "                                            kernel='linear', max_iter=-1,\n",
       "                                            probability=False,\n",
       "                                            random_state=None, shrinking=True,\n",
       "                                            tol=0.001, verbose=False))],\n",
       "                                verbose=False),\n",
       "             iid='warn', n_jobs=-1,\n",
       "             param_grid={'classifier__C': [0.01, 0.1, 1, 10],\n",
       "                         'vectorizer__ngram_range': [(1, 1), (1, 2)]},\n",
       "             pre_dispatch='2*n_jobs', refit=True, return_train_score=False,\n",
       "             scoring='accuracy', verbose=0)"
      ]
     },
     "execution_count": 195,
     "metadata": {},
     "output_type": "execute_result"
    }
   ],
   "source": [
    "\n",
    "x=df_balanced[\"Stemming\"]\n",
    "y=df_balanced['tag']\n",
    "\n",
    "tags = []\n",
    "for tag in y:\n",
    "    if tag == 'real':\n",
    "        tags.append(1)\n",
    "    if tag == 'fake':\n",
    "        tags.append(0)\n",
    "y = tags\n",
    "#print (\"tags in binary:\", y)\n",
    "\n",
    "\n",
    "X_train, X_test, Y_train, Y_test = model_selection.train_test_split( x, y, stratify=y, random_state=42,test_size=0.25)\n",
    "\n",
    "pipeline = Pipeline([\n",
    "    ('vectorizer',TfidfVectorizer(stop_words='english')),\n",
    "    ('classifier', SVC(kernel='linear'))])\n",
    "\n",
    "grid = {\n",
    "    'vectorizer__ngram_range': [(1, 1), (1, 2)],\n",
    "    'classifier__C':[0.01,0.1,1,10]\n",
    "}\n",
    "grid_search = GridSearchCV(pipeline, param_grid=grid, scoring='accuracy', n_jobs=-1, cv=5)\n",
    "grid_search.fit(X_train,Y_train)\n"
   ]
  },
  {
   "cell_type": "code",
   "execution_count": 75,
   "metadata": {},
   "outputs": [
    {
     "name": "stdout",
     "output_type": "stream",
     "text": [
      "Pipeline(memory=None,\n",
      "         steps=[('vectorizer',\n",
      "                 TfidfVectorizer(analyzer='word', binary=False,\n",
      "                                 decode_error='strict',\n",
      "                                 dtype=<class 'numpy.float64'>,\n",
      "                                 encoding='utf-8', input='content',\n",
      "                                 lowercase=True, max_df=1.0, max_features=None,\n",
      "                                 min_df=1, ngram_range=(1, 2), norm='l2',\n",
      "                                 preprocessor=None, smooth_idf=True,\n",
      "                                 stop_words='english', strip_accents=None,\n",
      "                                 sublinear_tf=False,\n",
      "                                 token_pattern='(?u)\\\\b\\\\w\\\\w+\\\\b',\n",
      "                                 tokenizer=None, use_idf=True,\n",
      "                                 vocabulary=None)),\n",
      "                ('classifier',\n",
      "                 SVC(C=10, cache_size=200, class_weight=None, coef0=0.0,\n",
      "                     decision_function_shape='ovr', degree=3,\n",
      "                     gamma='auto_deprecated', kernel='linear', max_iter=-1,\n",
      "                     probability=False, random_state=None, shrinking=True,\n",
      "                     tol=0.001, verbose=False))],\n",
      "         verbose=False) \n",
      "\n",
      "\tclassifier__C: 10\n",
      "\tvectorizer__ngram_range: (1, 2)\n"
     ]
    }
   ],
   "source": [
    "print(grid_search.best_estimator_,\"\\n\")\n",
    "\n",
    "best_parameters = grid_search.best_estimator_.get_params()\n",
    "for param_name in sorted(list(grid.keys())):\n",
    "    print(\"\\t{0}: {1}\".format(param_name, best_parameters[param_name]))\n",
    "\n",
    "best_model = grid_search.best_estimator_\n",
    "y_pred=best_model.predict(X_test)\n"
   ]
  },
  {
   "cell_type": "code",
   "execution_count": 76,
   "metadata": {},
   "outputs": [
    {
     "name": "stdout",
     "output_type": "stream",
     "text": [
      "Confusion matrix \n",
      " [[36  7]\n",
      " [10 54]] \n",
      "\n",
      "Classification_report \n",
      "                precision    recall  f1-score   support\n",
      "\n",
      "           0       0.78      0.84      0.81        43\n",
      "           1       0.89      0.84      0.86        64\n",
      "\n",
      "    accuracy                           0.84       107\n",
      "   macro avg       0.83      0.84      0.84       107\n",
      "weighted avg       0.84      0.84      0.84       107\n",
      " \n",
      "\n",
      "Train Accuracy 1.0\n",
      "Test Accuracy: 0.8411214953271028\n",
      "roc_auc_score 0.8404796511627907\n"
     ]
    }
   ],
   "source": [
    "\n",
    "confusion=confusion_matrix(Y_test, y_pred)\n",
    "report=classification_report(Y_test,y_pred)\n",
    "false_positive_rate, true_positive_rate, thresholds = sk.metrics.roc_curve(Y_test, y_pred)\n",
    "roc_auc = sk.metrics.auc(false_positive_rate, true_positive_rate)\n",
    "print(\"Confusion matrix \\n\",confusion,\"\\n\")\n",
    "print(\"Classification_report \\n \",report,\"\\n\")\n",
    "print(\"Train Accuracy\",accuracy_score(Y_train, best_model.predict(X_train)))\n",
    "print(\"Test Accuracy:\",accuracy_score(Y_test,y_pred))\n",
    "print(\"roc_auc_score\",roc_auc)"
   ]
  },
  {
   "cell_type": "code",
   "execution_count": 77,
   "metadata": {
    "scrolled": true
   },
   "outputs": [
    {
     "data": {
      "image/png": "[encoded data removed]",
      "text/plain": [
       "<Figure size 432x288 with 2 Axes>"
      ]
     },
     "metadata": {
      "needs_background": "light"
     },
     "output_type": "display_data"
    }
   ],
   "source": [
    "#confusion matrix plot\n",
    "\n",
    "ax= plt.subplot()\n",
    "sns.heatmap(confusion, annot=True, ax = ax); #annot=True to annotate cells\n",
    "\n",
    "# labels, title and ticks\n",
    "ax.set_xlabel('Predicted labels');ax.set_ylabel('True labels'); \n",
    "ax.set_title('Confusion Matrix'); \n",
    "ax.xaxis.set_ticklabels(['real', 'fake']); ax.yaxis.set_ticklabels(['real', 'fake']);"
   ]
  },
  {
   "cell_type": "code",
   "execution_count": null,
   "metadata": {},
   "outputs": [],
   "source": []
  },
  {
   "cell_type": "code",
   "execution_count": null,
   "metadata": {},
   "outputs": [],
   "source": []
  },
  {
   "cell_type": "markdown",
   "metadata": {},
   "source": [
    "# Decision Tree Classifier\n"
   ]
  },
  {
   "cell_type": "markdown",
   "metadata": {},
   "source": [
    "#### Exp1: Bow + Preprocessed text"
   ]
  },
  {
   "cell_type": "code",
   "execution_count": 78,
   "metadata": {},
   "outputs": [],
   "source": [
    "x=df_balanced[\"strong_pro1\"]\n",
    "y=df_balanced['tag']\n",
    "\n",
    "X_train, X_test, Y_train, Y_test = model_selection.train_test_split( x, y, stratify=y, random_state=42,test_size=0.25)\n",
    "\n",
    "BoW=CountVectorizer(stop_words='english')\n",
    "X_train=BoW.fit_transform(X_train)\n",
    "X_test= BoW.transform(X_test)"
   ]
  },
  {
   "cell_type": "code",
   "execution_count": 79,
   "metadata": {
    "scrolled": false
   },
   "outputs": [
    {
     "data": {
      "image/png": "[encoded data removed]",
      "text/plain": [
       "<Figure size 432x288 with 1 Axes>"
      ]
     },
     "metadata": {
      "needs_background": "light"
     },
     "output_type": "display_data"
    }
   ],
   "source": [
    "# Setup arrays to store train and test accuracies\n",
    "dep = np.arange(1, 15)\n",
    "train_accuracy = np.empty(len(dep))\n",
    "test_accuracy = np.empty(len(dep))\n",
    "\n",
    "# Loop over different values of k\n",
    "for i, k in enumerate(dep):\n",
    "    # Setup a Decision Tree Classifier\n",
    "    clf = sk.tree.DecisionTreeClassifier(random_state=42,max_depth=k)\n",
    "\n",
    "    # Fit the classifier to the training data\n",
    "    clf.fit(X_train, Y_train)\n",
    "\n",
    "    #Compute accuracy on the training set\n",
    "    train_accuracy[i] = clf.score(X_train, Y_train)\n",
    "\n",
    "    #Compute accuracy on the testing set\n",
    "    test_accuracy[i] = clf.score(X_test, Y_test)\n",
    "\n",
    "# Generate plot\n",
    "plt.title('clf: Varying depth of tree')\n",
    "plt.plot(dep, test_accuracy, label = 'Testing Accuracy')\n",
    "plt.plot(dep, train_accuracy, label = 'Training Accuracy')\n",
    "plt.legend()\n",
    "plt.xlabel('Depth of tree')\n",
    "plt.ylabel('Accuracy')\n",
    "plt.show()"
   ]
  },
  {
   "cell_type": "code",
   "execution_count": 80,
   "metadata": {},
   "outputs": [
    {
     "data": {
      "text/plain": [
       "GridSearchCV(cv=5, error_score='raise-deprecating',\n",
       "             estimator=Pipeline(memory=None,\n",
       "                                steps=[('vectorizer',\n",
       "                                        CountVectorizer(analyzer='word',\n",
       "                                                        binary=False,\n",
       "                                                        decode_error='strict',\n",
       "                                                        dtype=<class 'numpy.int64'>,\n",
       "                                                        encoding='utf-8',\n",
       "                                                        input='content',\n",
       "                                                        lowercase=True,\n",
       "                                                        max_df=1.0,\n",
       "                                                        max_features=None,\n",
       "                                                        min_df=1,\n",
       "                                                        ngram_range=(1, 1),\n",
       "                                                        preprocessor=None,\n",
       "                                                        stop_words='english',\n",
       "                                                        strip_accen...\n",
       "                                                               max_leaf_nodes=None,\n",
       "                                                               min_impurity_decrease=0.0,\n",
       "                                                               min_impurity_split=None,\n",
       "                                                               min_samples_leaf=1,\n",
       "                                                               min_samples_split=2,\n",
       "                                                               min_weight_fraction_leaf=0.0,\n",
       "                                                               presort=False,\n",
       "                                                               random_state=42,\n",
       "                                                               splitter='best'))],\n",
       "                                verbose=False),\n",
       "             iid='warn', n_jobs=-1,\n",
       "             param_grid={'vectorizer__ngram_range': [(1, 1), (1, 2)]},\n",
       "             pre_dispatch='2*n_jobs', refit=True, return_train_score=False,\n",
       "             scoring='accuracy', verbose=0)"
      ]
     },
     "execution_count": 80,
     "metadata": {},
     "output_type": "execute_result"
    }
   ],
   "source": [
    "x=df_balanced[\"strong_pro1\"]\n",
    "y=df_balanced['tag']\n",
    "\n",
    "tags = []\n",
    "for tag in y:\n",
    "    if tag == 'real':\n",
    "        tags.append(1)\n",
    "    if tag == 'fake':\n",
    "        tags.append(0)\n",
    "y = tags\n",
    "#print (\"tags in binary:\", y)\n",
    "\n",
    "\n",
    "X_train, X_test, Y_train, Y_test = model_selection.train_test_split( x, y, stratify=y, random_state=42,test_size=0.25)\n",
    "\n",
    "pipeline = Pipeline([\n",
    "    ('vectorizer',CountVectorizer(stop_words='english')),\n",
    "    ('classifier', DecisionTreeClassifier(random_state=42,max_depth=9))])\n",
    "\n",
    "grid = {\n",
    "    'vectorizer__ngram_range': [(1, 1), (1, 2)],\n",
    "}\n",
    "\n",
    "\n",
    "grid_search = GridSearchCV(pipeline, param_grid=grid, scoring='accuracy', n_jobs=-1, cv=5)\n",
    "grid_search.fit(X_train,Y_train)\n"
   ]
  },
  {
   "cell_type": "code",
   "execution_count": 81,
   "metadata": {
    "scrolled": false
   },
   "outputs": [
    {
     "name": "stdout",
     "output_type": "stream",
     "text": [
      "Pipeline(memory=None,\n",
      "         steps=[('vectorizer',\n",
      "                 CountVectorizer(analyzer='word', binary=False,\n",
      "                                 decode_error='strict',\n",
      "                                 dtype=<class 'numpy.int64'>, encoding='utf-8',\n",
      "                                 input='content', lowercase=True, max_df=1.0,\n",
      "                                 max_features=None, min_df=1,\n",
      "                                 ngram_range=(1, 1), preprocessor=None,\n",
      "                                 stop_words='english', strip_accents=None,\n",
      "                                 token_pattern='(?u)\\\\b\\\\w\\\\w+\\\\b',\n",
      "                                 tokenizer=None, vocabulary=None)),\n",
      "                ('classifier',\n",
      "                 DecisionTreeClassifier(class_weight=None, criterion='gini',\n",
      "                                        max_depth=9, max_features=None,\n",
      "                                        max_leaf_nodes=None,\n",
      "                                        min_impurity_decrease=0.0,\n",
      "                                        min_impurity_split=None,\n",
      "                                        min_samples_leaf=1, min_samples_split=2,\n",
      "                                        min_weight_fraction_leaf=0.0,\n",
      "                                        presort=False, random_state=42,\n",
      "                                        splitter='best'))],\n",
      "         verbose=False) \n",
      "\n",
      "\tvectorizer__ngram_range: (1, 1)\n"
     ]
    }
   ],
   "source": [
    "print(grid_search.best_estimator_,\"\\n\")\n",
    "\n",
    "best_parameters = grid_search.best_estimator_.get_params()\n",
    "for param_name in sorted(list(grid.keys())):\n",
    "    print(\"\\t{0}: {1}\".format(param_name, best_parameters[param_name]))\n",
    "\n",
    "best_model = grid_search.best_estimator_\n",
    "y_pred=best_model.predict(X_test)\n"
   ]
  },
  {
   "cell_type": "code",
   "execution_count": 82,
   "metadata": {
    "scrolled": true
   },
   "outputs": [
    {
     "name": "stdout",
     "output_type": "stream",
     "text": [
      "Confusion matrix \n",
      " [[24 19]\n",
      " [ 2 62]] \n",
      "\n",
      "Classification_report \n",
      "                precision    recall  f1-score   support\n",
      "\n",
      "           0       0.92      0.56      0.70        43\n",
      "           1       0.77      0.97      0.86        64\n",
      "\n",
      "    accuracy                           0.80       107\n",
      "   macro avg       0.84      0.76      0.78       107\n",
      "weighted avg       0.83      0.80      0.79       107\n",
      " \n",
      "\n",
      "Train Accuracy 0.828125\n",
      "Test Accuracy: 0.8037383177570093\n",
      "roc_auc_score 0.7634447674418604\n"
     ]
    }
   ],
   "source": [
    "\n",
    "confusion=confusion_matrix(Y_test, y_pred)\n",
    "report=classification_report(Y_test,y_pred)\n",
    "false_positive_rate, true_positive_rate, thresholds = sk.metrics.roc_curve(Y_test, y_pred)\n",
    "roc_auc = sk.metrics.auc(false_positive_rate, true_positive_rate)\n",
    "print(\"Confusion matrix \\n\",confusion,\"\\n\")\n",
    "print(\"Classification_report \\n \",report,\"\\n\")\n",
    "# check the performance of model on both, train and validation. If training accuracy \n",
    "#is extremely high and testing is not the same, then the model is overfitting.\n",
    "print(\"Train Accuracy\",accuracy_score(Y_train, best_model.predict(X_train)))\n",
    "print(\"Test Accuracy:\",accuracy_score(Y_test,y_pred))\n",
    "print(\"roc_auc_score\",roc_auc)"
   ]
  },
  {
   "cell_type": "code",
   "execution_count": 83,
   "metadata": {
    "scrolled": false
   },
   "outputs": [
    {
     "data": {
      "image/png": "[encoded data removed]",
      "text/plain": [
       "<Figure size 432x288 with 2 Axes>"
      ]
     },
     "metadata": {
      "needs_background": "light"
     },
     "output_type": "display_data"
    }
   ],
   "source": [
    "#confusion matrix plot\n",
    "\n",
    "ax= plt.subplot()\n",
    "sns.heatmap(confusion, annot=True, ax = ax); #annot=True to annotate cells\n",
    "\n",
    "# labels, title and ticks\n",
    "ax.set_xlabel('Predicted labels');ax.set_ylabel('True labels'); \n",
    "ax.set_title('Confusion Matrix'); \n",
    "ax.xaxis.set_ticklabels(['real', 'fake']); ax.yaxis.set_ticklabels(['real', 'fake']);"
   ]
  },
  {
   "cell_type": "code",
   "execution_count": null,
   "metadata": {},
   "outputs": [],
   "source": []
  },
  {
   "cell_type": "markdown",
   "metadata": {},
   "source": [
    "#### Exp2: Bow + Preprocessed text +Stemming\n"
   ]
  },
  {
   "cell_type": "code",
   "execution_count": 84,
   "metadata": {},
   "outputs": [],
   "source": [
    "x=df_balanced[\"Stemming\"]\n",
    "y=df_balanced['tag']\n",
    "\n",
    "X_train, X_test, Y_train, Y_test = model_selection.train_test_split( x, y, stratify=y, random_state=42,test_size=0.25)\n",
    "\n",
    "BoW=CountVectorizer(stop_words='english')\n",
    "X_train=BoW.fit_transform(X_train)\n",
    "X_test= BoW.transform(X_test)"
   ]
  },
  {
   "cell_type": "code",
   "execution_count": 85,
   "metadata": {
    "scrolled": false
   },
   "outputs": [
    {
     "data": {
      "image/png": "[encoded data removed]",
      "text/plain": [
       "<Figure size 432x288 with 1 Axes>"
      ]
     },
     "metadata": {
      "needs_background": "light"
     },
     "output_type": "display_data"
    }
   ],
   "source": [
    "# Setup arrays to store train and test accuracies\n",
    "dep = np.arange(1, 15)\n",
    "train_accuracy = np.empty(len(dep))\n",
    "test_accuracy = np.empty(len(dep))\n",
    "\n",
    "# Loop over different values of k\n",
    "for i, k in enumerate(dep):\n",
    "    # Setup a Decision Tree Classifier\n",
    "    clf = sk.tree.DecisionTreeClassifier(random_state=42,max_depth=k)\n",
    "\n",
    "    # Fit the classifier to the training data\n",
    "    clf.fit(X_train, Y_train)\n",
    "\n",
    "    #Compute accuracy on the training set\n",
    "    train_accuracy[i] = clf.score(X_train, Y_train)\n",
    "\n",
    "    #Compute accuracy on the testing set\n",
    "    test_accuracy[i] = clf.score(X_test, Y_test)\n",
    "\n",
    "# Generate plot\n",
    "plt.title('clf:  ')\n",
    "plt.plot(dep, test_accuracy, label = 'Testing Accuracy')\n",
    "plt.plot(dep, train_accuracy, label = 'Training Accuracy')\n",
    "plt.legend()\n",
    "plt.xlabel('Depth of tree')\n",
    "plt.ylabel('Accuracy')\n",
    "plt.show()"
   ]
  },
  {
   "cell_type": "code",
   "execution_count": 86,
   "metadata": {},
   "outputs": [],
   "source": [
    "x=df_balanced[\"Stemming\"]\n",
    "y=df_balanced['tag']\n",
    "\n",
    "tags = []\n",
    "for tag in y:\n",
    "    if tag == 'real':\n",
    "        tags.append(1)\n",
    "    if tag == 'fake':\n",
    "        tags.append(0)\n",
    "y = tags\n",
    "#print (\"tags in binary:\", y)\n",
    "\n",
    "\n",
    "X_train, X_test, Y_train, Y_test = model_selection.train_test_split( x, y, stratify=y, random_state=42,test_size=0.25)\n",
    "\n",
    "pipeline = Pipeline([\n",
    "    ('vectorizer',CountVectorizer(stop_words='english')),\n",
    "    ('classifier', DecisionTreeClassifier(random_state=42,max_depth=6))])\n",
    "\n"
   ]
  },
  {
   "cell_type": "code",
   "execution_count": 87,
   "metadata": {
    "scrolled": true
   },
   "outputs": [
    {
     "data": {
      "text/plain": [
       "GridSearchCV(cv=5, error_score='raise-deprecating',\n",
       "             estimator=Pipeline(memory=None,\n",
       "                                steps=[('vectorizer',\n",
       "                                        CountVectorizer(analyzer='word',\n",
       "                                                        binary=False,\n",
       "                                                        decode_error='strict',\n",
       "                                                        dtype=<class 'numpy.int64'>,\n",
       "                                                        encoding='utf-8',\n",
       "                                                        input='content',\n",
       "                                                        lowercase=True,\n",
       "                                                        max_df=1.0,\n",
       "                                                        max_features=None,\n",
       "                                                        min_df=1,\n",
       "                                                        ngram_range=(1, 1),\n",
       "                                                        preprocessor=None,\n",
       "                                                        stop_words='english',\n",
       "                                                        strip_accen...\n",
       "                                                               max_leaf_nodes=None,\n",
       "                                                               min_impurity_decrease=0.0,\n",
       "                                                               min_impurity_split=None,\n",
       "                                                               min_samples_leaf=1,\n",
       "                                                               min_samples_split=2,\n",
       "                                                               min_weight_fraction_leaf=0.0,\n",
       "                                                               presort=False,\n",
       "                                                               random_state=42,\n",
       "                                                               splitter='best'))],\n",
       "                                verbose=False),\n",
       "             iid='warn', n_jobs=-1,\n",
       "             param_grid={'vectorizer__ngram_range': [(1, 1), (1, 2)]},\n",
       "             pre_dispatch='2*n_jobs', refit=True, return_train_score=False,\n",
       "             scoring='accuracy', verbose=0)"
      ]
     },
     "execution_count": 87,
     "metadata": {},
     "output_type": "execute_result"
    }
   ],
   "source": [
    "grid = {\n",
    "    'vectorizer__ngram_range': [(1, 1), (1, 2)],\n",
    "}\n",
    "grid_search = GridSearchCV(pipeline, param_grid=grid, scoring='accuracy', n_jobs=-1, cv=5)\n",
    "grid_search.fit(X_train,Y_train)\n"
   ]
  },
  {
   "cell_type": "code",
   "execution_count": 88,
   "metadata": {
    "scrolled": true
   },
   "outputs": [
    {
     "name": "stdout",
     "output_type": "stream",
     "text": [
      "Pipeline(memory=None,\n",
      "         steps=[('vectorizer',\n",
      "                 CountVectorizer(analyzer='word', binary=False,\n",
      "                                 decode_error='strict',\n",
      "                                 dtype=<class 'numpy.int64'>, encoding='utf-8',\n",
      "                                 input='content', lowercase=True, max_df=1.0,\n",
      "                                 max_features=None, min_df=1,\n",
      "                                 ngram_range=(1, 2), preprocessor=None,\n",
      "                                 stop_words='english', strip_accents=None,\n",
      "                                 token_pattern='(?u)\\\\b\\\\w\\\\w+\\\\b',\n",
      "                                 tokenizer=None, vocabulary=None)),\n",
      "                ('classifier',\n",
      "                 DecisionTreeClassifier(class_weight=None, criterion='gini',\n",
      "                                        max_depth=6, max_features=None,\n",
      "                                        max_leaf_nodes=None,\n",
      "                                        min_impurity_decrease=0.0,\n",
      "                                        min_impurity_split=None,\n",
      "                                        min_samples_leaf=1, min_samples_split=2,\n",
      "                                        min_weight_fraction_leaf=0.0,\n",
      "                                        presort=False, random_state=42,\n",
      "                                        splitter='best'))],\n",
      "         verbose=False) \n",
      "\n",
      "\tvectorizer__ngram_range: (1, 2)\n"
     ]
    }
   ],
   "source": [
    "print(grid_search.best_estimator_,\"\\n\")\n",
    "\n",
    "best_parameters = grid_search.best_estimator_.get_params()\n",
    "for param_name in sorted(list(grid.keys())):\n",
    "    print(\"\\t{0}: {1}\".format(param_name, best_parameters[param_name]))\n"
   ]
  },
  {
   "cell_type": "code",
   "execution_count": 89,
   "metadata": {},
   "outputs": [
    {
     "name": "stdout",
     "output_type": "stream",
     "text": [
      "Confusion matrix \n",
      " [[24 19]\n",
      " [ 1 63]] \n",
      "\n",
      "Classification_report \n",
      "                precision    recall  f1-score   support\n",
      "\n",
      "           0       0.96      0.56      0.71        43\n",
      "           1       0.77      0.98      0.86        64\n",
      "\n",
      "    accuracy                           0.81       107\n",
      "   macro avg       0.86      0.77      0.78       107\n",
      "weighted avg       0.85      0.81      0.80       107\n",
      " \n",
      "\n",
      "Train Accuracy 0.8\n",
      "Test Accuracy: 0.8130841121495327\n",
      "roc_auc_score 0.7712572674418605\n"
     ]
    }
   ],
   "source": [
    "best_model = grid_search.best_estimator_\n",
    "y_pred=best_model.predict(X_test)\n",
    "\n",
    "confusion=confusion_matrix(Y_test, y_pred)\n",
    "report=classification_report(Y_test,y_pred)\n",
    "false_positive_rate, true_positive_rate, thresholds = sk.metrics.roc_curve(Y_test, y_pred)\n",
    "roc_auc = sk.metrics.auc(false_positive_rate, true_positive_rate)\n",
    "print(\"Confusion matrix \\n\",confusion,\"\\n\")\n",
    "print(\"Classification_report \\n \",report,\"\\n\")\n",
    "print(\"Train Accuracy\",accuracy_score(Y_train, best_model.predict(X_train)))\n",
    "print(\"Test Accuracy:\",accuracy_score(Y_test,y_pred))\n",
    "print(\"roc_auc_score\",roc_auc)"
   ]
  },
  {
   "cell_type": "code",
   "execution_count": 90,
   "metadata": {
    "scrolled": true
   },
   "outputs": [
    {
     "data": {
      "image/png": "[encoded data removed]",
      "text/plain": [
       "<Figure size 432x288 with 2 Axes>"
      ]
     },
     "metadata": {
      "needs_background": "light"
     },
     "output_type": "display_data"
    }
   ],
   "source": [
    "#confusion matrix plot\n",
    "\n",
    "ax= plt.subplot()\n",
    "sns.heatmap(confusion, annot=True, ax = ax); #annot=True to annotate cells\n",
    "\n",
    "# labels, title and ticks\n",
    "ax.set_xlabel('Predicted labels');ax.set_ylabel('True labels'); \n",
    "ax.set_title('Confusion Matrix'); \n",
    "ax.xaxis.set_ticklabels(['real', 'fake']); ax.yaxis.set_ticklabels(['real', 'fake']);"
   ]
  },
  {
   "cell_type": "code",
   "execution_count": null,
   "metadata": {},
   "outputs": [],
   "source": []
  },
  {
   "cell_type": "markdown",
   "metadata": {},
   "source": [
    "#### Exp3- Tf-Idf+ Preprocessed text \n"
   ]
  },
  {
   "cell_type": "code",
   "execution_count": 91,
   "metadata": {},
   "outputs": [],
   "source": [
    "x=df_balanced[\"strong_pro1\"]\n",
    "y=df_balanced['tag']\n",
    "\n",
    "X_train, X_test, Y_train, Y_test = model_selection.train_test_split( x, y, stratify=y, random_state=42,test_size=0.25)\n",
    "\n",
    "BoW=TfidfVectorizer(stop_words='english')\n",
    "X_train=BoW.fit_transform(X_train)\n",
    "X_test= BoW.transform(X_test)\n",
    "\n"
   ]
  },
  {
   "cell_type": "code",
   "execution_count": 92,
   "metadata": {
    "scrolled": true
   },
   "outputs": [
    {
     "data": {
      "image/png": "[encoded data removed]",
      "text/plain": [
       "<Figure size 432x288 with 1 Axes>"
      ]
     },
     "metadata": {
      "needs_background": "light"
     },
     "output_type": "display_data"
    }
   ],
   "source": [
    "# Setup arrays to store train and test accuracies\n",
    "dep = np.arange(1, 15)\n",
    "train_accuracy = np.empty(len(dep))\n",
    "test_accuracy = np.empty(len(dep))\n",
    "\n",
    "# Loop over different values of k\n",
    "for i, k in enumerate(dep):\n",
    "    # Setup a Decision Tree Classifier\n",
    "    clf = sk.tree.DecisionTreeClassifier(random_state=42,max_depth=k)\n",
    "\n",
    "    # Fit the classifier to the training data\n",
    "    clf.fit(X_train, Y_train)\n",
    "\n",
    "    #Compute accuracy on the training set\n",
    "    train_accuracy[i] = clf.score(X_train, Y_train)\n",
    "\n",
    "    #Compute accuracy on the testing set\n",
    "    test_accuracy[i] = clf.score(X_test, Y_test)\n",
    "\n",
    "# Generate plot\n",
    "plt.title('clf: Varying depth of tree')\n",
    "plt.plot(dep, test_accuracy, label = 'Testing Accuracy')\n",
    "plt.plot(dep, train_accuracy, label = 'Training Accuracy')\n",
    "plt.legend()\n",
    "plt.xlabel('Depth of tree')\n",
    "plt.ylabel('Accuracy')\n",
    "plt.show()"
   ]
  },
  {
   "cell_type": "code",
   "execution_count": 93,
   "metadata": {},
   "outputs": [],
   "source": [
    "x=df_balanced[\"strong_pro1\"]\n",
    "y=df_balanced['tag']\n",
    "\n",
    "tags = []\n",
    "for tag in y:\n",
    "    if tag == 'real':\n",
    "        tags.append(1)\n",
    "    if tag == 'fake':\n",
    "        tags.append(0)\n",
    "y = tags\n",
    "#print (\"tags in binary:\", y)\n",
    "\n",
    "X_train, X_test, Y_train, Y_test = model_selection.train_test_split( x, y, stratify=y, random_state=42,test_size=0.25)\n",
    "\n",
    "pipeline = Pipeline([\n",
    "    ('vectorizer',TfidfVectorizer(stop_words='english')),\n",
    "    ('classifier', DecisionTreeClassifier(random_state=42,max_depth=9))])\n"
   ]
  },
  {
   "cell_type": "code",
   "execution_count": 94,
   "metadata": {},
   "outputs": [],
   "source": [
    "grid = {\n",
    "    'vectorizer__ngram_range': [(1, 1), (1, 2)],\n",
    "}"
   ]
  },
  {
   "cell_type": "code",
   "execution_count": 95,
   "metadata": {
    "scrolled": true
   },
   "outputs": [
    {
     "data": {
      "text/plain": [
       "GridSearchCV(cv=5, error_score='raise-deprecating',\n",
       "             estimator=Pipeline(memory=None,\n",
       "                                steps=[('vectorizer',\n",
       "                                        TfidfVectorizer(analyzer='word',\n",
       "                                                        binary=False,\n",
       "                                                        decode_error='strict',\n",
       "                                                        dtype=<class 'numpy.float64'>,\n",
       "                                                        encoding='utf-8',\n",
       "                                                        input='content',\n",
       "                                                        lowercase=True,\n",
       "                                                        max_df=1.0,\n",
       "                                                        max_features=None,\n",
       "                                                        min_df=1,\n",
       "                                                        ngram_range=(1, 1),\n",
       "                                                        norm='l2',\n",
       "                                                        preprocessor=None,\n",
       "                                                        smooth_idf=True,\n",
       "                                                        stop...\n",
       "                                                               max_leaf_nodes=None,\n",
       "                                                               min_impurity_decrease=0.0,\n",
       "                                                               min_impurity_split=None,\n",
       "                                                               min_samples_leaf=1,\n",
       "                                                               min_samples_split=2,\n",
       "                                                               min_weight_fraction_leaf=0.0,\n",
       "                                                               presort=False,\n",
       "                                                               random_state=42,\n",
       "                                                               splitter='best'))],\n",
       "                                verbose=False),\n",
       "             iid='warn', n_jobs=-1,\n",
       "             param_grid={'vectorizer__ngram_range': [(1, 1), (1, 2)]},\n",
       "             pre_dispatch='2*n_jobs', refit=True, return_train_score=False,\n",
       "             scoring='accuracy', verbose=0)"
      ]
     },
     "execution_count": 95,
     "metadata": {},
     "output_type": "execute_result"
    }
   ],
   "source": [
    "\n",
    "grid_search = GridSearchCV(pipeline, param_grid=grid, scoring='accuracy', n_jobs=-1, cv=5)\n",
    "grid_search.fit(X_train,Y_train)\n"
   ]
  },
  {
   "cell_type": "code",
   "execution_count": 96,
   "metadata": {
    "scrolled": false
   },
   "outputs": [
    {
     "name": "stdout",
     "output_type": "stream",
     "text": [
      "Pipeline(memory=None,\n",
      "         steps=[('vectorizer',\n",
      "                 TfidfVectorizer(analyzer='word', binary=False,\n",
      "                                 decode_error='strict',\n",
      "                                 dtype=<class 'numpy.float64'>,\n",
      "                                 encoding='utf-8', input='content',\n",
      "                                 lowercase=True, max_df=1.0, max_features=None,\n",
      "                                 min_df=1, ngram_range=(1, 1), norm='l2',\n",
      "                                 preprocessor=None, smooth_idf=True,\n",
      "                                 stop_words='english', strip_accents=None,\n",
      "                                 sublinear_tf=False,\n",
      "                                 token...,\n",
      "                                 tokenizer=None, use_idf=True,\n",
      "                                 vocabulary=None)),\n",
      "                ('classifier',\n",
      "                 DecisionTreeClassifier(class_weight=None, criterion='gini',\n",
      "                                        max_depth=9, max_features=None,\n",
      "                                        max_leaf_nodes=None,\n",
      "                                        min_impurity_decrease=0.0,\n",
      "                                        min_impurity_split=None,\n",
      "                                        min_samples_leaf=1, min_samples_split=2,\n",
      "                                        min_weight_fraction_leaf=0.0,\n",
      "                                        presort=False, random_state=42,\n",
      "                                        splitter='best'))],\n",
      "         verbose=False) \n",
      "\n",
      "\tvectorizer__ngram_range: (1, 1)\n"
     ]
    }
   ],
   "source": [
    "print(grid_search.best_estimator_,\"\\n\")\n",
    "\n",
    "best_parameters = grid_search.best_estimator_.get_params()\n",
    "for param_name in sorted(list(grid.keys())):\n",
    "    print(\"\\t{0}: {1}\".format(param_name, best_parameters[param_name]))\n"
   ]
  },
  {
   "cell_type": "code",
   "execution_count": 97,
   "metadata": {
    "scrolled": false
   },
   "outputs": [
    {
     "name": "stdout",
     "output_type": "stream",
     "text": [
      "Confusion matrix \n",
      " [[21 22]\n",
      " [ 4 60]] \n",
      "\n",
      "Classification_report \n",
      "                precision    recall  f1-score   support\n",
      "\n",
      "           0       0.84      0.49      0.62        43\n",
      "           1       0.73      0.94      0.82        64\n",
      "\n",
      "    accuracy                           0.76       107\n",
      "   macro avg       0.79      0.71      0.72       107\n",
      "weighted avg       0.78      0.76      0.74       107\n",
      " \n",
      "\n",
      "Train Accuracy 0.84375\n",
      "Test Accuracy: 0.7570093457943925\n",
      "roc_auc_score 0.7129360465116279\n"
     ]
    }
   ],
   "source": [
    "best_model = grid_search.best_estimator_\n",
    "y_pred=best_model.predict(X_test)\n",
    "\n",
    "confusion=confusion_matrix(Y_test, y_pred)\n",
    "report=classification_report(Y_test,y_pred)\n",
    "false_positive_rate, true_positive_rate, thresholds = sk.metrics.roc_curve(Y_test, y_pred)\n",
    "roc_auc = sk.metrics.auc(false_positive_rate, true_positive_rate)\n",
    "print(\"Confusion matrix \\n\",confusion,\"\\n\")\n",
    "print(\"Classification_report \\n \",report,\"\\n\")\n",
    "print(\"Train Accuracy\",accuracy_score(Y_train, best_model.predict(X_train)))\n",
    "print(\"Test Accuracy:\",accuracy_score(Y_test,y_pred))\n",
    "print(\"roc_auc_score\",roc_auc)"
   ]
  },
  {
   "cell_type": "code",
   "execution_count": 98,
   "metadata": {
    "scrolled": true
   },
   "outputs": [
    {
     "data": {
      "image/png": "[encoded data removed]",
      "text/plain": [
       "<Figure size 432x288 with 2 Axes>"
      ]
     },
     "metadata": {
      "needs_background": "light"
     },
     "output_type": "display_data"
    }
   ],
   "source": [
    "#confusion matrix plot\n",
    "\n",
    "ax= plt.subplot()\n",
    "sns.heatmap(confusion, annot=True, ax = ax); #annot=True to annotate cells\n",
    "\n",
    "# labels, title and ticks\n",
    "ax.set_xlabel('Predicted labels');ax.set_ylabel('True labels'); \n",
    "ax.set_title('Confusion Matrix'); \n",
    "ax.xaxis.set_ticklabels(['real', 'fake']); ax.yaxis.set_ticklabels(['real', 'fake']);"
   ]
  },
  {
   "cell_type": "code",
   "execution_count": null,
   "metadata": {},
   "outputs": [],
   "source": []
  },
  {
   "cell_type": "markdown",
   "metadata": {},
   "source": [
    "#### Exp4- Tf-Idf + Preprocessed text + Stemming "
   ]
  },
  {
   "cell_type": "code",
   "execution_count": 99,
   "metadata": {},
   "outputs": [],
   "source": [
    "x=df_balanced[\"Stemming\"]\n",
    "y=df_balanced['tag']\n",
    "\n",
    "X_train, X_test, Y_train, Y_test = model_selection.train_test_split( x, y, stratify=y, random_state=42,test_size=0.25)\n",
    "\n",
    "BoW=TfidfVectorizer(stop_words='english')\n",
    "X_train=BoW.fit_transform(X_train)\n",
    "X_test= BoW.transform(X_test)"
   ]
  },
  {
   "cell_type": "code",
   "execution_count": 100,
   "metadata": {
    "scrolled": false
   },
   "outputs": [
    {
     "data": {
      "image/png": "[encoded data removed]",
      "text/plain": [
       "<Figure size 432x288 with 1 Axes>"
      ]
     },
     "metadata": {
      "needs_background": "light"
     },
     "output_type": "display_data"
    }
   ],
   "source": [
    "# Setup arrays to store train and test accuracies\n",
    "dep = np.arange(1, 15)\n",
    "train_accuracy = np.empty(len(dep))\n",
    "test_accuracy = np.empty(len(dep))\n",
    "\n",
    "# Loop over different values of k\n",
    "for i, k in enumerate(dep):\n",
    "    # Setup a Decision Tree Classifier\n",
    "    clf = sk.tree.DecisionTreeClassifier(random_state=42,max_depth=k)\n",
    "\n",
    "    # Fit the classifier to the training data\n",
    "    clf.fit(X_train, Y_train)\n",
    "\n",
    "    #Compute accuracy on the training set\n",
    "    train_accuracy[i] = clf.score(X_train, Y_train)\n",
    "\n",
    "    #Compute accuracy on the testing set\n",
    "    test_accuracy[i] = clf.score(X_test, Y_test)\n",
    "\n",
    "# Generate plot\n",
    "plt.title('clf: Varying depth of tree')\n",
    "plt.plot(dep, test_accuracy, label = 'Testing Accuracy')\n",
    "plt.plot(dep, train_accuracy, label = 'Training Accuracy')\n",
    "plt.legend()\n",
    "plt.xlabel('Depth of tree')\n",
    "plt.ylabel('Accuracy')\n",
    "plt.show()"
   ]
  },
  {
   "cell_type": "code",
   "execution_count": 101,
   "metadata": {},
   "outputs": [],
   "source": [
    "\n",
    "\n",
    "x=df_balanced[\"Stemming\"]\n",
    "y=df_balanced['tag']\n",
    "\n",
    "tags = []\n",
    "for tag in y:\n",
    "    if tag == 'real':\n",
    "        tags.append(1)\n",
    "    if tag == 'fake':\n",
    "        tags.append(0)\n",
    "y = tags\n",
    "#print (\"tags in binary:\", y)\n",
    "\n",
    "\n",
    "X_train, X_test, Y_train, Y_test = model_selection.train_test_split( x, y, stratify=y, random_state=42,test_size=0.25)\n",
    "\n",
    "pipeline = Pipeline([\n",
    "    ('vectorizer',TfidfVectorizer(stop_words='english')),\n",
    "    ('classifier', DecisionTreeClassifier(random_state=42,max_depth= 5))])\n"
   ]
  },
  {
   "cell_type": "code",
   "execution_count": 102,
   "metadata": {},
   "outputs": [],
   "source": [
    "grid = {\n",
    "    'vectorizer__ngram_range': [(1, 1), (1, 2)],\n",
    "}"
   ]
  },
  {
   "cell_type": "code",
   "execution_count": 103,
   "metadata": {
    "scrolled": true
   },
   "outputs": [
    {
     "data": {
      "text/plain": [
       "GridSearchCV(cv=5, error_score='raise-deprecating',\n",
       "             estimator=Pipeline(memory=None,\n",
       "                                steps=[('vectorizer',\n",
       "                                        TfidfVectorizer(analyzer='word',\n",
       "                                                        binary=False,\n",
       "                                                        decode_error='strict',\n",
       "                                                        dtype=<class 'numpy.float64'>,\n",
       "                                                        encoding='utf-8',\n",
       "                                                        input='content',\n",
       "                                                        lowercase=True,\n",
       "                                                        max_df=1.0,\n",
       "                                                        max_features=None,\n",
       "                                                        min_df=1,\n",
       "                                                        ngram_range=(1, 1),\n",
       "                                                        norm='l2',\n",
       "                                                        preprocessor=None,\n",
       "                                                        smooth_idf=True,\n",
       "                                                        stop...\n",
       "                                                               max_leaf_nodes=None,\n",
       "                                                               min_impurity_decrease=0.0,\n",
       "                                                               min_impurity_split=None,\n",
       "                                                               min_samples_leaf=1,\n",
       "                                                               min_samples_split=2,\n",
       "                                                               min_weight_fraction_leaf=0.0,\n",
       "                                                               presort=False,\n",
       "                                                               random_state=42,\n",
       "                                                               splitter='best'))],\n",
       "                                verbose=False),\n",
       "             iid='warn', n_jobs=-1,\n",
       "             param_grid={'vectorizer__ngram_range': [(1, 1), (1, 2)]},\n",
       "             pre_dispatch='2*n_jobs', refit=True, return_train_score=False,\n",
       "             scoring='accuracy', verbose=0)"
      ]
     },
     "execution_count": 103,
     "metadata": {},
     "output_type": "execute_result"
    }
   ],
   "source": [
    "\n",
    "grid_search = GridSearchCV(pipeline, param_grid=grid, scoring='accuracy', n_jobs=-1, cv=5)\n",
    "grid_search.fit(X_train,Y_train)"
   ]
  },
  {
   "cell_type": "code",
   "execution_count": 104,
   "metadata": {
    "scrolled": false
   },
   "outputs": [
    {
     "name": "stdout",
     "output_type": "stream",
     "text": [
      "Pipeline(memory=None,\n",
      "         steps=[('vectorizer',\n",
      "                 TfidfVectorizer(analyzer='word', binary=False,\n",
      "                                 decode_error='strict',\n",
      "                                 dtype=<class 'numpy.float64'>,\n",
      "                                 encoding='utf-8', input='content',\n",
      "                                 lowercase=True, max_df=1.0, max_features=None,\n",
      "                                 min_df=1, ngram_range=(1, 2), norm='l2',\n",
      "                                 preprocessor=None, smooth_idf=True,\n",
      "                                 stop_words='english', strip_accents=None,\n",
      "                                 sublinear_tf=False,\n",
      "                                 token...,\n",
      "                                 tokenizer=None, use_idf=True,\n",
      "                                 vocabulary=None)),\n",
      "                ('classifier',\n",
      "                 DecisionTreeClassifier(class_weight=None, criterion='gini',\n",
      "                                        max_depth=5, max_features=None,\n",
      "                                        max_leaf_nodes=None,\n",
      "                                        min_impurity_decrease=0.0,\n",
      "                                        min_impurity_split=None,\n",
      "                                        min_samples_leaf=1, min_samples_split=2,\n",
      "                                        min_weight_fraction_leaf=0.0,\n",
      "                                        presort=False, random_state=42,\n",
      "                                        splitter='best'))],\n",
      "         verbose=False) \n",
      "\n",
      "\tvectorizer__ngram_range: (1, 2)\n"
     ]
    }
   ],
   "source": [
    "print(grid_search.best_estimator_,\"\\n\")\n",
    "\n",
    "best_parameters = grid_search.best_estimator_.get_params()\n",
    "for param_name in sorted(list(grid.keys())):\n",
    "    print(\"\\t{0}: {1}\".format(param_name, best_parameters[param_name]))\n",
    "\n"
   ]
  },
  {
   "cell_type": "code",
   "execution_count": 105,
   "metadata": {},
   "outputs": [
    {
     "name": "stdout",
     "output_type": "stream",
     "text": [
      "Confusion matrix \n",
      " [[23 20]\n",
      " [ 1 63]] \n",
      "\n",
      "Classification_report \n",
      "                precision    recall  f1-score   support\n",
      "\n",
      "           0       0.96      0.53      0.69        43\n",
      "           1       0.76      0.98      0.86        64\n",
      "\n",
      "    accuracy                           0.80       107\n",
      "   macro avg       0.86      0.76      0.77       107\n",
      "weighted avg       0.84      0.80      0.79       107\n",
      " \n",
      "\n",
      "Train Accuracy 0.784375\n",
      "Test Accuracy: 0.8037383177570093\n",
      "roc_auc_score 0.7596293604651163\n"
     ]
    }
   ],
   "source": [
    "best_model = grid_search.best_estimator_\n",
    "y_pred=best_model.predict(X_test)\n",
    "\n",
    "confusion=confusion_matrix(Y_test, y_pred)\n",
    "report=classification_report(Y_test,y_pred)\n",
    "false_positive_rate, true_positive_rate, thresholds = sk.metrics.roc_curve(Y_test, y_pred)\n",
    "roc_auc = sk.metrics.auc(false_positive_rate, true_positive_rate)\n",
    "print(\"Confusion matrix \\n\",confusion,\"\\n\")\n",
    "print(\"Classification_report \\n \",report,\"\\n\")\n",
    "print(\"Train Accuracy\",accuracy_score(Y_train, best_model.predict(X_train)))\n",
    "print(\"Test Accuracy:\",accuracy_score(Y_test,y_pred))\n",
    "print(\"roc_auc_score\",roc_auc)"
   ]
  },
  {
   "cell_type": "code",
   "execution_count": 106,
   "metadata": {
    "scrolled": true
   },
   "outputs": [
    {
     "data": {
      "image/png": "[encoded data removed]",
      "text/plain": [
       "<Figure size 432x288 with 2 Axes>"
      ]
     },
     "metadata": {
      "needs_background": "light"
     },
     "output_type": "display_data"
    }
   ],
   "source": [
    "#confusion matrix plot\n",
    "\n",
    "ax= plt.subplot()\n",
    "sns.heatmap(confusion, annot=True, ax = ax); #annot=True to annotate cells\n",
    "\n",
    "# labels, title and ticks\n",
    "ax.set_xlabel('Predicted labels');ax.set_ylabel('True labels'); \n",
    "ax.set_title('Confusion Matrix'); \n",
    "ax.xaxis.set_ticklabels(['real', 'fake']); ax.yaxis.set_ticklabels(['real', 'fake']);"
   ]
  },
  {
   "cell_type": "code",
   "execution_count": null,
   "metadata": {},
   "outputs": [],
   "source": []
  }
 ],
 "metadata": {
  "kernelspec": {
   "display_name": "Python 3",
   "language": "python",
   "name": "python3"
  },
  "language_info": {
   "codemirror_mode": {
    "name": "ipython",
    "version": 3
   },
   "file_extension": ".py",
   "mimetype": "text/x-python",
   "name": "python",
   "nbconvert_exporter": "python",
   "pygments_lexer": "ipython3",
   "version": "3.7.3"
  }
 },
 "nbformat": 4,
 "nbformat_minor": 2
}
